{
 "cells": [
  {
   "cell_type": "markdown",
   "id": "b68df3cf",
   "metadata": {},
   "source": [
    "# Lottery Winnings Calculator "
   ]
  },
  {
   "cell_type": "code",
   "execution_count": 1,
   "id": "4038032e",
   "metadata": {
    "scrolled": false
   },
   "outputs": [
    {
     "name": "stdout",
     "output_type": "stream",
     "text": [
      "How much did you win? 10000\n",
      "How many people are splitting the winnings? 3\n",
      "What is the tax rate on lottery winnings (i.e. 25 = 25%): 25\n",
      "\n",
      "In total you won $10,000.00\n",
      "Split 3 ways that amounts to $3,333.33 per person\n",
      "Tax per person: $833.33\n",
      "Take home amount per person: $2,500.00\n"
     ]
    }
   ],
   "source": [
    "wining = int(input(\"How much did you win? \"))\n",
    "people = int(input(\"How many people are splitting the winnings? \"))\n",
    "tax = int(input(\"What is the tax rate on lottery winnings (i.e. 25 = 25%): \"))\n",
    "\n",
    "person = (wining/people)\n",
    "taxp = ((person*tax)/100)\n",
    "print()\n",
    "print(f\"In total you won ${wining:,.2f}\")\n",
    "print(f\"Split {people} ways that amounts to ${person:,.2f} per person\")\n",
    "print(f\"Tax per person: ${taxp:.2f}\")\n",
    "print(f\"Take home amount per person: ${person-taxp:,.2f}\")"
   ]
  },
  {
   "cell_type": "markdown",
   "id": "a57977f7",
   "metadata": {},
   "source": [
    "# Compound Interest"
   ]
  },
  {
   "cell_type": "code",
   "execution_count": 5,
   "id": "88a687db",
   "metadata": {},
   "outputs": [
    {
     "name": "stdout",
     "output_type": "stream",
     "text": [
      "\n",
      "**************************************************\n",
      "        3 Year Bank Account Balance Forecast\n",
      "**************************************************\n",
      "\n",
      "This program will project how much you could earn by investing money in \n",
      "a bank account that pays out interest on a yearly basis.\n",
      "\n",
      "To begin, enter how much money you would like to initially invest (i.e. 5000): 50000\n",
      "Next, enter the expected interest rate for year 1. For example, enter 5 for 5%: 5.7\n",
      "\n",
      "How much will you invest at the beginning of year 2? 10000\n",
      "What is the expected interest rate for year 2? 6.8\n",
      "\n",
      "How much will you invest at the beginning of year 3? 15000\n",
      "What is the expected interest rate for year 3? 7.9\n",
      "\n",
      "--- YOUR FORECAST ---\n",
      "\n",
      "Year                     Starting Balance              Deposit      Interest Earned       Ending Balance\n",
      "1                                     0.0            50,000.00             2,850.00            52,850.00\n",
      "2                               52,850.00            10,000.00             4,273.80            67,123.80\n",
      "3                               67,123.80            15,000.00             6,487.78            88,611.58\n",
      "\n",
      "\n",
      "Total deposit: $75,000.00\n",
      "Total interest earned: $13611.58\n"
     ]
    }
   ],
   "source": [
    "print(\"\"\"\n",
    "**************************************************\n",
    "        3 Year Bank Account Balance Forecast\n",
    "**************************************************\n",
    "\n",
    "This program will project how much you could earn by investing money in \n",
    "a bank account that pays out interest on a yearly basis.\n",
    "\"\"\")\n",
    "\n",
    "y1 = float(input(\"To begin, enter how much money you would like to initially invest (i.e. 5000): \"))\n",
    "y1i = float(input(\"Next, enter the expected interest rate for year 1. For example, enter 5 for 5%: \"))\n",
    "print(\"\")\n",
    "y2 = float(input(\"How much will you invest at the beginning of year 2? \"))\n",
    "y2i = float(input(\"What is the expected interest rate for year 2? \"))\n",
    "print(\"\")\n",
    "y3 = float(input(\"How much will you invest at the beginning of year 3? \"))\n",
    "y3i = float(input(\"What is the expected interest rate for year 3? \"))\n",
    "\n",
    "sb1 = 0.00\n",
    "\n",
    "i1 = (y1 + sb1) * (y1i / 100)\n",
    "eb1 = y1 + i1\n",
    "\n",
    "i2 = (y2 + eb1) * (y2i / 100)\n",
    "eb2 = eb1 + y2 + i2\n",
    "\n",
    "i3 = (y3 + eb2) * (y3i / 100)\n",
    "eb3 = eb2 + y3 + i3\n",
    "\n",
    "print(\"\\n--- YOUR FORECAST ---\\n\")\n",
    "\n",
    "table_data = [\n",
    "    ['Year', 'Starting Balance', 'Deposit', 'Interest Earned', 'Ending Balance'],\n",
    "    ['1', sb1, f\"{y1:,.2f}\", f\"{i1:,.2f}\", f\"{eb1:,.2f}\"],\n",
    "    ['2', f\"{eb1:,.2f}\", f\"{y2:,.2f}\", f\"{i2:,.2f}\", f\"{eb2:,.2f}\"],\n",
    "    ['3', f\"{eb2:,.2f}\", f\"{y3:,.2f}\", f\"{i3:,.2f}\", f\"{eb3:,.2f}\"]\n",
    "]\n",
    "\n",
    "for row in table_data:\n",
    "    print(\"{: <20} {: >20} {: >20} {: >20} {: >20}\".format(*row))\n",
    "\n",
    "print(\"\\n\")\n",
    "print(\"Total deposit: $\" + f\"{(y1 + y2 + y3):,.2f}\")\n",
    "print(\"Total interest earned: $\" + f\"{(i1 + i2 + i3):.2f}\")"
   ]
  },
  {
   "cell_type": "markdown",
   "id": "19ae2199",
   "metadata": {},
   "source": [
    "# Number Combo"
   ]
  },
  {
   "cell_type": "code",
   "execution_count": 6,
   "id": "7ef1c217",
   "metadata": {},
   "outputs": [
    {
     "name": "stdout",
     "output_type": "stream",
     "text": [
      "Enter a 3 digit number between 000 and 999: 878\n",
      "\n",
      "\n",
      "Digit in the 1's place:    8\n",
      "Digit in the 10's place:   7\n",
      "Digit in the 100's place:  8\n",
      "\n",
      "\n",
      "Combination    Doubled        Tripled        \n",
      "878            1756           2634           \n",
      "788            1576           2364           \n",
      "887            1774           2661           \n",
      "887            1774           2661           \n",
      "788            1576           2364           \n",
      "878            1756           2634           \n"
     ]
    }
   ],
   "source": [
    "NO = int(input(\"Enter a 3 digit number between 000 and 999: \"))\n",
    "print()\n",
    "print()\n",
    "print(\"Digit in the 1's place:   \", NO % 10)\n",
    "a = NO // 10\n",
    "print(\"Digit in the 10's place:  \", a % 10)\n",
    "b = a // 10\n",
    "print(\"Digit in the 100's place: \", b % 10)\n",
    "print()\n",
    "print()\n",
    "one = str(NO % 10)\n",
    "two = str(a % 10)\n",
    "three = str(b)\n",
    "s6 = one + two + three\n",
    "s5 = two + three + one\n",
    "s4 = three + one + two\n",
    "s3 = one + three + two\n",
    "s2 = two + one + three\n",
    "s1 = three + two + one\n",
    "print('{0:<15}{1:<15}{2:<15}'.format(\"Combination\", \"Doubled\", \"Tripled\"))\n",
    "print('{0:<15}{1:<15}{2:<15}'.format(s1, int(s1) * 2, int(s1) * 3))\n",
    "print('{0:<15}{1:<15}{2:<15}'.format(s2, int(s2) * 2, int(s2) * 3))\n",
    "print('{0:<15}{1:<15}{2:<15}'.format(s3, int(s3) * 2, int(s3) * 3))\n",
    "print('{0:<15}{1:<15}{2:<15}'.format(s4, int(s4) * 2, int(s4) * 3))\n",
    "print('{0:<15}{1:<15}{2:<15}'.format(s5, int(s5) * 2, int(s5) * 3))\n",
    "print('{0:<15}{1:<15}{2:<15}'.format(s6, int(s6) * 2, int(s6) * 3))\n"
   ]
  }
 ],
 "metadata": {
  "kernelspec": {
   "display_name": "Python 3 (ipykernel)",
   "language": "python",
   "name": "python3"
  },
  "language_info": {
   "codemirror_mode": {
    "name": "ipython",
    "version": 3
   },
   "file_extension": ".py",
   "mimetype": "text/x-python",
   "name": "python",
   "nbconvert_exporter": "python",
   "pygments_lexer": "ipython3",
   "version": "3.8.11"
  }
 },
 "nbformat": 4,
 "nbformat_minor": 5
}
