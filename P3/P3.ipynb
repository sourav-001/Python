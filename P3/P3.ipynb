{
 "cells": [
  {
   "cell_type": "markdown",
   "id": "3b590b01",
   "metadata": {},
   "source": [
    "# Project Introduction\n",
    "\n",
    "This project aims to analyze the exam results of the students from different campuses of the university located at district towns in order to derive the insights from them. Dataset contains student related details, separate and total marks of the quizzes held in the entire semester. Moreover, this dataset contains 12 columns and 88 records."
   ]
  },
  {
   "cell_type": "markdown",
   "id": "e1d129e3",
   "metadata": {},
   "source": [
    "# Data Acquisition and Cleaning\n",
    "\n",
    "The data is available in excel file and to read the data pandas software library is used with the following command."
   ]
  },
  {
   "cell_type": "code",
   "execution_count": 1,
   "id": "9127570b",
   "metadata": {},
   "outputs": [],
   "source": [
    "# import pandas module\n",
    "import pandas as pd"
   ]
  },
  {
   "cell_type": "markdown",
   "id": "90050f05",
   "metadata": {},
   "source": [
    "### Read Dataset"
   ]
  },
  {
   "cell_type": "code",
   "execution_count": 2,
   "id": "849415b1",
   "metadata": {},
   "outputs": [],
   "source": [
    "# Reading the 'Dataset.xlsx' in the 'Dataset' with index 'crno'\n",
    "Dataset = pd.read_excel(\"Dataset.xlsx\", index_col = \"crno\")"
   ]
  },
  {
   "cell_type": "code",
   "execution_count": 3,
   "id": "8c213e2d",
   "metadata": {},
   "outputs": [
    {
     "data": {
      "text/plain": [
       "(88, 11)"
      ]
     },
     "execution_count": 3,
     "metadata": {},
     "output_type": "execute_result"
    }
   ],
   "source": [
    "# total number of (rows, cols)\n",
    "Dataset.shape"
   ]
  },
  {
   "cell_type": "code",
   "execution_count": 4,
   "id": "1c41a86c",
   "metadata": {},
   "outputs": [
    {
     "data": {
      "text/html": [
       "<div>\n",
       "<style scoped>\n",
       "    .dataframe tbody tr th:only-of-type {\n",
       "        vertical-align: middle;\n",
       "    }\n",
       "\n",
       "    .dataframe tbody tr th {\n",
       "        vertical-align: top;\n",
       "    }\n",
       "\n",
       "    .dataframe thead th {\n",
       "        text-align: right;\n",
       "    }\n",
       "</style>\n",
       "<table border=\"1\" class=\"dataframe\">\n",
       "  <thead>\n",
       "    <tr style=\"text-align: right;\">\n",
       "      <th></th>\n",
       "      <th>stid</th>\n",
       "      <th>sem</th>\n",
       "      <th>q1</th>\n",
       "      <th>q2</th>\n",
       "      <th>q3</th>\n",
       "      <th>q4</th>\n",
       "      <th>total</th>\n",
       "      <th>gen</th>\n",
       "      <th>fname</th>\n",
       "      <th>town</th>\n",
       "      <th>age</th>\n",
       "    </tr>\n",
       "    <tr>\n",
       "      <th>crno</th>\n",
       "      <th></th>\n",
       "      <th></th>\n",
       "      <th></th>\n",
       "      <th></th>\n",
       "      <th></th>\n",
       "      <th></th>\n",
       "      <th></th>\n",
       "      <th></th>\n",
       "      <th></th>\n",
       "      <th></th>\n",
       "      <th></th>\n",
       "    </tr>\n",
       "  </thead>\n",
       "  <tbody>\n",
       "    <tr>\n",
       "      <th>1</th>\n",
       "      <td>H00774769</td>\n",
       "      <td>201910</td>\n",
       "      <td>22.0</td>\n",
       "      <td>14.0</td>\n",
       "      <td>16</td>\n",
       "      <td>22.0</td>\n",
       "      <td>74.0</td>\n",
       "      <td>1</td>\n",
       "      <td>Omar</td>\n",
       "      <td>Ajman</td>\n",
       "      <td>24.0</td>\n",
       "    </tr>\n",
       "    <tr>\n",
       "      <th>2</th>\n",
       "      <td>H00863874</td>\n",
       "      <td>201910</td>\n",
       "      <td>33.0</td>\n",
       "      <td>16.0</td>\n",
       "      <td>3</td>\n",
       "      <td>11.0</td>\n",
       "      <td>63.0</td>\n",
       "      <td>0</td>\n",
       "      <td>Salama</td>\n",
       "      <td>Abu Dhabi</td>\n",
       "      <td>23.0</td>\n",
       "    </tr>\n",
       "    <tr>\n",
       "      <th>3</th>\n",
       "      <td>H00680482</td>\n",
       "      <td>201910</td>\n",
       "      <td>35.0</td>\n",
       "      <td>8.0</td>\n",
       "      <td>10</td>\n",
       "      <td>17.0</td>\n",
       "      <td>70.0</td>\n",
       "      <td>1</td>\n",
       "      <td>Abdulaziz</td>\n",
       "      <td>Ajman</td>\n",
       "      <td>21.0</td>\n",
       "    </tr>\n",
       "    <tr>\n",
       "      <th>4</th>\n",
       "      <td>H00282876</td>\n",
       "      <td>201910</td>\n",
       "      <td>45.0</td>\n",
       "      <td>23.0</td>\n",
       "      <td>10</td>\n",
       "      <td>2.0</td>\n",
       "      <td>80.0</td>\n",
       "      <td>0</td>\n",
       "      <td>Alya</td>\n",
       "      <td>Fujeirah</td>\n",
       "      <td>19.0</td>\n",
       "    </tr>\n",
       "    <tr>\n",
       "      <th>5</th>\n",
       "      <td>H00940349</td>\n",
       "      <td>201910</td>\n",
       "      <td>45.0</td>\n",
       "      <td>8.0</td>\n",
       "      <td>17</td>\n",
       "      <td>11.0</td>\n",
       "      <td>81.0</td>\n",
       "      <td>1</td>\n",
       "      <td>Kalifa</td>\n",
       "      <td>NaN</td>\n",
       "      <td>20.0</td>\n",
       "    </tr>\n",
       "  </tbody>\n",
       "</table>\n",
       "</div>"
      ],
      "text/plain": [
       "           stid     sem    q1    q2  q3    q4  total  gen      fname  \\\n",
       "crno                                                                   \n",
       "1     H00774769  201910  22.0  14.0  16  22.0   74.0    1       Omar   \n",
       "2     H00863874  201910  33.0  16.0   3  11.0   63.0    0     Salama   \n",
       "3     H00680482  201910  35.0   8.0  10  17.0   70.0    1  Abdulaziz   \n",
       "4     H00282876  201910  45.0  23.0  10   2.0   80.0    0       Alya   \n",
       "5     H00940349  201910  45.0   8.0  17  11.0   81.0    1     Kalifa   \n",
       "\n",
       "           town   age  \n",
       "crno                   \n",
       "1         Ajman  24.0  \n",
       "2     Abu Dhabi  23.0  \n",
       "3         Ajman  21.0  \n",
       "4      Fujeirah  19.0  \n",
       "5           NaN  20.0  "
      ]
     },
     "execution_count": 4,
     "metadata": {},
     "output_type": "execute_result"
    }
   ],
   "source": [
    "# print first 5 records from the 'Dataset'\n",
    "Dataset.head()"
   ]
  },
  {
   "cell_type": "code",
   "execution_count": 5,
   "id": "2325a605",
   "metadata": {
    "scrolled": false
   },
   "outputs": [
    {
     "data": {
      "text/html": [
       "<div>\n",
       "<style scoped>\n",
       "    .dataframe tbody tr th:only-of-type {\n",
       "        vertical-align: middle;\n",
       "    }\n",
       "\n",
       "    .dataframe tbody tr th {\n",
       "        vertical-align: top;\n",
       "    }\n",
       "\n",
       "    .dataframe thead th {\n",
       "        text-align: right;\n",
       "    }\n",
       "</style>\n",
       "<table border=\"1\" class=\"dataframe\">\n",
       "  <thead>\n",
       "    <tr style=\"text-align: right;\">\n",
       "      <th></th>\n",
       "      <th>stid</th>\n",
       "      <th>sem</th>\n",
       "      <th>q1</th>\n",
       "      <th>q2</th>\n",
       "      <th>q3</th>\n",
       "      <th>q4</th>\n",
       "      <th>total</th>\n",
       "      <th>gen</th>\n",
       "      <th>fname</th>\n",
       "      <th>town</th>\n",
       "      <th>age</th>\n",
       "    </tr>\n",
       "    <tr>\n",
       "      <th>crno</th>\n",
       "      <th></th>\n",
       "      <th></th>\n",
       "      <th></th>\n",
       "      <th></th>\n",
       "      <th></th>\n",
       "      <th></th>\n",
       "      <th></th>\n",
       "      <th></th>\n",
       "      <th></th>\n",
       "      <th></th>\n",
       "      <th></th>\n",
       "    </tr>\n",
       "  </thead>\n",
       "  <tbody>\n",
       "    <tr>\n",
       "      <th>84</th>\n",
       "      <td>H00012896</td>\n",
       "      <td>201920</td>\n",
       "      <td>33.0</td>\n",
       "      <td>11.0</td>\n",
       "      <td>21</td>\n",
       "      <td>3.0</td>\n",
       "      <td>68.0</td>\n",
       "      <td>1</td>\n",
       "      <td>Abdullah</td>\n",
       "      <td>Dubai</td>\n",
       "      <td>24.0</td>\n",
       "    </tr>\n",
       "    <tr>\n",
       "      <th>85</th>\n",
       "      <td>H00635996</td>\n",
       "      <td>201920</td>\n",
       "      <td>38.0</td>\n",
       "      <td>16.0</td>\n",
       "      <td>8</td>\n",
       "      <td>6.0</td>\n",
       "      <td>68.0</td>\n",
       "      <td>0</td>\n",
       "      <td>Ana</td>\n",
       "      <td>Abu Dhabi</td>\n",
       "      <td>19.0</td>\n",
       "    </tr>\n",
       "    <tr>\n",
       "      <th>86</th>\n",
       "      <td>H00088333</td>\n",
       "      <td>201920</td>\n",
       "      <td>25.0</td>\n",
       "      <td>8.0</td>\n",
       "      <td>1</td>\n",
       "      <td>6.0</td>\n",
       "      <td>40.0</td>\n",
       "      <td>1</td>\n",
       "      <td>Tom</td>\n",
       "      <td>Sharjah</td>\n",
       "      <td>23.0</td>\n",
       "    </tr>\n",
       "    <tr>\n",
       "      <th>87</th>\n",
       "      <td>H00349088</td>\n",
       "      <td>201920</td>\n",
       "      <td>25.0</td>\n",
       "      <td>8.0</td>\n",
       "      <td>1</td>\n",
       "      <td>6.0</td>\n",
       "      <td>40.0</td>\n",
       "      <td>0</td>\n",
       "      <td>Hessa</td>\n",
       "      <td>Ajman</td>\n",
       "      <td>24.0</td>\n",
       "    </tr>\n",
       "    <tr>\n",
       "      <th>88</th>\n",
       "      <td>H00687307</td>\n",
       "      <td>201920</td>\n",
       "      <td>38.0</td>\n",
       "      <td>16.0</td>\n",
       "      <td>8</td>\n",
       "      <td>6.0</td>\n",
       "      <td>68.0</td>\n",
       "      <td>1</td>\n",
       "      <td>Nasser</td>\n",
       "      <td>Sharjah</td>\n",
       "      <td>19.0</td>\n",
       "    </tr>\n",
       "  </tbody>\n",
       "</table>\n",
       "</div>"
      ],
      "text/plain": [
       "           stid     sem    q1    q2  q3   q4  total  gen     fname       town  \\\n",
       "crno                                                                            \n",
       "84    H00012896  201920  33.0  11.0  21  3.0   68.0    1  Abdullah      Dubai   \n",
       "85    H00635996  201920  38.0  16.0   8  6.0   68.0    0       Ana  Abu Dhabi   \n",
       "86    H00088333  201920  25.0   8.0   1  6.0   40.0    1       Tom    Sharjah   \n",
       "87    H00349088  201920  25.0   8.0   1  6.0   40.0    0     Hessa      Ajman   \n",
       "88    H00687307  201920  38.0  16.0   8  6.0   68.0    1    Nasser    Sharjah   \n",
       "\n",
       "       age  \n",
       "crno        \n",
       "84    24.0  \n",
       "85    19.0  \n",
       "86    23.0  \n",
       "87    24.0  \n",
       "88    19.0  "
      ]
     },
     "execution_count": 5,
     "metadata": {},
     "output_type": "execute_result"
    }
   ],
   "source": [
    "# print last 4 records from the 'Dataset'\n",
    "Dataset.tail()"
   ]
  },
  {
   "cell_type": "code",
   "execution_count": 6,
   "id": "6dbb61f6",
   "metadata": {},
   "outputs": [
    {
     "data": {
      "text/plain": [
       "stid     0\n",
       "sem      0\n",
       "q1       2\n",
       "q2       2\n",
       "q3       0\n",
       "q4       2\n",
       "total    2\n",
       "gen      0\n",
       "fname    2\n",
       "town     2\n",
       "age      2\n",
       "dtype: int64"
      ]
     },
     "execution_count": 6,
     "metadata": {},
     "output_type": "execute_result"
    }
   ],
   "source": [
    "# Total number of missing values in each column\n",
    "Dataset.isnull().sum()"
   ]
  },
  {
   "cell_type": "code",
   "execution_count": 7,
   "id": "e27b63eb",
   "metadata": {},
   "outputs": [
    {
     "data": {
      "text/plain": [
       "14"
      ]
     },
     "execution_count": 7,
     "metadata": {},
     "output_type": "execute_result"
    }
   ],
   "source": [
    "# Total number of missing values in the entire DataFrame\n",
    "Dataset.isnull().sum().sum()"
   ]
  },
  {
   "cell_type": "markdown",
   "id": "349f1171",
   "metadata": {},
   "source": [
    "In our dataset there are 14 Null values. \n",
    "In the next cell i will perform dropna(), to drop Null values"
   ]
  },
  {
   "cell_type": "code",
   "execution_count": 8,
   "id": "6d699035",
   "metadata": {},
   "outputs": [],
   "source": [
    "# dropping the Null values assign to a new variable\n",
    "DatasetFinal = Dataset.dropna()"
   ]
  },
  {
   "cell_type": "code",
   "execution_count": 9,
   "id": "f7837675",
   "metadata": {},
   "outputs": [
    {
     "data": {
      "text/plain": [
       "(74, 11)"
      ]
     },
     "execution_count": 9,
     "metadata": {},
     "output_type": "execute_result"
    }
   ],
   "source": [
    "# after perfroming dropna(), checking (rows, cols) from dataset\n",
    "DatasetFinal.shape"
   ]
  },
  {
   "cell_type": "code",
   "execution_count": 10,
   "id": "3b532aa7",
   "metadata": {},
   "outputs": [
    {
     "data": {
      "text/plain": [
       "0"
      ]
     },
     "execution_count": 10,
     "metadata": {},
     "output_type": "execute_result"
    }
   ],
   "source": [
    "# now once again checking is there any Null values left?\n",
    "DatasetFinal.isnull().sum().sum()"
   ]
  },
  {
   "cell_type": "markdown",
   "id": "a4a2fa90",
   "metadata": {},
   "source": [
    "Now our data is prepared for further analysis."
   ]
  },
  {
   "cell_type": "code",
   "execution_count": 11,
   "id": "c9587581",
   "metadata": {},
   "outputs": [
    {
     "data": {
      "text/html": [
       "<div>\n",
       "<style scoped>\n",
       "    .dataframe tbody tr th:only-of-type {\n",
       "        vertical-align: middle;\n",
       "    }\n",
       "\n",
       "    .dataframe tbody tr th {\n",
       "        vertical-align: top;\n",
       "    }\n",
       "\n",
       "    .dataframe thead th {\n",
       "        text-align: right;\n",
       "    }\n",
       "</style>\n",
       "<table border=\"1\" class=\"dataframe\">\n",
       "  <thead>\n",
       "    <tr style=\"text-align: right;\">\n",
       "      <th></th>\n",
       "      <th>stid</th>\n",
       "      <th>sem</th>\n",
       "      <th>q1</th>\n",
       "      <th>q2</th>\n",
       "      <th>q3</th>\n",
       "      <th>q4</th>\n",
       "      <th>total</th>\n",
       "      <th>gen</th>\n",
       "      <th>fname</th>\n",
       "      <th>town</th>\n",
       "      <th>age</th>\n",
       "    </tr>\n",
       "    <tr>\n",
       "      <th>crno</th>\n",
       "      <th></th>\n",
       "      <th></th>\n",
       "      <th></th>\n",
       "      <th></th>\n",
       "      <th></th>\n",
       "      <th></th>\n",
       "      <th></th>\n",
       "      <th></th>\n",
       "      <th></th>\n",
       "      <th></th>\n",
       "      <th></th>\n",
       "    </tr>\n",
       "  </thead>\n",
       "  <tbody>\n",
       "    <tr>\n",
       "      <th>1</th>\n",
       "      <td>H00774769</td>\n",
       "      <td>201910</td>\n",
       "      <td>22.0</td>\n",
       "      <td>14.0</td>\n",
       "      <td>16</td>\n",
       "      <td>22.0</td>\n",
       "      <td>74.0</td>\n",
       "      <td>1</td>\n",
       "      <td>Omar</td>\n",
       "      <td>Ajman</td>\n",
       "      <td>24.0</td>\n",
       "    </tr>\n",
       "    <tr>\n",
       "      <th>2</th>\n",
       "      <td>H00863874</td>\n",
       "      <td>201910</td>\n",
       "      <td>33.0</td>\n",
       "      <td>16.0</td>\n",
       "      <td>3</td>\n",
       "      <td>11.0</td>\n",
       "      <td>63.0</td>\n",
       "      <td>0</td>\n",
       "      <td>Salama</td>\n",
       "      <td>Abu Dhabi</td>\n",
       "      <td>23.0</td>\n",
       "    </tr>\n",
       "    <tr>\n",
       "      <th>3</th>\n",
       "      <td>H00680482</td>\n",
       "      <td>201910</td>\n",
       "      <td>35.0</td>\n",
       "      <td>8.0</td>\n",
       "      <td>10</td>\n",
       "      <td>17.0</td>\n",
       "      <td>70.0</td>\n",
       "      <td>1</td>\n",
       "      <td>Abdulaziz</td>\n",
       "      <td>Ajman</td>\n",
       "      <td>21.0</td>\n",
       "    </tr>\n",
       "    <tr>\n",
       "      <th>4</th>\n",
       "      <td>H00282876</td>\n",
       "      <td>201910</td>\n",
       "      <td>45.0</td>\n",
       "      <td>23.0</td>\n",
       "      <td>10</td>\n",
       "      <td>2.0</td>\n",
       "      <td>80.0</td>\n",
       "      <td>0</td>\n",
       "      <td>Alya</td>\n",
       "      <td>Fujeirah</td>\n",
       "      <td>19.0</td>\n",
       "    </tr>\n",
       "    <tr>\n",
       "      <th>6</th>\n",
       "      <td>H00312749</td>\n",
       "      <td>201910</td>\n",
       "      <td>34.0</td>\n",
       "      <td>10.0</td>\n",
       "      <td>2</td>\n",
       "      <td>24.0</td>\n",
       "      <td>70.0</td>\n",
       "      <td>0</td>\n",
       "      <td>Ruda</td>\n",
       "      <td>Fujeirah</td>\n",
       "      <td>22.0</td>\n",
       "    </tr>\n",
       "  </tbody>\n",
       "</table>\n",
       "</div>"
      ],
      "text/plain": [
       "           stid     sem    q1    q2  q3    q4  total  gen      fname  \\\n",
       "crno                                                                   \n",
       "1     H00774769  201910  22.0  14.0  16  22.0   74.0    1       Omar   \n",
       "2     H00863874  201910  33.0  16.0   3  11.0   63.0    0     Salama   \n",
       "3     H00680482  201910  35.0   8.0  10  17.0   70.0    1  Abdulaziz   \n",
       "4     H00282876  201910  45.0  23.0  10   2.0   80.0    0       Alya   \n",
       "6     H00312749  201910  34.0  10.0   2  24.0   70.0    0       Ruda   \n",
       "\n",
       "           town   age  \n",
       "crno                   \n",
       "1         Ajman  24.0  \n",
       "2     Abu Dhabi  23.0  \n",
       "3         Ajman  21.0  \n",
       "4      Fujeirah  19.0  \n",
       "6      Fujeirah  22.0  "
      ]
     },
     "execution_count": 11,
     "metadata": {},
     "output_type": "execute_result"
    }
   ],
   "source": [
    "# before solving the questions i want to show first 5 records from the dataset\n",
    "DatasetFinal.head()"
   ]
  },
  {
   "cell_type": "markdown",
   "id": "572e4836",
   "metadata": {},
   "source": [
    "# Analysis Questions/Exploratory Analysis/Data Visualization"
   ]
  },
  {
   "cell_type": "markdown",
   "id": "e882a7f2",
   "metadata": {},
   "source": [
    "# 1- What is the average of the ages?"
   ]
  },
  {
   "cell_type": "code",
   "execution_count": 12,
   "id": "ca0c9937",
   "metadata": {},
   "outputs": [
    {
     "data": {
      "text/plain": [
       "21.60810810810811"
      ]
     },
     "execution_count": 12,
     "metadata": {},
     "output_type": "execute_result"
    }
   ],
   "source": [
    "# mean()\n",
    "DatasetFinal.age.mean()"
   ]
  },
  {
   "cell_type": "markdown",
   "id": "f34d8cb7",
   "metadata": {},
   "source": [
    "# 2- How many female students got more than 40 in quiz 1 from the male students?"
   ]
  },
  {
   "cell_type": "code",
   "execution_count": 13,
   "id": "9b63af1a",
   "metadata": {},
   "outputs": [
    {
     "name": "stdout",
     "output_type": "stream",
     "text": [
      "5 female students got more than 40 in quiz 1 from the male students\n"
     ]
    }
   ],
   "source": [
    "# step1: Calculate total students got more that 40 in 'q1'\n",
    "TotalStudentsGot = DatasetFinal[DatasetFinal.q1 > 40]\n",
    "#print(TotalStudentsGot)\n",
    "\n",
    "# step2: Calculate total male students got more that 40\n",
    "TotalMaleStudentsGot = TotalStudentsGot[TotalStudentsGot.gen == 1]\n",
    "#print(TotalMaleStudentsGot)\n",
    "\n",
    "# step3: Calculate total female students got more than 40\n",
    "TotalFemaleStudentsGot = TotalStudentsGot[TotalStudentsGot.gen == 0]\n",
    "#print(TotalFemaleStudentsGot)\n",
    "\n",
    "# FinalStep:\n",
    "print(f\"{len(TotalFemaleStudentsGot) - len(TotalMaleStudentsGot)} female students got more than 40 in quiz 1 from the male students\")"
   ]
  },
  {
   "cell_type": "markdown",
   "id": "4ba02a44",
   "metadata": {},
   "source": [
    "# 3- How many male students in Ajman & their age is below 20?"
   ]
  },
  {
   "cell_type": "code",
   "execution_count": 14,
   "id": "3203d555",
   "metadata": {},
   "outputs": [
    {
     "data": {
      "text/html": [
       "<div>\n",
       "<style scoped>\n",
       "    .dataframe tbody tr th:only-of-type {\n",
       "        vertical-align: middle;\n",
       "    }\n",
       "\n",
       "    .dataframe tbody tr th {\n",
       "        vertical-align: top;\n",
       "    }\n",
       "\n",
       "    .dataframe thead th {\n",
       "        text-align: right;\n",
       "    }\n",
       "</style>\n",
       "<table border=\"1\" class=\"dataframe\">\n",
       "  <thead>\n",
       "    <tr style=\"text-align: right;\">\n",
       "      <th></th>\n",
       "      <th>stid</th>\n",
       "      <th>sem</th>\n",
       "      <th>q1</th>\n",
       "      <th>q2</th>\n",
       "      <th>q3</th>\n",
       "      <th>q4</th>\n",
       "      <th>total</th>\n",
       "      <th>gen</th>\n",
       "      <th>fname</th>\n",
       "      <th>town</th>\n",
       "      <th>age</th>\n",
       "    </tr>\n",
       "    <tr>\n",
       "      <th>crno</th>\n",
       "      <th></th>\n",
       "      <th></th>\n",
       "      <th></th>\n",
       "      <th></th>\n",
       "      <th></th>\n",
       "      <th></th>\n",
       "      <th></th>\n",
       "      <th></th>\n",
       "      <th></th>\n",
       "      <th></th>\n",
       "      <th></th>\n",
       "    </tr>\n",
       "  </thead>\n",
       "  <tbody>\n",
       "    <tr>\n",
       "      <th>16</th>\n",
       "      <td>H00729219</td>\n",
       "      <td>201910</td>\n",
       "      <td>31.0</td>\n",
       "      <td>15.0</td>\n",
       "      <td>6</td>\n",
       "      <td>15.0</td>\n",
       "      <td>67.0</td>\n",
       "      <td>1</td>\n",
       "      <td>Ahmad</td>\n",
       "      <td>Ajman</td>\n",
       "      <td>19.0</td>\n",
       "    </tr>\n",
       "    <tr>\n",
       "      <th>60</th>\n",
       "      <td>H00729219</td>\n",
       "      <td>201920</td>\n",
       "      <td>21.0</td>\n",
       "      <td>24.0</td>\n",
       "      <td>23</td>\n",
       "      <td>10.0</td>\n",
       "      <td>78.0</td>\n",
       "      <td>1</td>\n",
       "      <td>Ahmad</td>\n",
       "      <td>Ajman</td>\n",
       "      <td>19.0</td>\n",
       "    </tr>\n",
       "  </tbody>\n",
       "</table>\n",
       "</div>"
      ],
      "text/plain": [
       "           stid     sem    q1    q2  q3    q4  total  gen  fname   town   age\n",
       "crno                                                                         \n",
       "16    H00729219  201910  31.0  15.0   6  15.0   67.0    1  Ahmad  Ajman  19.0\n",
       "60    H00729219  201920  21.0  24.0  23  10.0   78.0    1  Ahmad  Ajman  19.0"
      ]
     },
     "execution_count": 14,
     "metadata": {},
     "output_type": "execute_result"
    }
   ],
   "source": [
    "# conditional operation\n",
    "DatasetFinal[(DatasetFinal.gen == 1) & (DatasetFinal.age < 20) & (DatasetFinal.town == 'Ajman')]"
   ]
  },
  {
   "cell_type": "code",
   "execution_count": 15,
   "id": "b094fc63",
   "metadata": {},
   "outputs": [
    {
     "name": "stdout",
     "output_type": "stream",
     "text": [
      "2 male students in Ajman are aged below 20\n"
     ]
    }
   ],
   "source": [
    "print(f\"{str(len(DatasetFinal[(DatasetFinal.gen == 1) & (DatasetFinal.age < 20) & (DatasetFinal.town == 'Ajman')]))} male students in Ajman are aged below 20\")"
   ]
  },
  {
   "cell_type": "markdown",
   "id": "21aa5940",
   "metadata": {},
   "source": [
    "# 4- How many students living in each town?"
   ]
  },
  {
   "cell_type": "code",
   "execution_count": 16,
   "id": "6dde4fe1",
   "metadata": {},
   "outputs": [
    {
     "data": {
      "text/plain": [
       "town\n",
       "Abu Dhabi    16\n",
       "Ajman        16\n",
       "Dubai        16\n",
       "Fujeirah     11\n",
       "Sharjah      15\n",
       "Name: town, dtype: int64"
      ]
     },
     "execution_count": 16,
     "metadata": {},
     "output_type": "execute_result"
    }
   ],
   "source": [
    "# groupby()\n",
    "# grouping based on towns\n",
    "DatasetFinal.groupby('town')['town'].count()"
   ]
  },
  {
   "cell_type": "markdown",
   "id": "bd5da15d",
   "metadata": {},
   "source": [
    "# 5- Sort all records using the total column descending?"
   ]
  },
  {
   "cell_type": "code",
   "execution_count": 17,
   "id": "a86861da",
   "metadata": {},
   "outputs": [
    {
     "data": {
      "text/html": [
       "<div>\n",
       "<style scoped>\n",
       "    .dataframe tbody tr th:only-of-type {\n",
       "        vertical-align: middle;\n",
       "    }\n",
       "\n",
       "    .dataframe tbody tr th {\n",
       "        vertical-align: top;\n",
       "    }\n",
       "\n",
       "    .dataframe thead th {\n",
       "        text-align: right;\n",
       "    }\n",
       "</style>\n",
       "<table border=\"1\" class=\"dataframe\">\n",
       "  <thead>\n",
       "    <tr style=\"text-align: right;\">\n",
       "      <th></th>\n",
       "      <th>stid</th>\n",
       "      <th>sem</th>\n",
       "      <th>q1</th>\n",
       "      <th>q2</th>\n",
       "      <th>q3</th>\n",
       "      <th>q4</th>\n",
       "      <th>total</th>\n",
       "      <th>gen</th>\n",
       "      <th>fname</th>\n",
       "      <th>town</th>\n",
       "      <th>age</th>\n",
       "    </tr>\n",
       "    <tr>\n",
       "      <th>crno</th>\n",
       "      <th></th>\n",
       "      <th></th>\n",
       "      <th></th>\n",
       "      <th></th>\n",
       "      <th></th>\n",
       "      <th></th>\n",
       "      <th></th>\n",
       "      <th></th>\n",
       "      <th></th>\n",
       "      <th></th>\n",
       "      <th></th>\n",
       "    </tr>\n",
       "  </thead>\n",
       "  <tbody>\n",
       "    <tr>\n",
       "      <th>67</th>\n",
       "      <td>H00367866</td>\n",
       "      <td>201920</td>\n",
       "      <td>44.0</td>\n",
       "      <td>17.0</td>\n",
       "      <td>22</td>\n",
       "      <td>13.0</td>\n",
       "      <td>96.0</td>\n",
       "      <td>0</td>\n",
       "      <td>Hessina</td>\n",
       "      <td>Sharjah</td>\n",
       "      <td>22.0</td>\n",
       "    </tr>\n",
       "    <tr>\n",
       "      <th>22</th>\n",
       "      <td>H00781307</td>\n",
       "      <td>201910</td>\n",
       "      <td>44.0</td>\n",
       "      <td>17.0</td>\n",
       "      <td>22</td>\n",
       "      <td>13.0</td>\n",
       "      <td>96.0</td>\n",
       "      <td>1</td>\n",
       "      <td>Hassan</td>\n",
       "      <td>Abu Dhabi</td>\n",
       "      <td>19.0</td>\n",
       "    </tr>\n",
       "    <tr>\n",
       "      <th>64</th>\n",
       "      <td>H00750429</td>\n",
       "      <td>201920</td>\n",
       "      <td>37.0</td>\n",
       "      <td>7.0</td>\n",
       "      <td>23</td>\n",
       "      <td>25.0</td>\n",
       "      <td>92.0</td>\n",
       "      <td>1</td>\n",
       "      <td>Mayed</td>\n",
       "      <td>Dubai</td>\n",
       "      <td>20.0</td>\n",
       "    </tr>\n",
       "    <tr>\n",
       "      <th>53</th>\n",
       "      <td>H00659219</td>\n",
       "      <td>201920</td>\n",
       "      <td>32.0</td>\n",
       "      <td>24.0</td>\n",
       "      <td>18</td>\n",
       "      <td>17.0</td>\n",
       "      <td>91.0</td>\n",
       "      <td>1</td>\n",
       "      <td>Tarski</td>\n",
       "      <td>Abu Dhabi</td>\n",
       "      <td>24.0</td>\n",
       "    </tr>\n",
       "    <tr>\n",
       "      <th>8</th>\n",
       "      <td>H00568498</td>\n",
       "      <td>201910</td>\n",
       "      <td>32.0</td>\n",
       "      <td>24.0</td>\n",
       "      <td>18</td>\n",
       "      <td>17.0</td>\n",
       "      <td>91.0</td>\n",
       "      <td>0</td>\n",
       "      <td>Amna</td>\n",
       "      <td>Dubai</td>\n",
       "      <td>22.0</td>\n",
       "    </tr>\n",
       "  </tbody>\n",
       "</table>\n",
       "</div>"
      ],
      "text/plain": [
       "           stid     sem    q1    q2  q3    q4  total  gen    fname       town  \\\n",
       "crno                                                                            \n",
       "67    H00367866  201920  44.0  17.0  22  13.0   96.0    0  Hessina    Sharjah   \n",
       "22    H00781307  201910  44.0  17.0  22  13.0   96.0    1   Hassan  Abu Dhabi   \n",
       "64    H00750429  201920  37.0   7.0  23  25.0   92.0    1    Mayed      Dubai   \n",
       "53    H00659219  201920  32.0  24.0  18  17.0   91.0    1   Tarski  Abu Dhabi   \n",
       "8     H00568498  201910  32.0  24.0  18  17.0   91.0    0     Amna      Dubai   \n",
       "\n",
       "       age  \n",
       "crno        \n",
       "67    22.0  \n",
       "22    19.0  \n",
       "64    20.0  \n",
       "53    24.0  \n",
       "8     22.0  "
      ]
     },
     "execution_count": 17,
     "metadata": {},
     "output_type": "execute_result"
    }
   ],
   "source": [
    "# sort records in descending order using 'total' col\n",
    "DescendingOrder = DatasetFinal.sort_values('total', ascending=False)\n",
    "DescendingOrder.head()"
   ]
  },
  {
   "cell_type": "markdown",
   "id": "7482e46f",
   "metadata": {},
   "source": [
    "# 6- Sort the ages of the female students?"
   ]
  },
  {
   "cell_type": "code",
   "execution_count": 18,
   "id": "38e36bbd",
   "metadata": {},
   "outputs": [
    {
     "data": {
      "text/html": [
       "<div>\n",
       "<style scoped>\n",
       "    .dataframe tbody tr th:only-of-type {\n",
       "        vertical-align: middle;\n",
       "    }\n",
       "\n",
       "    .dataframe tbody tr th {\n",
       "        vertical-align: top;\n",
       "    }\n",
       "\n",
       "    .dataframe thead th {\n",
       "        text-align: right;\n",
       "    }\n",
       "</style>\n",
       "<table border=\"1\" class=\"dataframe\">\n",
       "  <thead>\n",
       "    <tr style=\"text-align: right;\">\n",
       "      <th></th>\n",
       "      <th>stid</th>\n",
       "      <th>sem</th>\n",
       "      <th>q1</th>\n",
       "      <th>q2</th>\n",
       "      <th>q3</th>\n",
       "      <th>q4</th>\n",
       "      <th>total</th>\n",
       "      <th>gen</th>\n",
       "      <th>fname</th>\n",
       "      <th>town</th>\n",
       "      <th>age</th>\n",
       "    </tr>\n",
       "    <tr>\n",
       "      <th>crno</th>\n",
       "      <th></th>\n",
       "      <th></th>\n",
       "      <th></th>\n",
       "      <th></th>\n",
       "      <th></th>\n",
       "      <th></th>\n",
       "      <th></th>\n",
       "      <th></th>\n",
       "      <th></th>\n",
       "      <th></th>\n",
       "      <th></th>\n",
       "    </tr>\n",
       "  </thead>\n",
       "  <tbody>\n",
       "    <tr>\n",
       "      <th>4</th>\n",
       "      <td>H00282876</td>\n",
       "      <td>201910</td>\n",
       "      <td>45.0</td>\n",
       "      <td>23.0</td>\n",
       "      <td>10</td>\n",
       "      <td>2.0</td>\n",
       "      <td>80.0</td>\n",
       "      <td>0</td>\n",
       "      <td>Alya</td>\n",
       "      <td>Fujeirah</td>\n",
       "      <td>19.0</td>\n",
       "    </tr>\n",
       "    <tr>\n",
       "      <th>48</th>\n",
       "      <td>H00282876</td>\n",
       "      <td>201920</td>\n",
       "      <td>35.0</td>\n",
       "      <td>8.0</td>\n",
       "      <td>10</td>\n",
       "      <td>17.0</td>\n",
       "      <td>70.0</td>\n",
       "      <td>0</td>\n",
       "      <td>Alya</td>\n",
       "      <td>Fujeirah</td>\n",
       "      <td>19.0</td>\n",
       "    </tr>\n",
       "    <tr>\n",
       "      <th>85</th>\n",
       "      <td>H00635996</td>\n",
       "      <td>201920</td>\n",
       "      <td>38.0</td>\n",
       "      <td>16.0</td>\n",
       "      <td>8</td>\n",
       "      <td>6.0</td>\n",
       "      <td>68.0</td>\n",
       "      <td>0</td>\n",
       "      <td>Ana</td>\n",
       "      <td>Abu Dhabi</td>\n",
       "      <td>19.0</td>\n",
       "    </tr>\n",
       "    <tr>\n",
       "      <th>41</th>\n",
       "      <td>H00635996</td>\n",
       "      <td>201910</td>\n",
       "      <td>29.0</td>\n",
       "      <td>22.0</td>\n",
       "      <td>16</td>\n",
       "      <td>3.0</td>\n",
       "      <td>70.0</td>\n",
       "      <td>0</td>\n",
       "      <td>Ana</td>\n",
       "      <td>Abu Dhabi</td>\n",
       "      <td>19.0</td>\n",
       "    </tr>\n",
       "    <tr>\n",
       "      <th>18</th>\n",
       "      <td>H00326181</td>\n",
       "      <td>201910</td>\n",
       "      <td>22.0</td>\n",
       "      <td>19.0</td>\n",
       "      <td>5</td>\n",
       "      <td>13.0</td>\n",
       "      <td>59.0</td>\n",
       "      <td>0</td>\n",
       "      <td>Reem</td>\n",
       "      <td>Sharjah</td>\n",
       "      <td>19.0</td>\n",
       "    </tr>\n",
       "  </tbody>\n",
       "</table>\n",
       "</div>"
      ],
      "text/plain": [
       "           stid     sem    q1    q2  q3    q4  total  gen fname       town  \\\n",
       "crno                                                                         \n",
       "4     H00282876  201910  45.0  23.0  10   2.0   80.0    0  Alya   Fujeirah   \n",
       "48    H00282876  201920  35.0   8.0  10  17.0   70.0    0  Alya   Fujeirah   \n",
       "85    H00635996  201920  38.0  16.0   8   6.0   68.0    0   Ana  Abu Dhabi   \n",
       "41    H00635996  201910  29.0  22.0  16   3.0   70.0    0   Ana  Abu Dhabi   \n",
       "18    H00326181  201910  22.0  19.0   5  13.0   59.0    0  Reem    Sharjah   \n",
       "\n",
       "       age  \n",
       "crno        \n",
       "4     19.0  \n",
       "48    19.0  \n",
       "85    19.0  \n",
       "41    19.0  \n",
       "18    19.0  "
      ]
     },
     "execution_count": 18,
     "metadata": {},
     "output_type": "execute_result"
    }
   ],
   "source": [
    "# copy the original dataframe\n",
    "FemaleStudents = DatasetFinal[DatasetFinal.gen == 0].copy()\n",
    "FemaleStudents.sort_values('age', inplace=True)\n",
    "FemaleStudents.head()"
   ]
  },
  {
   "cell_type": "markdown",
   "id": "1453c851",
   "metadata": {},
   "source": [
    "# 7- Sort the ages of Dubai campus students?"
   ]
  },
  {
   "cell_type": "code",
   "execution_count": 19,
   "id": "a6ff6e95",
   "metadata": {},
   "outputs": [
    {
     "data": {
      "text/html": [
       "<div>\n",
       "<style scoped>\n",
       "    .dataframe tbody tr th:only-of-type {\n",
       "        vertical-align: middle;\n",
       "    }\n",
       "\n",
       "    .dataframe tbody tr th {\n",
       "        vertical-align: top;\n",
       "    }\n",
       "\n",
       "    .dataframe thead th {\n",
       "        text-align: right;\n",
       "    }\n",
       "</style>\n",
       "<table border=\"1\" class=\"dataframe\">\n",
       "  <thead>\n",
       "    <tr style=\"text-align: right;\">\n",
       "      <th></th>\n",
       "      <th>stid</th>\n",
       "      <th>sem</th>\n",
       "      <th>q1</th>\n",
       "      <th>q2</th>\n",
       "      <th>q3</th>\n",
       "      <th>q4</th>\n",
       "      <th>total</th>\n",
       "      <th>gen</th>\n",
       "      <th>fname</th>\n",
       "      <th>town</th>\n",
       "      <th>age</th>\n",
       "    </tr>\n",
       "    <tr>\n",
       "      <th>crno</th>\n",
       "      <th></th>\n",
       "      <th></th>\n",
       "      <th></th>\n",
       "      <th></th>\n",
       "      <th></th>\n",
       "      <th></th>\n",
       "      <th></th>\n",
       "      <th></th>\n",
       "      <th></th>\n",
       "      <th></th>\n",
       "      <th></th>\n",
       "    </tr>\n",
       "  </thead>\n",
       "  <tbody>\n",
       "    <tr>\n",
       "      <th>20</th>\n",
       "      <td>H00750429</td>\n",
       "      <td>201910</td>\n",
       "      <td>34.0</td>\n",
       "      <td>5.0</td>\n",
       "      <td>9</td>\n",
       "      <td>24.0</td>\n",
       "      <td>72.0</td>\n",
       "      <td>1</td>\n",
       "      <td>Mayed</td>\n",
       "      <td>Dubai</td>\n",
       "      <td>20.0</td>\n",
       "    </tr>\n",
       "    <tr>\n",
       "      <th>33</th>\n",
       "      <td>H00241167</td>\n",
       "      <td>201910</td>\n",
       "      <td>44.0</td>\n",
       "      <td>8.0</td>\n",
       "      <td>10</td>\n",
       "      <td>22.0</td>\n",
       "      <td>84.0</td>\n",
       "      <td>0</td>\n",
       "      <td>Nouf</td>\n",
       "      <td>Dubai</td>\n",
       "      <td>20.0</td>\n",
       "    </tr>\n",
       "    <tr>\n",
       "      <th>64</th>\n",
       "      <td>H00750429</td>\n",
       "      <td>201920</td>\n",
       "      <td>37.0</td>\n",
       "      <td>7.0</td>\n",
       "      <td>23</td>\n",
       "      <td>25.0</td>\n",
       "      <td>92.0</td>\n",
       "      <td>1</td>\n",
       "      <td>Mayed</td>\n",
       "      <td>Dubai</td>\n",
       "      <td>20.0</td>\n",
       "    </tr>\n",
       "    <tr>\n",
       "      <th>77</th>\n",
       "      <td>H00241167</td>\n",
       "      <td>201920</td>\n",
       "      <td>44.0</td>\n",
       "      <td>8.0</td>\n",
       "      <td>10</td>\n",
       "      <td>22.0</td>\n",
       "      <td>84.0</td>\n",
       "      <td>0</td>\n",
       "      <td>Nouf</td>\n",
       "      <td>Dubai</td>\n",
       "      <td>20.0</td>\n",
       "    </tr>\n",
       "    <tr>\n",
       "      <th>11</th>\n",
       "      <td>H00128176</td>\n",
       "      <td>201910</td>\n",
       "      <td>21.0</td>\n",
       "      <td>18.0</td>\n",
       "      <td>7</td>\n",
       "      <td>1.0</td>\n",
       "      <td>47.0</td>\n",
       "      <td>0</td>\n",
       "      <td>Shaika</td>\n",
       "      <td>Dubai</td>\n",
       "      <td>21.0</td>\n",
       "    </tr>\n",
       "  </tbody>\n",
       "</table>\n",
       "</div>"
      ],
      "text/plain": [
       "           stid     sem    q1    q2  q3    q4  total  gen   fname   town   age\n",
       "crno                                                                          \n",
       "20    H00750429  201910  34.0   5.0   9  24.0   72.0    1   Mayed  Dubai  20.0\n",
       "33    H00241167  201910  44.0   8.0  10  22.0   84.0    0    Nouf  Dubai  20.0\n",
       "64    H00750429  201920  37.0   7.0  23  25.0   92.0    1   Mayed  Dubai  20.0\n",
       "77    H00241167  201920  44.0   8.0  10  22.0   84.0    0    Nouf  Dubai  20.0\n",
       "11    H00128176  201910  21.0  18.0   7   1.0   47.0    0  Shaika  Dubai  21.0"
      ]
     },
     "execution_count": 19,
     "metadata": {},
     "output_type": "execute_result"
    }
   ],
   "source": [
    "Dubai = DatasetFinal[DatasetFinal.town == 'Dubai'].copy()\n",
    "Dubai.sort_values('age', inplace=True)\n",
    "Dubai.head()"
   ]
  },
  {
   "cell_type": "markdown",
   "id": "ad3f39ca",
   "metadata": {},
   "source": [
    "# 8- Visualize the ages using Pie chart?"
   ]
  },
  {
   "cell_type": "code",
   "execution_count": 20,
   "id": "b63bb08c",
   "metadata": {},
   "outputs": [
    {
     "data": {
      "text/plain": [
       "<AxesSubplot:ylabel='Ages'>"
      ]
     },
     "execution_count": 20,
     "metadata": {},
     "output_type": "execute_result"
    },
    {
     "data": {
      "image/png": "[encoded data removed]",
      "text/plain": [
       "<Figure size 432x288 with 1 Axes>"
      ]
     },
     "metadata": {},
     "output_type": "display_data"
    }
   ],
   "source": [
    "# pie chart\n",
    "# visualizing the ages\n",
    "DatasetFinal.groupby(['age']).size().plot(kind='pie', label='Ages')"
   ]
  },
  {
   "cell_type": "markdown",
   "id": "22a94256",
   "metadata": {},
   "source": [
    "# 9- Visualize the total marks in bar chart?"
   ]
  },
  {
   "cell_type": "code",
   "execution_count": 21,
   "id": "c74f18ee",
   "metadata": {},
   "outputs": [
    {
     "name": "stderr",
     "output_type": "stream",
     "text": [
      "C:\\Users\\saurav\\AppData\\Local\\Temp/ipykernel_13284/2192586002.py:3: SettingWithCopyWarning: \n",
      "A value is trying to be set on a copy of a slice from a DataFrame.\n",
      "Try using .loc[row_indexer,col_indexer] = value instead\n",
      "\n",
      "See the caveats in the documentation: https://pandas.pydata.org/pandas-docs/stable/user_guide/indexing.html#returning-a-view-versus-a-copy\n",
      "  DatasetFinal['bins'] = pd.cut(DatasetFinal['total'],bins=[0,20,40,60, 80, 100], labels=[\"0-20\",\"21-40\",\"41-60\",\"61-80\",\"81-100\"])\n"
     ]
    }
   ],
   "source": [
    "# bar chart\n",
    "# visualizing the total marks with the ranges \"0-20\",\"21-40\",\"41-60\",\"61-80\",\"81-100\"\n",
    "DatasetFinal['bins'] = pd.cut(DatasetFinal['total'],bins=[0,20,40,60, 80, 100], labels=[\"0-20\",\"21-40\",\"41-60\",\"61-80\",\"81-100\"])"
   ]
  },
  {
   "cell_type": "code",
   "execution_count": 22,
   "id": "5040f4be",
   "metadata": {},
   "outputs": [
    {
     "data": {
      "text/plain": [
       "<AxesSubplot:xlabel='bins'>"
      ]
     },
     "execution_count": 22,
     "metadata": {},
     "output_type": "execute_result"
    },
    {
     "data": {
      "image/png": "[encoded data removed]",
      "text/plain": [
       "<Figure size 360x360 with 1 Axes>"
      ]
     },
     "metadata": {
      "needs_background": "light"
     },
     "output_type": "display_data"
    }
   ],
   "source": [
    "DatasetFinal.groupby('bins').size().plot.bar(figsize=(5, 5), x = \"Bins\", y = \"Total Marks\")"
   ]
  },
  {
   "cell_type": "markdown",
   "id": "470b2f74",
   "metadata": {},
   "source": [
    "# 10- Visualize the marks of quiz 4 ?"
   ]
  },
  {
   "cell_type": "code",
   "execution_count": 23,
   "id": "83647a44",
   "metadata": {},
   "outputs": [
    {
     "name": "stderr",
     "output_type": "stream",
     "text": [
      "C:\\Users\\saurav\\AppData\\Local\\Temp/ipykernel_13284/1178868139.py:3: SettingWithCopyWarning: \n",
      "A value is trying to be set on a copy of a slice from a DataFrame.\n",
      "Try using .loc[row_indexer,col_indexer] = value instead\n",
      "\n",
      "See the caveats in the documentation: https://pandas.pydata.org/pandas-docs/stable/user_guide/indexing.html#returning-a-view-versus-a-copy\n",
      "  DatasetFinal['bins'] = pd.cut(DatasetFinal['q4'],bins=[0,5,10,15,20,25], labels=[\"0-5\",\"6-10\",\"11-15\",\"16-20\",\"21-25\"])\n"
     ]
    }
   ],
   "source": [
    "# visualization the marks of quiz 4\n",
    "# with the ranges \"0-5\",\"6-10\",\"11-15\",\"16-20\",\"21-25\"\n",
    "DatasetFinal['bins'] = pd.cut(DatasetFinal['q4'],bins=[0,5,10,15,20,25], labels=[\"0-5\",\"6-10\",\"11-15\",\"16-20\",\"21-25\"])"
   ]
  },
  {
   "cell_type": "code",
   "execution_count": 24,
   "id": "7e490f5f",
   "metadata": {},
   "outputs": [
    {
     "data": {
      "text/plain": [
       "<AxesSubplot:xlabel='bins'>"
      ]
     },
     "execution_count": 24,
     "metadata": {},
     "output_type": "execute_result"
    },
    {
     "data": {
      "image/png": "[encoded data removed]",
      "text/plain": [
       "<Figure size 360x360 with 1 Axes>"
      ]
     },
     "metadata": {
      "needs_background": "light"
     },
     "output_type": "display_data"
    }
   ],
   "source": [
    "DatasetFinal.groupby('bins').size().plot.bar(figsize=(5, 5), x='Bins', y='Q4 Marks')"
   ]
  }
 ],
 "metadata": {
  "kernelspec": {
   "display_name": "Python 3 (ipykernel)",
   "language": "python",
   "name": "python3"
  },
  "language_info": {
   "codemirror_mode": {
    "name": "ipython",
    "version": 3
   },
   "file_extension": ".py",
   "mimetype": "text/x-python",
   "name": "python",
   "nbconvert_exporter": "python",
   "pygments_lexer": "ipython3",
   "version": "3.8.11"
  }
 },
 "nbformat": 4,
 "nbformat_minor": 5
}
