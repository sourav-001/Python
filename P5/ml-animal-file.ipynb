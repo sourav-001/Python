{
 "cells": [
  {
   "cell_type": "code",
   "execution_count": 1,
   "metadata": {
    "execution": {
     "iopub.execute_input": "2021-12-18T16:34:03.609368Z",
     "iopub.status.busy": "2021-12-18T16:34:03.608583Z",
     "iopub.status.idle": "2021-12-18T16:34:04.389444Z",
     "shell.execute_reply": "2021-12-18T16:34:04.388378Z",
     "shell.execute_reply.started": "2021-12-18T15:49:22.044512Z"
    },
    "papermill": {
     "duration": 0.805574,
     "end_time": "2021-12-18T16:34:04.389566",
     "exception": false,
     "start_time": "2021-12-18T16:34:03.583992",
     "status": "completed"
    },
    "tags": []
   },
   "outputs": [],
   "source": [
    "# import libraries\n",
    "import tensorflow as tf\n",
    "from tensorflow.keras.preprocessing.image import ImageDataGenerator\n",
    "import matplotlib.pyplot as plt\n",
    "from tensorflow.keras import applications\n",
    "from tensorflow.keras.models import Sequential, Model, load_model\n",
    "from tensorflow.keras.layers import Dropout, Flatten, Dense\n",
    "from tensorflow.keras import optimizers\n",
    "from tensorflow.keras.callbacks import ModelCheckpoint\n",
    "from tqdm.notebook import tqdm\n",
    "from sklearn.model_selection import train_test_split\n",
    "import requests\n",
    "from PIL import Image\n",
    "from io import BytesIO\n",
    "import cv2\n",
    "import pandas as pd\n",
    "import numpy as np\n",
    "import os"
   ]
  },
  {
   "cell_type": "code",
   "execution_count": 2,
   "metadata": {
    "execution": {
     "iopub.execute_input": "2021-12-18T16:34:04.424569Z",
     "iopub.status.busy": "2021-12-18T16:34:04.423931Z",
     "iopub.status.idle": "2021-12-18T16:34:04.427120Z",
     "shell.execute_reply": "2021-12-18T16:34:04.426574Z",
     "shell.execute_reply.started": "2021-12-18T15:49:27.531505Z"
    },
    "papermill": {
     "duration": 0.02268,
     "end_time": "2021-12-18T16:34:04.427211",
     "exception": false,
     "start_time": "2021-12-18T16:34:04.404531",
     "status": "completed"
    },
    "tags": []
   },
   "outputs": [],
   "source": [
    "# dictonary\n",
    "clsTrnslt = {\n",
    "    \"cane\": \"Dog\",\n",
    "    \"cavallo\": \"Horse\",\n",
    "    \"elefante\": \"Elephant\",\n",
    "    \"farfalla\": \"Butterfly\",\n",
    "    \"gallina\": \"Chicken\",\n",
    "    \"gatto\": \"Cat\",\n",
    "    \"mucca\": \"Cow\",\n",
    "    \"pecora\": \"Sheep\",\n",
    "    \"scoiattolo\": \"Squirrel\",\n",
    "    \"ragno\": \"Spider\"\n",
    "}"
   ]
  },
  {
   "cell_type": "code",
   "execution_count": 3,
   "metadata": {
    "execution": {
     "iopub.execute_input": "2021-12-18T16:34:04.460180Z",
     "iopub.status.busy": "2021-12-18T16:34:04.459634Z",
     "iopub.status.idle": "2021-12-18T16:34:04.471022Z",
     "shell.execute_reply": "2021-12-18T16:34:04.470565Z",
     "shell.execute_reply.started": "2021-12-18T15:49:30.117367Z"
    },
    "papermill": {
     "duration": 0.0293,
     "end_time": "2021-12-18T16:34:04.471119",
     "exception": false,
     "start_time": "2021-12-18T16:34:04.441819",
     "status": "completed"
    },
    "tags": []
   },
   "outputs": [],
   "source": [
    "# data path name\n",
    "Folder_Path_Name = os.listdir('/kaggle/input/animals10/raw-img/')\n",
    "# empty list\n",
    "File_In_Folder1 = []\n",
    "File_In_Folder2 = []\n",
    "Target_File_In_Folder1 = []\n",
    "Target_File_In_Folder2 = []"
   ]
  },
  {
   "cell_type": "code",
   "execution_count": 4,
   "metadata": {
    "execution": {
     "iopub.execute_input": "2021-12-18T16:34:04.506415Z",
     "iopub.status.busy": "2021-12-18T16:34:04.505829Z",
     "iopub.status.idle": "2021-12-18T16:34:06.176754Z",
     "shell.execute_reply": "2021-12-18T16:34:06.176284Z",
     "shell.execute_reply.started": "2021-12-18T15:49:32.223268Z"
    },
    "papermill": {
     "duration": 1.691187,
     "end_time": "2021-12-18T16:34:06.176864",
     "exception": false,
     "start_time": "2021-12-18T16:34:04.485677",
     "status": "completed"
    },
    "tags": []
   },
   "outputs": [],
   "source": [
    "# loop\n",
    "for x, Fldr_Name in enumerate(Folder_Path_Name):\n",
    "    # assign files\n",
    "    File_Names = os.listdir('/kaggle/input/animals10/raw-img/' + Fldr_Name)\n",
    "    # counter\n",
    "    Cnt_Var = 0\n",
    "    # iterate items one by one from File_Names\n",
    "    for Each_File in File_Names:\n",
    "        # if counter value is less than 1400, items will be append on File_In_Folder1 list\n",
    "        if Cnt_Var < 1400:\n",
    "            File_In_Folder1.append('/kaggle/input/animals10/raw-img/' + Fldr_Name + '/' + Each_File)\n",
    "            Target_File_In_Folder1.append(clsTrnslt[Fldr_Name])\n",
    "        # else items will be appended in File_In_Folder2 list\n",
    "        else:\n",
    "            File_In_Folder2.append('/kaggle/input/animals10/raw-img/' + Fldr_Name + '/' + Each_File)\n",
    "            Target_File_In_Folder2.append(clsTrnslt[Fldr_Name])\n",
    "        # countter value increased \n",
    "        Cnt_Var += 1"
   ]
  },
  {
   "cell_type": "code",
   "execution_count": 5,
   "metadata": {
    "execution": {
     "iopub.execute_input": "2021-12-18T16:34:06.216391Z",
     "iopub.status.busy": "2021-12-18T16:34:06.215819Z",
     "iopub.status.idle": "2021-12-18T16:34:06.220490Z",
     "shell.execute_reply": "2021-12-18T16:34:06.219968Z",
     "shell.execute_reply.started": "2021-12-18T15:49:35.662519Z"
    },
    "papermill": {
     "duration": 0.028631,
     "end_time": "2021-12-18T16:34:06.220581",
     "exception": false,
     "start_time": "2021-12-18T16:34:06.191950",
     "status": "completed"
    },
    "tags": []
   },
   "outputs": [],
   "source": [
    "# create a dataframe that has file names and their class translation name from File_In_Folder1 and Target_File_In_Folder1\n",
    "Data_Frame1 = pd.DataFrame(\n",
    "    {\n",
    "        'Filepath_Name': File_In_Folder1,\n",
    "        'Target_F_Name': Target_File_In_Folder1\n",
    "    }\n",
    ")"
   ]
  },
  {
   "cell_type": "code",
   "execution_count": 6,
   "metadata": {
    "execution": {
     "iopub.execute_input": "2021-12-18T16:34:06.257482Z",
     "iopub.status.busy": "2021-12-18T16:34:06.256764Z",
     "iopub.status.idle": "2021-12-18T16:34:06.259109Z",
     "shell.execute_reply": "2021-12-18T16:34:06.259515Z",
     "shell.execute_reply.started": "2021-12-18T15:49:37.756740Z"
    },
    "papermill": {
     "duration": 0.024449,
     "end_time": "2021-12-18T16:34:06.259622",
     "exception": false,
     "start_time": "2021-12-18T16:34:06.235173",
     "status": "completed"
    },
    "tags": []
   },
   "outputs": [],
   "source": [
    "# create a dataframe that has file names and their class translation name from File_In_Folder2 and Target_File_In_Folder2\n",
    "Data_Frame2 = pd.DataFrame(\n",
    "    {\n",
    "        'Filepath_Name': File_In_Folder2,\n",
    "        'Target_F_Name': Target_File_In_Folder2\n",
    "    }\n",
    ")"
   ]
  },
  {
   "cell_type": "code",
   "execution_count": 7,
   "metadata": {
    "execution": {
     "iopub.execute_input": "2021-12-18T16:34:06.303217Z",
     "iopub.status.busy": "2021-12-18T16:34:06.302419Z",
     "iopub.status.idle": "2021-12-18T16:34:06.307275Z",
     "shell.execute_reply": "2021-12-18T16:34:06.306704Z",
     "shell.execute_reply.started": "2021-12-18T15:49:40.730694Z"
    },
    "papermill": {
     "duration": 0.031768,
     "end_time": "2021-12-18T16:34:06.307368",
     "exception": false,
     "start_time": "2021-12-18T16:34:06.275600",
     "status": "completed"
    },
    "tags": []
   },
   "outputs": [
    {
     "name": "stdout",
     "output_type": "stream",
     "text": [
      "DataFrame1 =\n",
      "___________________________________________________________________________\n",
      "                                           Filepath_Name Target_F_Name\n",
      "0      /kaggle/input/animals10/raw-img/cavallo/OIP-md...         Horse\n",
      "1      /kaggle/input/animals10/raw-img/cavallo/OIP-TP...         Horse\n",
      "2      /kaggle/input/animals10/raw-img/cavallo/OIP-jl...         Horse\n",
      "3      /kaggle/input/animals10/raw-img/cavallo/OIP-F4...         Horse\n",
      "4      /kaggle/input/animals10/raw-img/cavallo/OIP-UF...         Horse\n",
      "...                                                  ...           ...\n",
      "13995  /kaggle/input/animals10/raw-img/farfalla/OIP-r...     Butterfly\n",
      "13996  /kaggle/input/animals10/raw-img/farfalla/ea36b...     Butterfly\n",
      "13997  /kaggle/input/animals10/raw-img/farfalla/OIP-s...     Butterfly\n",
      "13998  /kaggle/input/animals10/raw-img/farfalla/OIP-Y...     Butterfly\n",
      "13999  /kaggle/input/animals10/raw-img/farfalla/OIP-_...     Butterfly\n",
      "\n",
      "[14000 rows x 2 columns]\n",
      "___________________________________________________________________________\n",
      "\n",
      "DataFrame2 =\n",
      "___________________________________________________________________________\n",
      "                                           Filepath_Name Target_F_Name\n",
      "0      /kaggle/input/animals10/raw-img/cavallo/OIP-OE...         Horse\n",
      "1      /kaggle/input/animals10/raw-img/cavallo/OIP-cI...         Horse\n",
      "2      /kaggle/input/animals10/raw-img/cavallo/OIP-Pc...         Horse\n",
      "3      /kaggle/input/animals10/raw-img/cavallo/OIP-fp...         Horse\n",
      "4      /kaggle/input/animals10/raw-img/cavallo/OIP-5Q...         Horse\n",
      "...                                                  ...           ...\n",
      "12174  /kaggle/input/animals10/raw-img/farfalla/OIP-4...     Butterfly\n",
      "12175  /kaggle/input/animals10/raw-img/farfalla/OIP-Q...     Butterfly\n",
      "12176  /kaggle/input/animals10/raw-img/farfalla/OIP-1...     Butterfly\n",
      "12177  /kaggle/input/animals10/raw-img/farfalla/eb32b...     Butterfly\n",
      "12178  /kaggle/input/animals10/raw-img/farfalla/ea36b...     Butterfly\n",
      "\n",
      "[12179 rows x 2 columns]\n",
      "___________________________________________________________________________\n",
      "\n"
     ]
    }
   ],
   "source": [
    "# printing dataframe1 and dataframe2\n",
    "print(f\"DataFrame1 =\\n___________________________________________________________________________\\n\"\n",
    "      f\"{Data_Frame1}\"\n",
    "      f\"\\n___________________________________________________________________________\\n\")\n",
    "\n",
    "print(f\"DataFrame2 =\\n___________________________________________________________________________\\n\"\n",
    "      f\"{Data_Frame2}\"\n",
    "      f\"\\n___________________________________________________________________________\\n\")"
   ]
  },
  {
   "cell_type": "code",
   "execution_count": 8,
   "metadata": {
    "execution": {
     "iopub.execute_input": "2021-12-18T16:34:06.342726Z",
     "iopub.status.busy": "2021-12-18T16:34:06.341428Z",
     "iopub.status.idle": "2021-12-18T16:34:06.346921Z",
     "shell.execute_reply": "2021-12-18T16:34:06.346426Z",
     "shell.execute_reply.started": "2021-12-18T15:49:44.561402Z"
    },
    "papermill": {
     "duration": 0.024401,
     "end_time": "2021-12-18T16:34:06.347014",
     "exception": false,
     "start_time": "2021-12-18T16:34:06.322613",
     "status": "completed"
    },
    "tags": []
   },
   "outputs": [],
   "source": [
    "# train dataframe1\n",
    "Train_Data, Test_Data = train_test_split(Data_Frame1, test_size=0.2857, random_state=0)"
   ]
  },
  {
   "cell_type": "code",
   "execution_count": 9,
   "metadata": {
    "execution": {
     "iopub.execute_input": "2021-12-18T16:34:06.382909Z",
     "iopub.status.busy": "2021-12-18T16:34:06.382236Z",
     "iopub.status.idle": "2021-12-18T16:34:06.385102Z",
     "shell.execute_reply": "2021-12-18T16:34:06.384626Z",
     "shell.execute_reply.started": "2021-12-18T15:49:47.102368Z"
    },
    "papermill": {
     "duration": 0.02312,
     "end_time": "2021-12-18T16:34:06.385197",
     "exception": false,
     "start_time": "2021-12-18T16:34:06.362077",
     "status": "completed"
    },
    "tags": []
   },
   "outputs": [],
   "source": [
    "# ImageDataGenerator generate batches of tensor image data with real-time data augmentation\n",
    "DataGenerate = ImageDataGenerator(\n",
    "    rescale=1. / 255,\n",
    "    shear_range=0.2,\n",
    "    zoom_range=0.2,\n",
    "    horizontal_flip=True,\n",
    "    rotation_range=30,\n",
    "    width_shift_range=0.1,\n",
    "    height_shift_range=0.1,\n",
    "    samplewise_center=True\n",
    ")\n",
    "\n",
    "DG4TestData = ImageDataGenerator(\n",
    "    rescale=1. / 255,\n",
    "    samplewise_center=True\n",
    ")"
   ]
  },
  {
   "cell_type": "code",
   "execution_count": 10,
   "metadata": {
    "execution": {
     "iopub.execute_input": "2021-12-18T16:34:06.432691Z",
     "iopub.status.busy": "2021-12-18T16:34:06.431935Z",
     "iopub.status.idle": "2021-12-18T16:34:06.478846Z",
     "shell.execute_reply": "2021-12-18T16:34:06.479451Z",
     "shell.execute_reply.started": "2021-12-18T15:49:51.253326Z"
    },
    "papermill": {
     "duration": 0.079179,
     "end_time": "2021-12-18T16:34:06.479600",
     "exception": false,
     "start_time": "2021-12-18T16:34:06.400421",
     "status": "completed"
    },
    "tags": []
   },
   "outputs": [
    {
     "name": "stdout",
     "output_type": "stream",
     "text": [
      "Found 10000 non-validated image filenames belonging to 10 classes.\n",
      "Found 4000 non-validated image filenames belonging to 10 classes.\n"
     ]
    }
   ],
   "source": [
    "# find non-validated image filenames belong to the class for train data\n",
    "Train_Data_Flow = DataGenerate.flow_from_dataframe(\n",
    "    Train_Data,\n",
    "    x_col='Filepath_Name',\n",
    "    y_col='Target_F_Name',\n",
    "    target_size=(224, 224),\n",
    "    interpolation='lanczos',\n",
    "    validate_filenames=False\n",
    ")\n",
    "\n",
    "# find non-validated image filenames belong to the class for test data\n",
    "Test_Data_Flow = DG4TestData.flow_from_dataframe(\n",
    "    Test_Data,\n",
    "    x_col='Filepath_Name',\n",
    "    y_col='Target_F_Name',\n",
    "    target_size=(224, 224),\n",
    "    interpolation='lanczos',\n",
    "    validate_filenames=False\n",
    ")"
   ]
  },
  {
   "cell_type": "code",
   "execution_count": 11,
   "metadata": {
    "execution": {
     "iopub.execute_input": "2021-12-18T16:34:06.515190Z",
     "iopub.status.busy": "2021-12-18T16:34:06.514667Z",
     "iopub.status.idle": "2021-12-18T16:34:09.364648Z",
     "shell.execute_reply": "2021-12-18T16:34:09.363606Z",
     "shell.execute_reply.started": "2021-12-18T15:49:56.935143Z"
    },
    "papermill": {
     "duration": 2.868961,
     "end_time": "2021-12-18T16:34:09.364779",
     "exception": false,
     "start_time": "2021-12-18T16:34:06.495818",
     "status": "completed"
    },
    "tags": []
   },
   "outputs": [
    {
     "name": "stdout",
     "output_type": "stream",
     "text": [
      "Downloading data from https://storage.googleapis.com/tensorflow/keras-applications/vgg16/vgg16_weights_tf_dim_ordering_tf_kernels_notop.h5\n",
      "58892288/58889256 [==============================] - 0s 0us/step\n"
     ]
    }
   ],
   "source": [
    "# create model\n",
    "my_model = applications.VGG16(\n",
    "    weights='imagenet',\n",
    "    include_top=False,\n",
    "    input_shape=(224, 224, 3)\n",
    ")"
   ]
  },
  {
   "cell_type": "code",
   "execution_count": 12,
   "metadata": {
    "execution": {
     "iopub.execute_input": "2021-12-18T16:34:09.408073Z",
     "iopub.status.busy": "2021-12-18T16:34:09.407185Z",
     "iopub.status.idle": "2021-12-18T16:34:09.411786Z",
     "shell.execute_reply": "2021-12-18T16:34:09.411342Z",
     "shell.execute_reply.started": "2021-12-18T15:50:09.804184Z"
    },
    "papermill": {
     "duration": 0.0295,
     "end_time": "2021-12-18T16:34:09.411899",
     "exception": false,
     "start_time": "2021-12-18T16:34:09.382399",
     "status": "completed"
    },
    "tags": []
   },
   "outputs": [],
   "source": [
    "# flatten is used for flatten the input\n",
    "FLTTN1 = tf.keras.layers.Flatten()(my_model.output)"
   ]
  },
  {
   "cell_type": "code",
   "execution_count": 13,
   "metadata": {
    "execution": {
     "iopub.execute_input": "2021-12-18T16:34:09.451804Z",
     "iopub.status.busy": "2021-12-18T16:34:09.451271Z",
     "iopub.status.idle": "2021-12-18T16:34:09.476396Z",
     "shell.execute_reply": "2021-12-18T16:34:09.475921Z",
     "shell.execute_reply.started": "2021-12-18T15:50:14.443295Z"
    },
    "papermill": {
     "duration": 0.047045,
     "end_time": "2021-12-18T16:34:09.476490",
     "exception": false,
     "start_time": "2021-12-18T16:34:09.429445",
     "status": "completed"
    },
    "tags": []
   },
   "outputs": [],
   "source": [
    "# applies dropout to input\n",
    "DropOutData_1 = Dropout(0.1)(FLTTN1)"
   ]
  },
  {
   "cell_type": "code",
   "execution_count": 14,
   "metadata": {
    "execution": {
     "iopub.execute_input": "2021-12-18T16:34:09.518236Z",
     "iopub.status.busy": "2021-12-18T16:34:09.517395Z",
     "iopub.status.idle": "2021-12-18T16:34:09.547583Z",
     "shell.execute_reply": "2021-12-18T16:34:09.546706Z",
     "shell.execute_reply.started": "2021-12-18T15:50:27.704954Z"
    },
    "papermill": {
     "duration": 0.05388,
     "end_time": "2021-12-18T16:34:09.547678",
     "exception": false,
     "start_time": "2021-12-18T16:34:09.493798",
     "status": "completed"
    },
    "tags": []
   },
   "outputs": [],
   "source": [
    "Cls1 = tf.keras.layers.Dense(256, activation='relu')(DropOutData_1)\n",
    "DropOutData_2 = Dropout(0.1)(Cls1)\n",
    "OutPutData = tf.keras.layers.Dense(10, activation='softmax')(DropOutData_2)\n",
    "my_model = Model(inputs=my_model.inputs, outputs=OutPutData)"
   ]
  },
  {
   "cell_type": "code",
   "execution_count": 15,
   "metadata": {
    "execution": {
     "iopub.execute_input": "2021-12-18T16:34:09.588519Z",
     "iopub.status.busy": "2021-12-18T16:34:09.586767Z",
     "iopub.status.idle": "2021-12-18T16:34:09.589191Z",
     "shell.execute_reply": "2021-12-18T16:34:09.589615Z",
     "shell.execute_reply.started": "2021-12-18T15:50:35.943988Z"
    },
    "papermill": {
     "duration": 0.024589,
     "end_time": "2021-12-18T16:34:09.589719",
     "exception": false,
     "start_time": "2021-12-18T16:34:09.565130",
     "status": "completed"
    },
    "tags": []
   },
   "outputs": [],
   "source": [
    "# reduce learning rate\n",
    "LearningRateReduce = tf.keras.callbacks.ReduceLROnPlateau(\n",
    "    monitor='val_loss',\n",
    "    factor=0.2,\n",
    "    patience=1,\n",
    "    verbose=1,\n",
    "    min_delta=0.0001,\n",
    "    min_lr=1e-8\n",
    ")"
   ]
  },
  {
   "cell_type": "code",
   "execution_count": 16,
   "metadata": {
    "execution": {
     "iopub.execute_input": "2021-12-18T16:34:09.634847Z",
     "iopub.status.busy": "2021-12-18T16:34:09.634053Z",
     "iopub.status.idle": "2021-12-18T16:34:09.639948Z",
     "shell.execute_reply": "2021-12-18T16:34:09.639405Z",
     "shell.execute_reply.started": "2021-12-18T15:50:56.492498Z"
    },
    "papermill": {
     "duration": 0.033157,
     "end_time": "2021-12-18T16:34:09.640104",
     "exception": false,
     "start_time": "2021-12-18T16:34:09.606947",
     "status": "completed"
    },
    "tags": []
   },
   "outputs": [],
   "source": [
    "# model compilation\n",
    "my_model.compile(\n",
    "    loss='categorical_crossentropy',\n",
    "    optimizer=optimizers.SGD(lr=1e-3, momentum=0.9),\n",
    "    metrics=['accuracy']\n",
    ")"
   ]
  },
  {
   "cell_type": "code",
   "execution_count": 17,
   "metadata": {
    "execution": {
     "iopub.execute_input": "2021-12-18T16:34:09.680414Z",
     "iopub.status.busy": "2021-12-18T16:34:09.677983Z",
     "iopub.status.idle": "2021-12-18T16:34:09.690649Z",
     "shell.execute_reply": "2021-12-18T16:34:09.689989Z",
     "shell.execute_reply.started": "2021-12-18T15:51:02.405968Z"
    },
    "papermill": {
     "duration": 0.033309,
     "end_time": "2021-12-18T16:34:09.690796",
     "exception": false,
     "start_time": "2021-12-18T16:34:09.657487",
     "status": "completed"
    },
    "tags": []
   },
   "outputs": [
    {
     "name": "stdout",
     "output_type": "stream",
     "text": [
      "Model: \"model\"\n",
      "_________________________________________________________________\n",
      "Layer (type)                 Output Shape              Param #   \n",
      "=================================================================\n",
      "input_1 (InputLayer)         [(None, 224, 224, 3)]     0         \n",
      "_________________________________________________________________\n",
      "block1_conv1 (Conv2D)        (None, 224, 224, 64)      1792      \n",
      "_________________________________________________________________\n",
      "block1_conv2 (Conv2D)        (None, 224, 224, 64)      36928     \n",
      "_________________________________________________________________\n",
      "block1_pool (MaxPooling2D)   (None, 112, 112, 64)      0         \n",
      "_________________________________________________________________\n",
      "block2_conv1 (Conv2D)        (None, 112, 112, 128)     73856     \n",
      "_________________________________________________________________\n",
      "block2_conv2 (Conv2D)        (None, 112, 112, 128)     147584    \n",
      "_________________________________________________________________\n",
      "block2_pool (MaxPooling2D)   (None, 56, 56, 128)       0         \n",
      "_________________________________________________________________\n",
      "block3_conv1 (Conv2D)        (None, 56, 56, 256)       295168    \n",
      "_________________________________________________________________\n",
      "block3_conv2 (Conv2D)        (None, 56, 56, 256)       590080    \n",
      "_________________________________________________________________\n",
      "block3_conv3 (Conv2D)        (None, 56, 56, 256)       590080    \n",
      "_________________________________________________________________\n",
      "block3_pool (MaxPooling2D)   (None, 28, 28, 256)       0         \n",
      "_________________________________________________________________\n",
      "block4_conv1 (Conv2D)        (None, 28, 28, 512)       1180160   \n",
      "_________________________________________________________________\n",
      "block4_conv2 (Conv2D)        (None, 28, 28, 512)       2359808   \n",
      "_________________________________________________________________\n",
      "block4_conv3 (Conv2D)        (None, 28, 28, 512)       2359808   \n",
      "_________________________________________________________________\n",
      "block4_pool (MaxPooling2D)   (None, 14, 14, 512)       0         \n",
      "_________________________________________________________________\n",
      "block5_conv1 (Conv2D)        (None, 14, 14, 512)       2359808   \n",
      "_________________________________________________________________\n",
      "block5_conv2 (Conv2D)        (None, 14, 14, 512)       2359808   \n",
      "_________________________________________________________________\n",
      "block5_conv3 (Conv2D)        (None, 14, 14, 512)       2359808   \n",
      "_________________________________________________________________\n",
      "block5_pool (MaxPooling2D)   (None, 7, 7, 512)         0         \n",
      "_________________________________________________________________\n",
      "flatten (Flatten)            (None, 25088)             0         \n",
      "_________________________________________________________________\n",
      "dropout (Dropout)            (None, 25088)             0         \n",
      "_________________________________________________________________\n",
      "dense (Dense)                (None, 256)               6422784   \n",
      "_________________________________________________________________\n",
      "dropout_1 (Dropout)          (None, 256)               0         \n",
      "_________________________________________________________________\n",
      "dense_1 (Dense)              (None, 10)                2570      \n",
      "=================================================================\n",
      "Total params: 21,140,042\n",
      "Trainable params: 21,140,042\n",
      "Non-trainable params: 0\n",
      "_________________________________________________________________\n"
     ]
    }
   ],
   "source": [
    "# generae summary of the generated model\n",
    "my_model.summary()"
   ]
  },
  {
   "cell_type": "code",
   "execution_count": 18,
   "metadata": {
    "execution": {
     "iopub.execute_input": "2021-12-18T16:34:09.732431Z",
     "iopub.status.busy": "2021-12-18T16:34:09.731928Z",
     "iopub.status.idle": "2021-12-18T17:14:50.378445Z",
     "shell.execute_reply": "2021-12-18T17:14:50.379172Z",
     "shell.execute_reply.started": "2021-12-18T15:51:09.515169Z"
    },
    "papermill": {
     "duration": 2440.670069,
     "end_time": "2021-12-18T17:14:50.379372",
     "exception": false,
     "start_time": "2021-12-18T16:34:09.709303",
     "status": "completed"
    },
    "tags": []
   },
   "outputs": [
    {
     "name": "stdout",
     "output_type": "stream",
     "text": [
      "Epoch 1/10\n",
      "313/313 [==============================] - 298s 952ms/step - loss: 1.0014 - accuracy: 0.6572 - val_loss: 0.5123 - val_accuracy: 0.8290 - lr: 0.0010\n",
      "Epoch 2/10\n",
      "313/313 [==============================] - 235s 751ms/step - loss: 0.4229 - accuracy: 0.8632 - val_loss: 0.4613 - val_accuracy: 0.8528 - lr: 0.0010\n",
      "Epoch 3/10\n",
      "313/313 [==============================] - 237s 757ms/step - loss: 0.3005 - accuracy: 0.9012 - val_loss: 0.2910 - val_accuracy: 0.9072 - lr: 0.0010\n",
      "Epoch 4/10\n",
      "313/313 [==============================] - 234s 748ms/step - loss: 0.2416 - accuracy: 0.9205 - val_loss: 0.2555 - val_accuracy: 0.9153 - lr: 0.0010\n",
      "Epoch 5/10\n",
      "313/313 [==============================] - ETA: 0s - loss: 0.2174 - accuracy: 0.9284\n",
      "Epoch 00005: ReduceLROnPlateau reducing learning rate to 0.00020000000949949026.\n",
      "313/313 [==============================] - 240s 768ms/step - loss: 0.2174 - accuracy: 0.9284 - val_loss: 0.2583 - val_accuracy: 0.9187 - lr: 0.0010\n",
      "Epoch 6/10\n",
      "313/313 [==============================] - 241s 771ms/step - loss: 0.1085 - accuracy: 0.9688 - val_loss: 0.1864 - val_accuracy: 0.9440 - lr: 2.0000e-04\n",
      "Epoch 7/10\n",
      "313/313 [==============================] - ETA: 0s - loss: 0.0863 - accuracy: 0.9750\n",
      "Epoch 00007: ReduceLROnPlateau reducing learning rate to 4.0000001899898055e-05.\n",
      "313/313 [==============================] - 238s 759ms/step - loss: 0.0863 - accuracy: 0.9750 - val_loss: 0.1889 - val_accuracy: 0.9452 - lr: 2.0000e-04\n",
      "Epoch 8/10\n",
      "313/313 [==============================] - 233s 743ms/step - loss: 0.0772 - accuracy: 0.9777 - val_loss: 0.1803 - val_accuracy: 0.9455 - lr: 4.0000e-05\n",
      "Epoch 9/10\n",
      "313/313 [==============================] - 233s 744ms/step - loss: 0.0750 - accuracy: 0.9759 - val_loss: 0.1802 - val_accuracy: 0.9490 - lr: 4.0000e-05\n",
      "Epoch 10/10\n",
      "313/313 [==============================] - 234s 749ms/step - loss: 0.0668 - accuracy: 0.9808 - val_loss: 0.1791 - val_accuracy: 0.9485 - lr: 4.0000e-05\n"
     ]
    }
   ],
   "source": [
    "# train the model on generated data batch by batch and assign DataHistoryValues\n",
    "DataHistoryValues = my_model.fit_generator(\n",
    "    Train_Data_Flow,\n",
    "    epochs=10,\n",
    "    validation_data=Test_Data_Flow,\n",
    "    callbacks=[ModelCheckpoint('VGG16.model', monitor='val_acc'), LearningRateReduce]\n",
    ")"
   ]
  },
  {
   "cell_type": "code",
   "execution_count": 19,
   "metadata": {
    "execution": {
     "iopub.execute_input": "2021-12-18T17:14:52.174434Z",
     "iopub.status.busy": "2021-12-18T17:14:52.173541Z",
     "iopub.status.idle": "2021-12-18T17:14:52.175614Z",
     "shell.execute_reply": "2021-12-18T17:14:52.176052Z",
     "shell.execute_reply.started": "2021-12-18T16:30:40.989125Z"
    },
    "papermill": {
     "duration": 0.905429,
     "end_time": "2021-12-18T17:14:52.176168",
     "exception": false,
     "start_time": "2021-12-18T17:14:51.270739",
     "status": "completed"
    },
    "tags": []
   },
   "outputs": [],
   "source": [
    "DataLossValues = DataHistoryValues.history['loss']\n",
    "Data_of_LossValuesData = DataHistoryValues.history['val_loss']\n",
    "Epoch_Values = range(1, len(DataHistoryValues.history['accuracy']) + 1)"
   ]
  },
  {
   "cell_type": "code",
   "execution_count": 20,
   "metadata": {
    "execution": {
     "iopub.execute_input": "2021-12-18T17:14:54.039632Z",
     "iopub.status.busy": "2021-12-18T17:14:54.038582Z",
     "iopub.status.idle": "2021-12-18T17:14:54.446657Z",
     "shell.execute_reply": "2021-12-18T17:14:54.446206Z",
     "shell.execute_reply.started": "2021-12-18T16:31:00.590771Z"
    },
    "papermill": {
     "duration": 1.310257,
     "end_time": "2021-12-18T17:14:54.446777",
     "exception": false,
     "start_time": "2021-12-18T17:14:53.136520",
     "status": "completed"
    },
    "tags": []
   },
   "outputs": [
    {
     "data": {
      "image/png": "[encoded data removed]",
      "text/plain": [
       "<Figure size 1296x360 with 2 Axes>"
      ]
     },
     "metadata": {
      "needs_background": "light"
     },
     "output_type": "display_data"
    }
   ],
   "source": [
    "# data visualization\n",
    "a, ax = plt.subplots(\n",
    "    nrows=1,\n",
    "    ncols=2,\n",
    "    figsize=(18, 5)\n",
    ")\n",
    "\n",
    "ax[0].plot(\n",
    "    Epoch_Values,\n",
    "    DataLossValues,\n",
    "    marker='o',\n",
    "    label='Training Loss'\n",
    ")\n",
    "\n",
    "ax[0].plot(\n",
    "    Epoch_Values,\n",
    "    Data_of_LossValuesData,\n",
    "    marker='o',\n",
    "    color='green',\n",
    "    label='Validation Loss'\n",
    ")\n",
    "\n",
    "ax[0].set_title('Training & Validation Loss')\n",
    "ax[0].set_xlabel('Epochs')\n",
    "ax[0].set_ylabel('Loss')\n",
    "ax[0].legend(loc='best')\n",
    "ax[0].grid(True)\n",
    "\n",
    "Accuracy_Values = DataHistoryValues.history['accuracy']\n",
    "Data_Accuracy_Values = DataHistoryValues.history['val_accuracy']\n",
    "\n",
    "ax[1].plot(\n",
    "    Epoch_Values,\n",
    "    Accuracy_Values,\n",
    "    marker='o',\n",
    "    label='Training Accuracy'\n",
    ")\n",
    "\n",
    "ax[1].plot(\n",
    "    Epoch_Values,\n",
    "    Data_Accuracy_Values,\n",
    "    marker='o',\n",
    "    color='green',\n",
    "    label='Validation Accuracy'\n",
    ")\n",
    "\n",
    "ax[1].set_title('Training & Validation Accuracy')\n",
    "ax[1].set_xlabel('Epochs')\n",
    "ax[1].set_ylabel('Accuracy')\n",
    "ax[1].legend(loc='best')\n",
    "ax[1].grid(True)\n",
    "\n",
    "plt.show()\n",
    "a.savefig('LossAndAccuracy.eps', format='eps')\n",
    "plt.close()\n",
    "del DataLossValues, Data_of_LossValuesData, Epoch_Values, Accuracy_Values, Data_Accuracy_Values"
   ]
  },
  {
   "cell_type": "code",
   "execution_count": 21,
   "metadata": {
    "execution": {
     "iopub.execute_input": "2021-12-18T17:14:56.306482Z",
     "iopub.status.busy": "2021-12-18T17:14:56.305632Z",
     "iopub.status.idle": "2021-12-18T17:17:18.720164Z",
     "shell.execute_reply": "2021-12-18T17:17:18.720709Z",
     "shell.execute_reply.started": "2021-12-18T16:31:06.348968Z"
    },
    "papermill": {
     "duration": 143.386145,
     "end_time": "2021-12-18T17:17:18.720927",
     "exception": false,
     "start_time": "2021-12-18T17:14:55.334782",
     "status": "completed"
    },
    "tags": []
   },
   "outputs": [
    {
     "name": "stdout",
     "output_type": "stream",
     "text": [
      "Found 12179 non-validated image filenames belonging to 10 classes.\n",
      "381/381 [==============================] - 142s 372ms/step - loss: 0.1770 - accuracy: 0.9518\n",
      "[0.17702540755271912, 0.9518022537231445]\n"
     ]
    }
   ],
   "source": [
    "# generate accuracy\n",
    "Test_2_F = DG4TestData.flow_from_dataframe(\n",
    "    Data_Frame2,\n",
    "    x_col='Filepath_Name',\n",
    "    y_col='Target_F_Name',\n",
    "    target_size=(224, 224),\n",
    "    interpolation='lanczos',\n",
    "    validate_filenames=False\n",
    ")\n",
    "\n",
    "Score_Values = my_model.evaluate(Test_2_F)\n",
    "print(Score_Values)"
   ]
  },
  {
   "cell_type": "code",
   "execution_count": null,
   "metadata": {
    "papermill": {
     "duration": 1.051756,
     "end_time": "2021-12-18T17:17:20.779168",
     "exception": false,
     "start_time": "2021-12-18T17:17:19.727412",
     "status": "completed"
    },
    "tags": []
   },
   "outputs": [],
   "source": []
  }
 ],
 "metadata": {
  "kernelspec": {
   "display_name": "Python 3 (ipykernel)",
   "language": "python",
   "name": "python3"
  },
  "language_info": {
   "codemirror_mode": {
    "name": "ipython",
    "version": 3
   },
   "file_extension": ".py",
   "mimetype": "text/x-python",
   "name": "python",
   "nbconvert_exporter": "python",
   "pygments_lexer": "ipython3",
   "version": "3.8.11"
  },
  "papermill": {
   "duration": 2607.729586,
   "end_time": "2021-12-18T17:17:23.221415",
   "environment_variables": {},
   "exception": null,
   "input_path": "__notebook__.ipynb",
   "output_path": "__notebook__.ipynb",
   "parameters": {},
   "start_time": "2021-12-18T16:33:55.491829",
   "version": "2.1.0"
  }
 },
 "nbformat": 4,
 "nbformat_minor": 4
}
