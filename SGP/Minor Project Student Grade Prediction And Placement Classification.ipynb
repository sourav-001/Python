{
 "cells": [
  {
   "cell_type": "markdown",
   "id": "88b7b553",
   "metadata": {},
   "source": [
    "# WE WILL BE USING  'studentMarks.csv' DATASET. THE DATA CONTAINS THIS FOLLOWING COLUMNS.\n",
    "_____________________________________________________________________________\n",
    "\n",
    "* 'Gender' : Student's gender.\n",
    "* 'Address' : Area of the student U=Urben, R=Rural.\n",
    "* 'Attendence' : Students attendence in classroom. 1=20%, 2=40%, 3=60%, 4=80%, 5=100%.\n",
    "* StudyHours' : Students weekly study hours 1 - <2hours, 2 - 3 to 5 hours, 3 - 5 to 7 hours, 4 - more than 10 hours.\n",
    "* '1stSemGrade' : First semester C.G.P.A of students.\n",
    "* '2ndSemGRade' : Second Semester C.G.P.A of students.\n",
    "* '3rdSemGrade' : Thirsd Semester C.G.P.A of students.\n",
    "* '4thSemGrade' : Fourth Semester C.G.P.A of students.\n",
    "* '5thSemGrade' : Fifth Semester C.G.P.A of students.\n",
    "* '6thSemGrade' : Sixth Semester C.G.P.A of students."
   ]
  },
  {
   "cell_type": "markdown",
   "id": "25fbeb5d",
   "metadata": {},
   "source": [
    "## Import Python libraries"
   ]
  },
  {
   "cell_type": "code",
   "execution_count": 1,
   "id": "3dedc4a0",
   "metadata": {},
   "outputs": [],
   "source": [
    "# import libraries\n",
    "\n",
    "# collection of functions for data processing analysis modeled\n",
    "import pandas as pd\n",
    "\n",
    "# package for scientific computing \n",
    "import numpy as np\n",
    "\n",
    "# for ploating\n",
    "import seaborn as sns\n",
    "import matplotlib.pyplot as plt\n",
    "%matplotlib inline\n",
    "\n",
    "# ignore warnings\n",
    "import warnings\n",
    "warnings.filterwarnings(\"ignore\")"
   ]
  },
  {
   "cell_type": "markdown",
   "id": "396642ff",
   "metadata": {},
   "source": [
    "## Load dataset"
   ]
  },
  {
   "cell_type": "code",
   "execution_count": 2,
   "id": "1288079c",
   "metadata": {},
   "outputs": [],
   "source": [
    "# loading the datast\n",
    "\n",
    "df = pd.read_csv('studentMarks.csv', delimiter=',')"
   ]
  },
  {
   "cell_type": "markdown",
   "id": "1f844d46",
   "metadata": {},
   "source": [
    "## Exploratory Data Analysis"
   ]
  },
  {
   "cell_type": "code",
   "execution_count": 3,
   "id": "10aa59e4",
   "metadata": {},
   "outputs": [
    {
     "data": {
      "text/plain": [
       "(59, 10)"
      ]
     },
     "execution_count": 3,
     "metadata": {},
     "output_type": "execute_result"
    }
   ],
   "source": [
    "# check shape of the dataset\n",
    "df.shape"
   ]
  },
  {
   "cell_type": "markdown",
   "id": "3f6940e8",
   "metadata": {},
   "source": [
    "**There are 59 instances and 15 attributes in our dataset**"
   ]
  },
  {
   "cell_type": "markdown",
   "id": "d9a3abc9",
   "metadata": {},
   "source": [
    "## View Data"
   ]
  },
  {
   "cell_type": "code",
   "execution_count": 4,
   "id": "d30c6b20",
   "metadata": {},
   "outputs": [
    {
     "data": {
      "text/html": [
       "<div>\n",
       "<style scoped>\n",
       "    .dataframe tbody tr th:only-of-type {\n",
       "        vertical-align: middle;\n",
       "    }\n",
       "\n",
       "    .dataframe tbody tr th {\n",
       "        vertical-align: top;\n",
       "    }\n",
       "\n",
       "    .dataframe thead th {\n",
       "        text-align: right;\n",
       "    }\n",
       "</style>\n",
       "<table border=\"1\" class=\"dataframe\">\n",
       "  <thead>\n",
       "    <tr style=\"text-align: right;\">\n",
       "      <th></th>\n",
       "      <th>Gender</th>\n",
       "      <th>Address</th>\n",
       "      <th>Attendence</th>\n",
       "      <th>StudyHours</th>\n",
       "      <th>1stSemGrade</th>\n",
       "      <th>2ndSemGRade</th>\n",
       "      <th>3rdSemGrade</th>\n",
       "      <th>4thSemGrade</th>\n",
       "      <th>5thSemGrade</th>\n",
       "      <th>6thSemGrade</th>\n",
       "    </tr>\n",
       "  </thead>\n",
       "  <tbody>\n",
       "    <tr>\n",
       "      <th>0</th>\n",
       "      <td>M</td>\n",
       "      <td>U</td>\n",
       "      <td>4</td>\n",
       "      <td>3</td>\n",
       "      <td>6.48</td>\n",
       "      <td>6.00</td>\n",
       "      <td>6.39</td>\n",
       "      <td>7.11</td>\n",
       "      <td>7.67</td>\n",
       "      <td>8.52</td>\n",
       "    </tr>\n",
       "    <tr>\n",
       "      <th>1</th>\n",
       "      <td>F</td>\n",
       "      <td>U</td>\n",
       "      <td>4</td>\n",
       "      <td>3</td>\n",
       "      <td>7.00</td>\n",
       "      <td>6.74</td>\n",
       "      <td>7.10</td>\n",
       "      <td>8.24</td>\n",
       "      <td>7.34</td>\n",
       "      <td>7.00</td>\n",
       "    </tr>\n",
       "    <tr>\n",
       "      <th>2</th>\n",
       "      <td>F</td>\n",
       "      <td>U</td>\n",
       "      <td>3</td>\n",
       "      <td>4</td>\n",
       "      <td>6.00</td>\n",
       "      <td>5.41</td>\n",
       "      <td>4.21</td>\n",
       "      <td>5.99</td>\n",
       "      <td>6.00</td>\n",
       "      <td>6.37</td>\n",
       "    </tr>\n",
       "    <tr>\n",
       "      <th>3</th>\n",
       "      <td>F</td>\n",
       "      <td>U</td>\n",
       "      <td>4</td>\n",
       "      <td>4</td>\n",
       "      <td>8.12</td>\n",
       "      <td>8.00</td>\n",
       "      <td>8.52</td>\n",
       "      <td>7.91</td>\n",
       "      <td>8.23</td>\n",
       "      <td>8.44</td>\n",
       "    </tr>\n",
       "    <tr>\n",
       "      <th>4</th>\n",
       "      <td>M</td>\n",
       "      <td>U</td>\n",
       "      <td>2</td>\n",
       "      <td>2</td>\n",
       "      <td>5.00</td>\n",
       "      <td>5.12</td>\n",
       "      <td>4.54</td>\n",
       "      <td>6.00</td>\n",
       "      <td>6.66</td>\n",
       "      <td>7.12</td>\n",
       "    </tr>\n",
       "  </tbody>\n",
       "</table>\n",
       "</div>"
      ],
      "text/plain": [
       "  Gender Address  Attendence  StudyHours  1stSemGrade  2ndSemGRade  \\\n",
       "0      M       U           4           3         6.48         6.00   \n",
       "1      F       U           4           3         7.00         6.74   \n",
       "2      F       U           3           4         6.00         5.41   \n",
       "3      F       U           4           4         8.12         8.00   \n",
       "4      M       U           2           2         5.00         5.12   \n",
       "\n",
       "   3rdSemGrade  4thSemGrade  5thSemGrade  6thSemGrade  \n",
       "0         6.39         7.11         7.67         8.52  \n",
       "1         7.10         8.24         7.34         7.00  \n",
       "2         4.21         5.99         6.00         6.37  \n",
       "3         8.52         7.91         8.23         8.44  \n",
       "4         4.54         6.00         6.66         7.12  "
      ]
     },
     "execution_count": 4,
     "metadata": {},
     "output_type": "execute_result"
    }
   ],
   "source": [
    "df.head()"
   ]
  },
  {
   "cell_type": "code",
   "execution_count": 5,
   "id": "fa1d2c3a",
   "metadata": {},
   "outputs": [
    {
     "data": {
      "text/html": [
       "<div>\n",
       "<style scoped>\n",
       "    .dataframe tbody tr th:only-of-type {\n",
       "        vertical-align: middle;\n",
       "    }\n",
       "\n",
       "    .dataframe tbody tr th {\n",
       "        vertical-align: top;\n",
       "    }\n",
       "\n",
       "    .dataframe thead th {\n",
       "        text-align: right;\n",
       "    }\n",
       "</style>\n",
       "<table border=\"1\" class=\"dataframe\">\n",
       "  <thead>\n",
       "    <tr style=\"text-align: right;\">\n",
       "      <th></th>\n",
       "      <th>Gender</th>\n",
       "      <th>Address</th>\n",
       "      <th>Attendence</th>\n",
       "      <th>StudyHours</th>\n",
       "      <th>1stSemGrade</th>\n",
       "      <th>2ndSemGRade</th>\n",
       "      <th>3rdSemGrade</th>\n",
       "      <th>4thSemGrade</th>\n",
       "      <th>5thSemGrade</th>\n",
       "      <th>6thSemGrade</th>\n",
       "    </tr>\n",
       "  </thead>\n",
       "  <tbody>\n",
       "    <tr>\n",
       "      <th>54</th>\n",
       "      <td>M</td>\n",
       "      <td>U</td>\n",
       "      <td>4</td>\n",
       "      <td>3</td>\n",
       "      <td>7.11</td>\n",
       "      <td>7.24</td>\n",
       "      <td>6.74</td>\n",
       "      <td>7.25</td>\n",
       "      <td>8.12</td>\n",
       "      <td>8.17</td>\n",
       "    </tr>\n",
       "    <tr>\n",
       "      <th>55</th>\n",
       "      <td>M</td>\n",
       "      <td>R</td>\n",
       "      <td>5</td>\n",
       "      <td>2</td>\n",
       "      <td>7.88</td>\n",
       "      <td>7.99</td>\n",
       "      <td>6.94</td>\n",
       "      <td>7.16</td>\n",
       "      <td>8.41</td>\n",
       "      <td>8.32</td>\n",
       "    </tr>\n",
       "    <tr>\n",
       "      <th>56</th>\n",
       "      <td>F</td>\n",
       "      <td>U</td>\n",
       "      <td>3</td>\n",
       "      <td>2</td>\n",
       "      <td>7.89</td>\n",
       "      <td>7.14</td>\n",
       "      <td>7.11</td>\n",
       "      <td>6.98</td>\n",
       "      <td>7.94</td>\n",
       "      <td>8.72</td>\n",
       "    </tr>\n",
       "    <tr>\n",
       "      <th>57</th>\n",
       "      <td>F</td>\n",
       "      <td>U</td>\n",
       "      <td>3</td>\n",
       "      <td>2</td>\n",
       "      <td>7.98</td>\n",
       "      <td>6.99</td>\n",
       "      <td>7.32</td>\n",
       "      <td>7.87</td>\n",
       "      <td>8.21</td>\n",
       "      <td>7.74</td>\n",
       "    </tr>\n",
       "    <tr>\n",
       "      <th>58</th>\n",
       "      <td>M</td>\n",
       "      <td>U</td>\n",
       "      <td>5</td>\n",
       "      <td>2</td>\n",
       "      <td>8.25</td>\n",
       "      <td>7.84</td>\n",
       "      <td>7.96</td>\n",
       "      <td>7.97</td>\n",
       "      <td>7.56</td>\n",
       "      <td>8.97</td>\n",
       "    </tr>\n",
       "  </tbody>\n",
       "</table>\n",
       "</div>"
      ],
      "text/plain": [
       "   Gender Address  Attendence  StudyHours  1stSemGrade  2ndSemGRade  \\\n",
       "54      M       U           4           3         7.11         7.24   \n",
       "55      M       R           5           2         7.88         7.99   \n",
       "56      F       U           3           2         7.89         7.14   \n",
       "57      F       U           3           2         7.98         6.99   \n",
       "58      M       U           5           2         8.25         7.84   \n",
       "\n",
       "    3rdSemGrade  4thSemGrade  5thSemGrade  6thSemGrade  \n",
       "54         6.74         7.25         8.12         8.17  \n",
       "55         6.94         7.16         8.41         8.32  \n",
       "56         7.11         6.98         7.94         8.72  \n",
       "57         7.32         7.87         8.21         7.74  \n",
       "58         7.96         7.97         7.56         8.97  "
      ]
     },
     "execution_count": 5,
     "metadata": {},
     "output_type": "execute_result"
    }
   ],
   "source": [
    "df.tail()"
   ]
  },
  {
   "cell_type": "markdown",
   "id": "9efdb79a",
   "metadata": {},
   "source": [
    "## View summary of dataframe"
   ]
  },
  {
   "cell_type": "code",
   "execution_count": 6,
   "id": "3ef18010",
   "metadata": {},
   "outputs": [
    {
     "name": "stdout",
     "output_type": "stream",
     "text": [
      "<class 'pandas.core.frame.DataFrame'>\n",
      "RangeIndex: 59 entries, 0 to 58\n",
      "Data columns (total 10 columns):\n",
      " #   Column       Non-Null Count  Dtype  \n",
      "---  ------       --------------  -----  \n",
      " 0   Gender       59 non-null     object \n",
      " 1   Address      59 non-null     object \n",
      " 2   Attendence   59 non-null     int64  \n",
      " 3   StudyHours   59 non-null     int64  \n",
      " 4   1stSemGrade  59 non-null     float64\n",
      " 5   2ndSemGRade  59 non-null     float64\n",
      " 6   3rdSemGrade  59 non-null     float64\n",
      " 7   4thSemGrade  59 non-null     float64\n",
      " 8   5thSemGrade  59 non-null     float64\n",
      " 9   6thSemGrade  59 non-null     float64\n",
      "dtypes: float64(6), int64(2), object(2)\n",
      "memory usage: 4.7+ KB\n"
     ]
    }
   ],
   "source": [
    "# data type of data\n",
    "df.info()"
   ]
  },
  {
   "cell_type": "code",
   "execution_count": 7,
   "id": "68a22f6b",
   "metadata": {},
   "outputs": [
    {
     "data": {
      "text/html": [
       "<div>\n",
       "<style scoped>\n",
       "    .dataframe tbody tr th:only-of-type {\n",
       "        vertical-align: middle;\n",
       "    }\n",
       "\n",
       "    .dataframe tbody tr th {\n",
       "        vertical-align: top;\n",
       "    }\n",
       "\n",
       "    .dataframe thead th {\n",
       "        text-align: right;\n",
       "    }\n",
       "</style>\n",
       "<table border=\"1\" class=\"dataframe\">\n",
       "  <thead>\n",
       "    <tr style=\"text-align: right;\">\n",
       "      <th></th>\n",
       "      <th>Attendence</th>\n",
       "      <th>StudyHours</th>\n",
       "      <th>1stSemGrade</th>\n",
       "      <th>2ndSemGRade</th>\n",
       "      <th>3rdSemGrade</th>\n",
       "      <th>4thSemGrade</th>\n",
       "      <th>5thSemGrade</th>\n",
       "      <th>6thSemGrade</th>\n",
       "    </tr>\n",
       "  </thead>\n",
       "  <tbody>\n",
       "    <tr>\n",
       "      <th>count</th>\n",
       "      <td>59.000000</td>\n",
       "      <td>59.000000</td>\n",
       "      <td>59.000000</td>\n",
       "      <td>59.000000</td>\n",
       "      <td>59.000000</td>\n",
       "      <td>59.000000</td>\n",
       "      <td>59.000000</td>\n",
       "      <td>59.000000</td>\n",
       "    </tr>\n",
       "    <tr>\n",
       "      <th>mean</th>\n",
       "      <td>3.542373</td>\n",
       "      <td>2.983051</td>\n",
       "      <td>6.921864</td>\n",
       "      <td>6.617458</td>\n",
       "      <td>6.478305</td>\n",
       "      <td>6.807966</td>\n",
       "      <td>7.207966</td>\n",
       "      <td>7.462034</td>\n",
       "    </tr>\n",
       "    <tr>\n",
       "      <th>std</th>\n",
       "      <td>0.877340</td>\n",
       "      <td>0.798523</td>\n",
       "      <td>0.998679</td>\n",
       "      <td>0.992134</td>\n",
       "      <td>1.004773</td>\n",
       "      <td>1.076520</td>\n",
       "      <td>0.885056</td>\n",
       "      <td>0.903483</td>\n",
       "    </tr>\n",
       "    <tr>\n",
       "      <th>min</th>\n",
       "      <td>2.000000</td>\n",
       "      <td>2.000000</td>\n",
       "      <td>5.000000</td>\n",
       "      <td>4.320000</td>\n",
       "      <td>4.210000</td>\n",
       "      <td>4.210000</td>\n",
       "      <td>5.150000</td>\n",
       "      <td>5.940000</td>\n",
       "    </tr>\n",
       "    <tr>\n",
       "      <th>25%</th>\n",
       "      <td>3.000000</td>\n",
       "      <td>2.000000</td>\n",
       "      <td>6.115000</td>\n",
       "      <td>6.000000</td>\n",
       "      <td>5.880000</td>\n",
       "      <td>6.075000</td>\n",
       "      <td>6.605000</td>\n",
       "      <td>6.980000</td>\n",
       "    </tr>\n",
       "    <tr>\n",
       "      <th>50%</th>\n",
       "      <td>4.000000</td>\n",
       "      <td>3.000000</td>\n",
       "      <td>6.940000</td>\n",
       "      <td>6.870000</td>\n",
       "      <td>6.550000</td>\n",
       "      <td>6.980000</td>\n",
       "      <td>7.250000</td>\n",
       "      <td>7.550000</td>\n",
       "    </tr>\n",
       "    <tr>\n",
       "      <th>75%</th>\n",
       "      <td>4.000000</td>\n",
       "      <td>4.000000</td>\n",
       "      <td>7.265000</td>\n",
       "      <td>7.240000</td>\n",
       "      <td>7.100000</td>\n",
       "      <td>7.335000</td>\n",
       "      <td>7.910000</td>\n",
       "      <td>8.070000</td>\n",
       "    </tr>\n",
       "    <tr>\n",
       "      <th>max</th>\n",
       "      <td>5.000000</td>\n",
       "      <td>4.000000</td>\n",
       "      <td>9.840000</td>\n",
       "      <td>8.470000</td>\n",
       "      <td>8.520000</td>\n",
       "      <td>9.540000</td>\n",
       "      <td>9.110000</td>\n",
       "      <td>9.000000</td>\n",
       "    </tr>\n",
       "  </tbody>\n",
       "</table>\n",
       "</div>"
      ],
      "text/plain": [
       "       Attendence  StudyHours  1stSemGrade  2ndSemGRade  3rdSemGrade  \\\n",
       "count   59.000000   59.000000    59.000000    59.000000    59.000000   \n",
       "mean     3.542373    2.983051     6.921864     6.617458     6.478305   \n",
       "std      0.877340    0.798523     0.998679     0.992134     1.004773   \n",
       "min      2.000000    2.000000     5.000000     4.320000     4.210000   \n",
       "25%      3.000000    2.000000     6.115000     6.000000     5.880000   \n",
       "50%      4.000000    3.000000     6.940000     6.870000     6.550000   \n",
       "75%      4.000000    4.000000     7.265000     7.240000     7.100000   \n",
       "max      5.000000    4.000000     9.840000     8.470000     8.520000   \n",
       "\n",
       "       4thSemGrade  5thSemGrade  6thSemGrade  \n",
       "count    59.000000    59.000000    59.000000  \n",
       "mean      6.807966     7.207966     7.462034  \n",
       "std       1.076520     0.885056     0.903483  \n",
       "min       4.210000     5.150000     5.940000  \n",
       "25%       6.075000     6.605000     6.980000  \n",
       "50%       6.980000     7.250000     7.550000  \n",
       "75%       7.335000     7.910000     8.070000  \n",
       "max       9.540000     9.110000     9.000000  "
      ]
     },
     "execution_count": 7,
     "metadata": {},
     "output_type": "execute_result"
    }
   ],
   "source": [
    "# View statisical summary of the Data\n",
    "\n",
    "df.describe()"
   ]
  },
  {
   "cell_type": "markdown",
   "id": "5e3ef918",
   "metadata": {},
   "source": [
    "## Checking missing values"
   ]
  },
  {
   "cell_type": "code",
   "execution_count": 8,
   "id": "f860f9e1",
   "metadata": {},
   "outputs": [
    {
     "data": {
      "text/plain": [
       "Gender         0\n",
       "Address        0\n",
       "Attendence     0\n",
       "StudyHours     0\n",
       "1stSemGrade    0\n",
       "2ndSemGRade    0\n",
       "3rdSemGrade    0\n",
       "4thSemGrade    0\n",
       "5thSemGrade    0\n",
       "6thSemGrade    0\n",
       "dtype: int64"
      ]
     },
     "execution_count": 8,
     "metadata": {},
     "output_type": "execute_result"
    }
   ],
   "source": [
    "df.isnull().sum()"
   ]
  },
  {
   "cell_type": "code",
   "execution_count": 9,
   "id": "d53aac01",
   "metadata": {},
   "outputs": [
    {
     "data": {
      "text/plain": [
       "Text(0.5, 1.0, 'Missing value in the dataset')"
      ]
     },
     "execution_count": 9,
     "metadata": {},
     "output_type": "execute_result"
    },
    {
     "data": {
      "image/png": "[encoded data removed]",
      "text/plain": [
       "<Figure size 864x288 with 1 Axes>"
      ]
     },
     "metadata": {
      "needs_background": "light"
     },
     "output_type": "display_data"
    }
   ],
   "source": [
    "# missing values visualization\n",
    "plt.figure(figsize=(12, 4))\n",
    "sns.heatmap(df.isnull(), cbar=False, cmap='tab20', yticklabels=False)\n",
    "plt.title('Missing value in the dataset')"
   ]
  },
  {
   "cell_type": "markdown",
   "id": "42658726",
   "metadata": {},
   "source": [
    "**There is no missing values in the dataset**"
   ]
  },
  {
   "cell_type": "markdown",
   "id": "81c22839",
   "metadata": {},
   "source": [
    "# Visualization"
   ]
  },
  {
   "cell_type": "code",
   "execution_count": 10,
   "id": "e077d057",
   "metadata": {},
   "outputs": [],
   "source": [
    "sns.set(style='whitegrid')"
   ]
  },
  {
   "cell_type": "code",
   "execution_count": 11,
   "id": "9a58eb75",
   "metadata": {},
   "outputs": [
    {
     "data": {
      "image/png": "[encoded data removed]",
      "text/plain": [
       "<Figure size 432x288 with 1 Axes>"
      ]
     },
     "metadata": {},
     "output_type": "display_data"
    },
    {
     "name": "stdout",
     "output_type": "stream",
     "text": [
      "M    40\n",
      "F    19\n",
      "Name: Gender, dtype: int64\n"
     ]
    }
   ],
   "source": [
    "# plot gender\n",
    "ax = sns.barplot(x=df['Gender'].value_counts().index, y=df['Gender'].value_counts().values, palette=\"coolwarm\", hue=['M','F'])\n",
    "plt.legend(loc=1)\n",
    "plt.xlabel('Gender')\n",
    "plt.ylabel('Frequescy')\n",
    "plt.title('Gender Bar Plot')\n",
    "plt.show()\n",
    "\n",
    "print(df.Gender.value_counts())"
   ]
  },
  {
   "cell_type": "code",
   "execution_count": 12,
   "id": "6e3dffcf",
   "metadata": {},
   "outputs": [
    {
     "data": {
      "image/png": "[encoded data removed]",
      "text/plain": [
       "<Figure size 432x288 with 1 Axes>"
      ]
     },
     "metadata": {},
     "output_type": "display_data"
    },
    {
     "name": "stdout",
     "output_type": "stream",
     "text": [
      "U    41\n",
      "R    18\n",
      "Name: Address, dtype: int64\n"
     ]
    }
   ],
   "source": [
    "# plot address\n",
    "ax = sns.barplot(x=df['Address'].value_counts().index, y=df['Address'].value_counts().values, palette=\"coolwarm\", hue=['U','R'])\n",
    "plt.legend(loc=1)\n",
    "plt.xlabel('Urben and Rural')\n",
    "plt.ylabel('Frequency')\n",
    "plt.title('Address Bar Plot')\n",
    "plt.show()\n",
    "\n",
    "print(df.Address.value_counts())"
   ]
  },
  {
   "cell_type": "code",
   "execution_count": 13,
   "id": "a4c8aef9",
   "metadata": {},
   "outputs": [
    {
     "data": {
      "image/png": "[encoded data removed]",
      "text/plain": [
       "<Figure size 432x288 with 1 Axes>"
      ]
     },
     "metadata": {},
     "output_type": "display_data"
    },
    {
     "name": "stdout",
     "output_type": "stream",
     "text": [
      "3    22\n",
      "2    19\n",
      "4    18\n",
      "Name: StudyHours, dtype: int64\n"
     ]
    }
   ],
   "source": [
    "# plot Student's weekly study hours\n",
    "ax = sns.barplot(x=df['StudyHours'].value_counts().index, y=df['StudyHours'].value_counts().values)\n",
    "plt.legend(labels=['3-5 hrs', '5-7 hrs', 'more than 10 hrs'], loc = 2, bbox_to_anchor = (1,1))\n",
    "plt.xlabel('Weekly Study Hours')\n",
    "plt.ylabel('Frequency')\n",
    "plt.title('Studen\\'s Weekly Study Hours Bar Plot')\n",
    "plt.show()\n",
    "\n",
    "print(df.StudyHours.value_counts())"
   ]
  },
  {
   "cell_type": "code",
   "execution_count": 14,
   "id": "f0b133e9",
   "metadata": {
    "scrolled": true
   },
   "outputs": [
    {
     "data": {
      "image/png": "[encoded data removed]",
      "text/plain": [
       "<Figure size 432x288 with 1 Axes>"
      ]
     },
     "metadata": {},
     "output_type": "display_data"
    }
   ],
   "source": [
    "# plot attendence\n",
    "ax = sns.countplot(x='Attendence', data=df)\n",
    "for p in ax.patches:\n",
    "    ax.annotate('{:.2f}%'.format((p.get_height() * 100) / len(df)), (p.get_x() + 0.24, p.get_height() + 2))\n",
    "plt.show()"
   ]
  },
  {
   "cell_type": "code",
   "execution_count": 15,
   "id": "8ab0c9a5",
   "metadata": {},
   "outputs": [
    {
     "data": {
      "image/png": "[encoded data removed]",
      "text/plain": [
       "<Figure size 720x720 with 2 Axes>"
      ]
     },
     "metadata": {},
     "output_type": "display_data"
    }
   ],
   "source": [
    "fig, axarr  = plt.subplots(2, figsize=(10,10))\n",
    "sns.countplot(x='Gender', data=df, order=['M','F'], ax=axarr[0])\n",
    "sns.countplot(x='Gender', hue='Attendence', data=df, order=['M', 'F'], ax=axarr[1])\n",
    "plt.show()"
   ]
  },
  {
   "cell_type": "code",
   "execution_count": 16,
   "id": "a19472f8",
   "metadata": {},
   "outputs": [
    {
     "data": {
      "image/png": "[encoded data removed]",
      "text/plain": [
       "<Figure size 720x720 with 2 Axes>"
      ]
     },
     "metadata": {},
     "output_type": "display_data"
    }
   ],
   "source": [
    "fig, axarr  = plt.subplots(2, figsize=(10,10))\n",
    "sns.countplot(x='Address', data=df, order=['U','R'], ax=axarr[0])\n",
    "sns.countplot(x='Address', hue='Gender', data=df, order=['U', 'R'], ax=axarr[1])\n",
    "plt.show()"
   ]
  },
  {
   "cell_type": "code",
   "execution_count": 17,
   "id": "58f3c928",
   "metadata": {},
   "outputs": [],
   "source": [
    "# attributes that have numeric values\n",
    "numeric_cols = df.loc[:, df.columns != '6thSemGrade'].select_dtypes(include=np.number).columns.tolist()"
   ]
  },
  {
   "cell_type": "code",
   "execution_count": 18,
   "id": "99403f84",
   "metadata": {},
   "outputs": [
    {
     "data": {
      "text/plain": [
       "['Attendence',\n",
       " 'StudyHours',\n",
       " '1stSemGrade',\n",
       " '2ndSemGRade',\n",
       " '3rdSemGrade',\n",
       " '4thSemGrade',\n",
       " '5thSemGrade']"
      ]
     },
     "execution_count": 18,
     "metadata": {},
     "output_type": "execute_result"
    }
   ],
   "source": [
    "numeric_cols"
   ]
  },
  {
   "cell_type": "markdown",
   "id": "bcdbdfe1",
   "metadata": {},
   "source": [
    "# Get IQR\n",
    "IQR (Interquartile Range) is a widely accepted method to dind outliers in data. "
   ]
  },
  {
   "cell_type": "code",
   "execution_count": 19,
   "id": "a52009f5",
   "metadata": {},
   "outputs": [
    {
     "name": "stdout",
     "output_type": "stream",
     "text": [
      "Q1: Attendence     3.000\n",
      "StudyHours     2.000\n",
      "1stSemGrade    6.115\n",
      "2ndSemGRade    6.000\n",
      "3rdSemGrade    5.880\n",
      "4thSemGrade    6.075\n",
      "5thSemGrade    6.605\n",
      "Name: 0.25, dtype: float64\n",
      "Q3: Attendence     4.000\n",
      "StudyHours     4.000\n",
      "1stSemGrade    7.265\n",
      "2ndSemGRade    7.240\n",
      "3rdSemGrade    7.100\n",
      "4thSemGrade    7.335\n",
      "5thSemGrade    7.910\n",
      "Name: 0.75, dtype: float64\n",
      "IQR: Attendence     1.000\n",
      "StudyHours     2.000\n",
      "1stSemGrade    1.150\n",
      "2ndSemGRade    1.240\n",
      "3rdSemGrade    1.220\n",
      "4thSemGrade    1.260\n",
      "5thSemGrade    1.305\n",
      "dtype: float64\n",
      "Min: Attendence     1.5000\n",
      "StudyHours    -1.0000\n",
      "1stSemGrade    4.3900\n",
      "2ndSemGRade    4.1400\n",
      "3rdSemGrade    4.0500\n",
      "4thSemGrade    4.1850\n",
      "5thSemGrade    4.6475\n",
      "dtype: float64\n",
      "Max: Attendence     5.5000\n",
      "StudyHours     7.0000\n",
      "1stSemGrade    8.9900\n",
      "2ndSemGRade    9.1000\n",
      "3rdSemGrade    8.9300\n",
      "4thSemGrade    9.2250\n",
      "5thSemGrade    9.8675\n",
      "dtype: float64\n"
     ]
    }
   ],
   "source": [
    "# get IQR for each numeric column\n",
    "Q1 = df[numeric_cols].quantile(0.25)\n",
    "Q3 = df[numeric_cols].quantile(0.75)\n",
    "IQR = Q3 - Q1\n",
    "boxplot_min = Q1 - 1.5 * IQR\n",
    "boxplot_max = Q3 + 1.5 * IQR\n",
    "print(f\"Q1: {Q1}\\n\"\n",
    "      f\"Q3: {Q3}\\n\"\n",
    "      f\"IQR: {IQR}\\n\"\n",
    "      f\"Min: {boxplot_min}\\n\"\n",
    "      f\"Max: {boxplot_max}\"\n",
    ")"
   ]
  },
  {
   "cell_type": "markdown",
   "id": "370605cd",
   "metadata": {},
   "source": [
    "# Remove Outlier"
   ]
  },
  {
   "cell_type": "code",
   "execution_count": 20,
   "id": "009d9f2b",
   "metadata": {},
   "outputs": [],
   "source": [
    "# remove outliers\n",
    "non_outlier_df = df.copy()\n",
    "for i in numeric_cols:\n",
    "    filter_min = non_outlier_df[i] < boxplot_min[i]\n",
    "    filter_max = non_outlier_df[i] > boxplot_max[i]\n",
    "    non_outlier_df = non_outlier_df[~(filter_min | filter_max)]"
   ]
  },
  {
   "cell_type": "markdown",
   "id": "2dc3e7d8",
   "metadata": {},
   "source": [
    "# View Data"
   ]
  },
  {
   "cell_type": "code",
   "execution_count": 21,
   "id": "eff5cd0e",
   "metadata": {},
   "outputs": [
    {
     "data": {
      "text/html": [
       "<div>\n",
       "<style scoped>\n",
       "    .dataframe tbody tr th:only-of-type {\n",
       "        vertical-align: middle;\n",
       "    }\n",
       "\n",
       "    .dataframe tbody tr th {\n",
       "        vertical-align: top;\n",
       "    }\n",
       "\n",
       "    .dataframe thead th {\n",
       "        text-align: right;\n",
       "    }\n",
       "</style>\n",
       "<table border=\"1\" class=\"dataframe\">\n",
       "  <thead>\n",
       "    <tr style=\"text-align: right;\">\n",
       "      <th></th>\n",
       "      <th>Gender</th>\n",
       "      <th>Address</th>\n",
       "      <th>Attendence</th>\n",
       "      <th>StudyHours</th>\n",
       "      <th>1stSemGrade</th>\n",
       "      <th>2ndSemGRade</th>\n",
       "      <th>3rdSemGrade</th>\n",
       "      <th>4thSemGrade</th>\n",
       "      <th>5thSemGrade</th>\n",
       "      <th>6thSemGrade</th>\n",
       "    </tr>\n",
       "  </thead>\n",
       "  <tbody>\n",
       "    <tr>\n",
       "      <th>0</th>\n",
       "      <td>M</td>\n",
       "      <td>U</td>\n",
       "      <td>4</td>\n",
       "      <td>3</td>\n",
       "      <td>6.48</td>\n",
       "      <td>6.00</td>\n",
       "      <td>6.39</td>\n",
       "      <td>7.11</td>\n",
       "      <td>7.67</td>\n",
       "      <td>8.52</td>\n",
       "    </tr>\n",
       "    <tr>\n",
       "      <th>1</th>\n",
       "      <td>F</td>\n",
       "      <td>U</td>\n",
       "      <td>4</td>\n",
       "      <td>3</td>\n",
       "      <td>7.00</td>\n",
       "      <td>6.74</td>\n",
       "      <td>7.10</td>\n",
       "      <td>8.24</td>\n",
       "      <td>7.34</td>\n",
       "      <td>7.00</td>\n",
       "    </tr>\n",
       "    <tr>\n",
       "      <th>2</th>\n",
       "      <td>F</td>\n",
       "      <td>U</td>\n",
       "      <td>3</td>\n",
       "      <td>4</td>\n",
       "      <td>6.00</td>\n",
       "      <td>5.41</td>\n",
       "      <td>4.21</td>\n",
       "      <td>5.99</td>\n",
       "      <td>6.00</td>\n",
       "      <td>6.37</td>\n",
       "    </tr>\n",
       "    <tr>\n",
       "      <th>3</th>\n",
       "      <td>F</td>\n",
       "      <td>U</td>\n",
       "      <td>4</td>\n",
       "      <td>4</td>\n",
       "      <td>8.12</td>\n",
       "      <td>8.00</td>\n",
       "      <td>8.52</td>\n",
       "      <td>7.91</td>\n",
       "      <td>8.23</td>\n",
       "      <td>8.44</td>\n",
       "    </tr>\n",
       "    <tr>\n",
       "      <th>4</th>\n",
       "      <td>M</td>\n",
       "      <td>U</td>\n",
       "      <td>2</td>\n",
       "      <td>2</td>\n",
       "      <td>5.00</td>\n",
       "      <td>5.12</td>\n",
       "      <td>4.54</td>\n",
       "      <td>6.00</td>\n",
       "      <td>6.66</td>\n",
       "      <td>7.12</td>\n",
       "    </tr>\n",
       "  </tbody>\n",
       "</table>\n",
       "</div>"
      ],
      "text/plain": [
       "  Gender Address  Attendence  StudyHours  1stSemGrade  2ndSemGRade  \\\n",
       "0      M       U           4           3         6.48         6.00   \n",
       "1      F       U           4           3         7.00         6.74   \n",
       "2      F       U           3           4         6.00         5.41   \n",
       "3      F       U           4           4         8.12         8.00   \n",
       "4      M       U           2           2         5.00         5.12   \n",
       "\n",
       "   3rdSemGrade  4thSemGrade  5thSemGrade  6thSemGrade  \n",
       "0         6.39         7.11         7.67         8.52  \n",
       "1         7.10         8.24         7.34         7.00  \n",
       "2         4.21         5.99         6.00         6.37  \n",
       "3         8.52         7.91         8.23         8.44  \n",
       "4         4.54         6.00         6.66         7.12  "
      ]
     },
     "execution_count": 21,
     "metadata": {},
     "output_type": "execute_result"
    }
   ],
   "source": [
    "non_outlier_df.head()"
   ]
  },
  {
   "cell_type": "code",
   "execution_count": 22,
   "id": "b32d0125",
   "metadata": {},
   "outputs": [
    {
     "data": {
      "text/html": [
       "<div>\n",
       "<style scoped>\n",
       "    .dataframe tbody tr th:only-of-type {\n",
       "        vertical-align: middle;\n",
       "    }\n",
       "\n",
       "    .dataframe tbody tr th {\n",
       "        vertical-align: top;\n",
       "    }\n",
       "\n",
       "    .dataframe thead th {\n",
       "        text-align: right;\n",
       "    }\n",
       "</style>\n",
       "<table border=\"1\" class=\"dataframe\">\n",
       "  <thead>\n",
       "    <tr style=\"text-align: right;\">\n",
       "      <th></th>\n",
       "      <th>Gender</th>\n",
       "      <th>Address</th>\n",
       "      <th>Attendence</th>\n",
       "      <th>StudyHours</th>\n",
       "      <th>1stSemGrade</th>\n",
       "      <th>2ndSemGRade</th>\n",
       "      <th>3rdSemGrade</th>\n",
       "      <th>4thSemGrade</th>\n",
       "      <th>5thSemGrade</th>\n",
       "      <th>6thSemGrade</th>\n",
       "    </tr>\n",
       "  </thead>\n",
       "  <tbody>\n",
       "    <tr>\n",
       "      <th>54</th>\n",
       "      <td>M</td>\n",
       "      <td>U</td>\n",
       "      <td>4</td>\n",
       "      <td>3</td>\n",
       "      <td>7.11</td>\n",
       "      <td>7.24</td>\n",
       "      <td>6.74</td>\n",
       "      <td>7.25</td>\n",
       "      <td>8.12</td>\n",
       "      <td>8.17</td>\n",
       "    </tr>\n",
       "    <tr>\n",
       "      <th>55</th>\n",
       "      <td>M</td>\n",
       "      <td>R</td>\n",
       "      <td>5</td>\n",
       "      <td>2</td>\n",
       "      <td>7.88</td>\n",
       "      <td>7.99</td>\n",
       "      <td>6.94</td>\n",
       "      <td>7.16</td>\n",
       "      <td>8.41</td>\n",
       "      <td>8.32</td>\n",
       "    </tr>\n",
       "    <tr>\n",
       "      <th>56</th>\n",
       "      <td>F</td>\n",
       "      <td>U</td>\n",
       "      <td>3</td>\n",
       "      <td>2</td>\n",
       "      <td>7.89</td>\n",
       "      <td>7.14</td>\n",
       "      <td>7.11</td>\n",
       "      <td>6.98</td>\n",
       "      <td>7.94</td>\n",
       "      <td>8.72</td>\n",
       "    </tr>\n",
       "    <tr>\n",
       "      <th>57</th>\n",
       "      <td>F</td>\n",
       "      <td>U</td>\n",
       "      <td>3</td>\n",
       "      <td>2</td>\n",
       "      <td>7.98</td>\n",
       "      <td>6.99</td>\n",
       "      <td>7.32</td>\n",
       "      <td>7.87</td>\n",
       "      <td>8.21</td>\n",
       "      <td>7.74</td>\n",
       "    </tr>\n",
       "    <tr>\n",
       "      <th>58</th>\n",
       "      <td>M</td>\n",
       "      <td>U</td>\n",
       "      <td>5</td>\n",
       "      <td>2</td>\n",
       "      <td>8.25</td>\n",
       "      <td>7.84</td>\n",
       "      <td>7.96</td>\n",
       "      <td>7.97</td>\n",
       "      <td>7.56</td>\n",
       "      <td>8.97</td>\n",
       "    </tr>\n",
       "  </tbody>\n",
       "</table>\n",
       "</div>"
      ],
      "text/plain": [
       "   Gender Address  Attendence  StudyHours  1stSemGrade  2ndSemGRade  \\\n",
       "54      M       U           4           3         7.11         7.24   \n",
       "55      M       R           5           2         7.88         7.99   \n",
       "56      F       U           3           2         7.89         7.14   \n",
       "57      F       U           3           2         7.98         6.99   \n",
       "58      M       U           5           2         8.25         7.84   \n",
       "\n",
       "    3rdSemGrade  4thSemGrade  5thSemGrade  6thSemGrade  \n",
       "54         6.74         7.25         8.12         8.17  \n",
       "55         6.94         7.16         8.41         8.32  \n",
       "56         7.11         6.98         7.94         8.72  \n",
       "57         7.32         7.87         8.21         7.74  \n",
       "58         7.96         7.97         7.56         8.97  "
      ]
     },
     "execution_count": 22,
     "metadata": {},
     "output_type": "execute_result"
    }
   ],
   "source": [
    "non_outlier_df.tail()"
   ]
  },
  {
   "cell_type": "code",
   "execution_count": 23,
   "id": "3cc263e3",
   "metadata": {},
   "outputs": [
    {
     "data": {
      "text/plain": [
       "(56, 10)"
      ]
     },
     "execution_count": 23,
     "metadata": {},
     "output_type": "execute_result"
    }
   ],
   "source": [
    "# check non_outlier_df shape\n",
    "non_outlier_df.shape"
   ]
  },
  {
   "cell_type": "code",
   "execution_count": 24,
   "id": "92a6744f",
   "metadata": {},
   "outputs": [
    {
     "data": {
      "text/plain": [
       "<AxesSubplot:>"
      ]
     },
     "execution_count": 24,
     "metadata": {},
     "output_type": "execute_result"
    },
    {
     "data": {
      "image/png": "[encoded data removed]",
      "text/plain": [
       "<Figure size 1080x1080 with 2 Axes>"
      ]
     },
     "metadata": {},
     "output_type": "display_data"
    }
   ],
   "source": [
    "# check correlation\n",
    "\n",
    "correlation_of_columns = non_outlier_df[numeric_cols].corr()\n",
    "upper_triangle_correlation = np.triu(correlation_of_columns)\n",
    "\n",
    "fig, ax = plt.subplots(figsize=(15, 15))\n",
    "sns.heatmap(correlation_of_columns, annot = True, ax=ax,  mask=upper_triangle_correlation)"
   ]
  },
  {
   "cell_type": "code",
   "execution_count": 25,
   "id": "7caf6055",
   "metadata": {},
   "outputs": [
    {
     "data": {
      "image/png": "[encoded data removed]",
      "text/plain": [
       "<Figure size 1260x180 with 7 Axes>"
      ]
     },
     "metadata": {},
     "output_type": "display_data"
    }
   ],
   "source": [
    "# Check linearity between target vs feature\n",
    "\n",
    "scatterPlot_of_target_features = sns.pairplot(\n",
    "    data=non_outlier_df,\n",
    "    y_vars=['6thSemGrade'],\n",
    "    x_vars=numeric_cols,\n",
    "    kind='scatter'\n",
    ")"
   ]
  },
  {
   "cell_type": "code",
   "execution_count": 26,
   "id": "1793d834",
   "metadata": {},
   "outputs": [
    {
     "data": {
      "text/html": [
       "<div>\n",
       "<style scoped>\n",
       "    .dataframe tbody tr th:only-of-type {\n",
       "        vertical-align: middle;\n",
       "    }\n",
       "\n",
       "    .dataframe tbody tr th {\n",
       "        vertical-align: top;\n",
       "    }\n",
       "\n",
       "    .dataframe thead th {\n",
       "        text-align: right;\n",
       "    }\n",
       "</style>\n",
       "<table border=\"1\" class=\"dataframe\">\n",
       "  <thead>\n",
       "    <tr style=\"text-align: right;\">\n",
       "      <th></th>\n",
       "      <th>Attendence</th>\n",
       "      <th>StudyHours</th>\n",
       "      <th>1stSemGrade</th>\n",
       "      <th>2ndSemGRade</th>\n",
       "      <th>3rdSemGrade</th>\n",
       "      <th>4thSemGrade</th>\n",
       "      <th>5thSemGrade</th>\n",
       "      <th>6thSemGrade</th>\n",
       "    </tr>\n",
       "  </thead>\n",
       "  <tbody>\n",
       "    <tr>\n",
       "      <th>0</th>\n",
       "      <td>4</td>\n",
       "      <td>3</td>\n",
       "      <td>6.48</td>\n",
       "      <td>6.00</td>\n",
       "      <td>6.39</td>\n",
       "      <td>7.11</td>\n",
       "      <td>7.67</td>\n",
       "      <td>8.52</td>\n",
       "    </tr>\n",
       "    <tr>\n",
       "      <th>1</th>\n",
       "      <td>4</td>\n",
       "      <td>3</td>\n",
       "      <td>7.00</td>\n",
       "      <td>6.74</td>\n",
       "      <td>7.10</td>\n",
       "      <td>8.24</td>\n",
       "      <td>7.34</td>\n",
       "      <td>7.00</td>\n",
       "    </tr>\n",
       "    <tr>\n",
       "      <th>2</th>\n",
       "      <td>3</td>\n",
       "      <td>4</td>\n",
       "      <td>6.00</td>\n",
       "      <td>5.41</td>\n",
       "      <td>4.21</td>\n",
       "      <td>5.99</td>\n",
       "      <td>6.00</td>\n",
       "      <td>6.37</td>\n",
       "    </tr>\n",
       "    <tr>\n",
       "      <th>3</th>\n",
       "      <td>4</td>\n",
       "      <td>4</td>\n",
       "      <td>8.12</td>\n",
       "      <td>8.00</td>\n",
       "      <td>8.52</td>\n",
       "      <td>7.91</td>\n",
       "      <td>8.23</td>\n",
       "      <td>8.44</td>\n",
       "    </tr>\n",
       "    <tr>\n",
       "      <th>4</th>\n",
       "      <td>2</td>\n",
       "      <td>2</td>\n",
       "      <td>5.00</td>\n",
       "      <td>5.12</td>\n",
       "      <td>4.54</td>\n",
       "      <td>6.00</td>\n",
       "      <td>6.66</td>\n",
       "      <td>7.12</td>\n",
       "    </tr>\n",
       "    <tr>\n",
       "      <th>5</th>\n",
       "      <td>5</td>\n",
       "      <td>3</td>\n",
       "      <td>5.48</td>\n",
       "      <td>5.00</td>\n",
       "      <td>5.12</td>\n",
       "      <td>4.21</td>\n",
       "      <td>5.66</td>\n",
       "      <td>6.00</td>\n",
       "    </tr>\n",
       "    <tr>\n",
       "      <th>6</th>\n",
       "      <td>4</td>\n",
       "      <td>4</td>\n",
       "      <td>6.14</td>\n",
       "      <td>6.00</td>\n",
       "      <td>5.12</td>\n",
       "      <td>6.84</td>\n",
       "      <td>6.55</td>\n",
       "      <td>5.94</td>\n",
       "    </tr>\n",
       "    <tr>\n",
       "      <th>7</th>\n",
       "      <td>3</td>\n",
       "      <td>3</td>\n",
       "      <td>5.78</td>\n",
       "      <td>6.21</td>\n",
       "      <td>5.20</td>\n",
       "      <td>5.00</td>\n",
       "      <td>5.84</td>\n",
       "      <td>5.99</td>\n",
       "    </tr>\n",
       "    <tr>\n",
       "      <th>8</th>\n",
       "      <td>4</td>\n",
       "      <td>3</td>\n",
       "      <td>6.43</td>\n",
       "      <td>5.41</td>\n",
       "      <td>6.82</td>\n",
       "      <td>6.94</td>\n",
       "      <td>6.74</td>\n",
       "      <td>7.21</td>\n",
       "    </tr>\n",
       "    <tr>\n",
       "      <th>9</th>\n",
       "      <td>3</td>\n",
       "      <td>4</td>\n",
       "      <td>5.84</td>\n",
       "      <td>5.00</td>\n",
       "      <td>5.21</td>\n",
       "      <td>5.99</td>\n",
       "      <td>6.00</td>\n",
       "      <td>6.10</td>\n",
       "    </tr>\n",
       "    <tr>\n",
       "      <th>10</th>\n",
       "      <td>4</td>\n",
       "      <td>4</td>\n",
       "      <td>7.71</td>\n",
       "      <td>7.00</td>\n",
       "      <td>7.20</td>\n",
       "      <td>6.94</td>\n",
       "      <td>7.54</td>\n",
       "      <td>7.94</td>\n",
       "    </tr>\n",
       "    <tr>\n",
       "      <th>11</th>\n",
       "      <td>4</td>\n",
       "      <td>3</td>\n",
       "      <td>6.94</td>\n",
       "      <td>6.94</td>\n",
       "      <td>5.99</td>\n",
       "      <td>6.00</td>\n",
       "      <td>6.54</td>\n",
       "      <td>6.21</td>\n",
       "    </tr>\n",
       "  </tbody>\n",
       "</table>\n",
       "</div>"
      ],
      "text/plain": [
       "    Attendence  StudyHours  1stSemGrade  2ndSemGRade  3rdSemGrade  \\\n",
       "0            4           3         6.48         6.00         6.39   \n",
       "1            4           3         7.00         6.74         7.10   \n",
       "2            3           4         6.00         5.41         4.21   \n",
       "3            4           4         8.12         8.00         8.52   \n",
       "4            2           2         5.00         5.12         4.54   \n",
       "5            5           3         5.48         5.00         5.12   \n",
       "6            4           4         6.14         6.00         5.12   \n",
       "7            3           3         5.78         6.21         5.20   \n",
       "8            4           3         6.43         5.41         6.82   \n",
       "9            3           4         5.84         5.00         5.21   \n",
       "10           4           4         7.71         7.00         7.20   \n",
       "11           4           3         6.94         6.94         5.99   \n",
       "\n",
       "    4thSemGrade  5thSemGrade  6thSemGrade  \n",
       "0          7.11         7.67         8.52  \n",
       "1          8.24         7.34         7.00  \n",
       "2          5.99         6.00         6.37  \n",
       "3          7.91         8.23         8.44  \n",
       "4          6.00         6.66         7.12  \n",
       "5          4.21         5.66         6.00  \n",
       "6          6.84         6.55         5.94  \n",
       "7          5.00         5.84         5.99  \n",
       "8          6.94         6.74         7.21  \n",
       "9          5.99         6.00         6.10  \n",
       "10         6.94         7.54         7.94  \n",
       "11         6.00         6.54         6.21  "
      ]
     },
     "execution_count": 26,
     "metadata": {},
     "output_type": "execute_result"
    }
   ],
   "source": [
    "feature_cols = ['Attendence', 'StudyHours', '1stSemGrade', '2ndSemGRade', '3rdSemGrade', '4thSemGrade', '5thSemGrade']\n",
    "target_col = ['6thSemGrade']\n",
    "final_cols = feature_cols + target_col\n",
    "final_df = non_outlier_df[final_cols]\n",
    "\n",
    "final_df.head(12)"
   ]
  },
  {
   "cell_type": "code",
   "execution_count": 27,
   "id": "13a09bae",
   "metadata": {},
   "outputs": [
    {
     "data": {
      "text/plain": [
       "(56, 8)"
      ]
     },
     "execution_count": 27,
     "metadata": {},
     "output_type": "execute_result"
    }
   ],
   "source": [
    "# view shape\n",
    "\n",
    "final_df.shape"
   ]
  },
  {
   "cell_type": "markdown",
   "id": "92c66370",
   "metadata": {},
   "source": [
    "### Training A Linear Regression Model\n",
    "\n",
    "**To train out regression model, we need to first split ou our data into X array that contains the features to train on, and a y array with the target variable, in this case the 6thSemGrade column. We tossed out Gender and Addres column because it only has text information that the linear regression model can't use.** "
   ]
  },
  {
   "cell_type": "code",
   "execution_count": 28,
   "id": "52843495",
   "metadata": {},
   "outputs": [],
   "source": [
    "finalFeatureArray = final_df[feature_cols].to_numpy()\n",
    "finalTargetArray = final_df[target_col].to_numpy()"
   ]
  },
  {
   "cell_type": "code",
   "execution_count": 29,
   "id": "b9456f6e",
   "metadata": {},
   "outputs": [
    {
     "name": "stdout",
     "output_type": "stream",
     "text": [
      "Shape of feature: (56, 7)\n",
      "Shape of target: (56, 1)\n"
     ]
    }
   ],
   "source": [
    "# shape\n",
    "print(f\"Shape of feature: {finalFeatureArray.shape}\\n\"\n",
    "      f\"Shape of target: {finalTargetArray.shape}\"\n",
    ")"
   ]
  },
  {
   "cell_type": "markdown",
   "id": "891a057c",
   "metadata": {},
   "source": [
    "### Train Test Split\n",
    "**Now let's split the data into a training and a testing set. We will train out model on the training set and then use the test set to evalute the model.**"
   ]
  },
  {
   "cell_type": "code",
   "execution_count": 30,
   "id": "cef81b86",
   "metadata": {},
   "outputs": [],
   "source": [
    "from sklearn.model_selection import train_test_split\n",
    "\n",
    "# split the data into test and train\n",
    "X_train, X_test, y_train, y_test = train_test_split(\n",
    "    finalFeatureArray,\n",
    "    finalTargetArray,\n",
    "    test_size=0.2,\n",
    "    random_state=0\n",
    ")"
   ]
  },
  {
   "cell_type": "code",
   "execution_count": 31,
   "id": "5d79ec7d",
   "metadata": {},
   "outputs": [
    {
     "name": "stdout",
     "output_type": "stream",
     "text": [
      "Shape of X_train: (44, 7)\n",
      "Shape of X_test: (12, 7)\n",
      "Shape of y_train: (44, 1)\n",
      "Shape of y_test: (12, 1)\n"
     ]
    }
   ],
   "source": [
    "# shape data\n",
    "print(f\"Shape of X_train: {X_train.shape}\\n\"\n",
    "      f\"Shape of X_test: {X_test.shape}\\n\"\n",
    "      f\"Shape of y_train: {y_train.shape}\\n\"\n",
    "      f\"Shape of y_test: {y_test.shape}\"\n",
    ")"
   ]
  },
  {
   "cell_type": "markdown",
   "id": "924998aa",
   "metadata": {},
   "source": [
    "# Linear Regression\n",
    "## Creating and training the model\n",
    "\n",
    "**regression model is used**\n",
    "**here linear regression is used**\n",
    "* y = ax + b\n",
    "* y = Target\n",
    "* X = Feature\n",
    "* a, b = Parameter of the model"
   ]
  },
  {
   "cell_type": "code",
   "execution_count": 32,
   "id": "4ac164f1",
   "metadata": {},
   "outputs": [
    {
     "data": {
      "text/plain": [
       "LinearRegression()"
      ]
     },
     "execution_count": 32,
     "metadata": {},
     "output_type": "execute_result"
    }
   ],
   "source": [
    "# import library for linear regression\n",
    "\n",
    "from sklearn.linear_model import LinearRegression\n",
    "\n",
    "# create a linear regressor\n",
    "model_lr = LinearRegression()\n",
    "\n",
    "# train the model using the training sets\n",
    "model_lr.fit(X_train, y_train)"
   ]
  },
  {
   "cell_type": "code",
   "execution_count": 33,
   "id": "9a3c4035",
   "metadata": {},
   "outputs": [
    {
     "name": "stdout",
     "output_type": "stream",
     "text": [
      "Coefficients: [[-0.02338998 -0.19978523  0.00747384 -0.00631293  0.51260223 -0.20773581\n",
      "   0.6399402 ]]\n",
      "Intercept: [1.56398527]\n"
     ]
    }
   ],
   "source": [
    "# model result\n",
    "print(f\"Coefficients: {model_lr.coef_}\\n\"\n",
    "      f\"Intercept: {model_lr.intercept_}\"\n",
    ")"
   ]
  },
  {
   "cell_type": "markdown",
   "id": "b5dcd94f",
   "metadata": {},
   "source": [
    "## Model Evaluation\n",
    "\n",
    "**Let's evaluate the model by checking out it's coefficients and how we can interpret them.**"
   ]
  },
  {
   "cell_type": "code",
   "execution_count": 34,
   "id": "778a0219",
   "metadata": {},
   "outputs": [],
   "source": [
    "# predict the X using trained model\n",
    "y_train_pred = model_lr.predict(X_train)\n",
    "y_test_pred = model_lr.predict(X_test)\n",
    "target_array_pred = model_lr.predict(finalFeatureArray)"
   ]
  },
  {
   "cell_type": "code",
   "execution_count": 35,
   "id": "f839cef4",
   "metadata": {},
   "outputs": [
    {
     "name": "stdout",
     "output_type": "stream",
     "text": [
      "Real Data:\n",
      "[[8.99]\n",
      " [6.  ]\n",
      " [7.  ]\n",
      " [7.84]\n",
      " [7.  ]]\n",
      "\n",
      "Predicted Data:\n",
      "[[8.80269972]\n",
      " [6.21883655]\n",
      " [7.17240838]\n",
      " [6.62044287]\n",
      " [7.61032905]]\n"
     ]
    }
   ],
   "source": [
    "# check the rae prediction data and compare with the real data\n",
    "print(f\"Real Data:\\n{y_train[:5]}\\n\")\n",
    "print(f\"Predicted Data:\\n{y_train_pred[:5]}\")"
   ]
  },
  {
   "cell_type": "code",
   "execution_count": 36,
   "id": "018853d3",
   "metadata": {},
   "outputs": [
    {
     "data": {
      "text/html": [
       "<div>\n",
       "<style scoped>\n",
       "    .dataframe tbody tr th:only-of-type {\n",
       "        vertical-align: middle;\n",
       "    }\n",
       "\n",
       "    .dataframe tbody tr th {\n",
       "        vertical-align: top;\n",
       "    }\n",
       "\n",
       "    .dataframe thead th {\n",
       "        text-align: right;\n",
       "    }\n",
       "</style>\n",
       "<table border=\"1\" class=\"dataframe\">\n",
       "  <thead>\n",
       "    <tr style=\"text-align: right;\">\n",
       "      <th></th>\n",
       "      <th>Attendence</th>\n",
       "      <th>StudyHours</th>\n",
       "      <th>1stSemGrade</th>\n",
       "      <th>2ndSemGRade</th>\n",
       "      <th>3rdSemGrade</th>\n",
       "      <th>4thSemGrade</th>\n",
       "      <th>5thSemGrade</th>\n",
       "      <th>6thSemGrade</th>\n",
       "    </tr>\n",
       "  </thead>\n",
       "  <tbody>\n",
       "    <tr>\n",
       "      <th>0</th>\n",
       "      <td>4</td>\n",
       "      <td>3</td>\n",
       "      <td>6.48</td>\n",
       "      <td>6.00</td>\n",
       "      <td>6.39</td>\n",
       "      <td>7.11</td>\n",
       "      <td>7.67</td>\n",
       "      <td>7.588491</td>\n",
       "    </tr>\n",
       "    <tr>\n",
       "      <th>1</th>\n",
       "      <td>4</td>\n",
       "      <td>3</td>\n",
       "      <td>7.00</td>\n",
       "      <td>6.74</td>\n",
       "      <td>7.10</td>\n",
       "      <td>8.24</td>\n",
       "      <td>7.34</td>\n",
       "      <td>7.505731</td>\n",
       "    </tr>\n",
       "    <tr>\n",
       "      <th>2</th>\n",
       "      <td>3</td>\n",
       "      <td>4</td>\n",
       "      <td>6.00</td>\n",
       "      <td>5.41</td>\n",
       "      <td>4.21</td>\n",
       "      <td>5.99</td>\n",
       "      <td>6.00</td>\n",
       "      <td>5.458724</td>\n",
       "    </tr>\n",
       "    <tr>\n",
       "      <th>3</th>\n",
       "      <td>4</td>\n",
       "      <td>4</td>\n",
       "      <td>8.12</td>\n",
       "      <td>8.00</td>\n",
       "      <td>8.52</td>\n",
       "      <td>7.91</td>\n",
       "      <td>8.23</td>\n",
       "      <td>8.672357</td>\n",
       "    </tr>\n",
       "    <tr>\n",
       "      <th>4</th>\n",
       "      <td>2</td>\n",
       "      <td>2</td>\n",
       "      <td>5.00</td>\n",
       "      <td>5.12</td>\n",
       "      <td>4.54</td>\n",
       "      <td>6.00</td>\n",
       "      <td>6.66</td>\n",
       "      <td>6.465483</td>\n",
       "    </tr>\n",
       "    <tr>\n",
       "      <th>5</th>\n",
       "      <td>5</td>\n",
       "      <td>3</td>\n",
       "      <td>5.48</td>\n",
       "      <td>5.00</td>\n",
       "      <td>5.12</td>\n",
       "      <td>4.21</td>\n",
       "      <td>5.66</td>\n",
       "      <td>6.229089</td>\n",
       "    </tr>\n",
       "    <tr>\n",
       "      <th>6</th>\n",
       "      <td>4</td>\n",
       "      <td>4</td>\n",
       "      <td>6.14</td>\n",
       "      <td>6.00</td>\n",
       "      <td>5.12</td>\n",
       "      <td>6.84</td>\n",
       "      <td>6.55</td>\n",
       "      <td>6.074515</td>\n",
       "    </tr>\n",
       "    <tr>\n",
       "      <th>7</th>\n",
       "      <td>3</td>\n",
       "      <td>3</td>\n",
       "      <td>5.78</td>\n",
       "      <td>6.21</td>\n",
       "      <td>5.20</td>\n",
       "      <td>5.00</td>\n",
       "      <td>5.84</td>\n",
       "      <td>6.262558</td>\n",
       "    </tr>\n",
       "    <tr>\n",
       "      <th>8</th>\n",
       "      <td>4</td>\n",
       "      <td>3</td>\n",
       "      <td>6.43</td>\n",
       "      <td>5.41</td>\n",
       "      <td>6.82</td>\n",
       "      <td>6.94</td>\n",
       "      <td>6.74</td>\n",
       "      <td>7.252431</td>\n",
       "    </tr>\n",
       "    <tr>\n",
       "      <th>9</th>\n",
       "      <td>3</td>\n",
       "      <td>4</td>\n",
       "      <td>5.84</td>\n",
       "      <td>5.00</td>\n",
       "      <td>5.21</td>\n",
       "      <td>5.99</td>\n",
       "      <td>6.00</td>\n",
       "      <td>5.972718</td>\n",
       "    </tr>\n",
       "  </tbody>\n",
       "</table>\n",
       "</div>"
      ],
      "text/plain": [
       "   Attendence  StudyHours  1stSemGrade  2ndSemGRade  3rdSemGrade  4thSemGrade  \\\n",
       "0           4           3         6.48         6.00         6.39         7.11   \n",
       "1           4           3         7.00         6.74         7.10         8.24   \n",
       "2           3           4         6.00         5.41         4.21         5.99   \n",
       "3           4           4         8.12         8.00         8.52         7.91   \n",
       "4           2           2         5.00         5.12         4.54         6.00   \n",
       "5           5           3         5.48         5.00         5.12         4.21   \n",
       "6           4           4         6.14         6.00         5.12         6.84   \n",
       "7           3           3         5.78         6.21         5.20         5.00   \n",
       "8           4           3         6.43         5.41         6.82         6.94   \n",
       "9           3           4         5.84         5.00         5.21         5.99   \n",
       "\n",
       "   5thSemGrade  6thSemGrade  \n",
       "0         7.67     7.588491  \n",
       "1         7.34     7.505731  \n",
       "2         6.00     5.458724  \n",
       "3         8.23     8.672357  \n",
       "4         6.66     6.465483  \n",
       "5         5.66     6.229089  \n",
       "6         6.55     6.074515  \n",
       "7         5.84     6.262558  \n",
       "8         6.74     7.252431  \n",
       "9         6.00     5.972718  "
      ]
     },
     "execution_count": 36,
     "metadata": {},
     "output_type": "execute_result"
    }
   ],
   "source": [
    "# check the data in the form of dataframe\n",
    "finalWithPredData = final_df.copy()\n",
    "finalWithPredData['6thSemGrade'] = target_array_pred.reshape(-1,)\n",
    "finalWithPredData.head(10)"
   ]
  },
  {
   "cell_type": "code",
   "execution_count": 116,
   "id": "df2b650c",
   "metadata": {},
   "outputs": [
    {
     "data": {
      "text/plain": [
       "0.2927623247474843"
      ]
     },
     "execution_count": 116,
     "metadata": {},
     "output_type": "execute_result"
    }
   ],
   "source": [
    "model_lr.score(X_test, y_test)"
   ]
  },
  {
   "cell_type": "code",
   "execution_count": 37,
   "id": "f35d13e3",
   "metadata": {},
   "outputs": [],
   "source": [
    "# y_pred\n",
    "prediction_lr = model_lr.predict(X_test)"
   ]
  },
  {
   "cell_type": "code",
   "execution_count": 38,
   "id": "cc9ecdd5",
   "metadata": {},
   "outputs": [
    {
     "data": {
      "text/plain": [
       "Text(0, 0.5, 'Predicted')"
      ]
     },
     "execution_count": 38,
     "metadata": {},
     "output_type": "execute_result"
    },
    {
     "data": {
      "image/png": "[encoded data removed]",
      "text/plain": [
       "<Figure size 432x288 with 1 Axes>"
      ]
     },
     "metadata": {},
     "output_type": "display_data"
    }
   ],
   "source": [
    "plt.scatter(y_test, prediction_lr, marker='^')\n",
    "plt.xlabel('Y test')\n",
    "plt.ylabel('Predicted')"
   ]
  },
  {
   "cell_type": "code",
   "execution_count": 39,
   "id": "5a80fc43",
   "metadata": {},
   "outputs": [
    {
     "data": {
      "text/plain": [
       "(array([3., 1., 0., 1., 0., 3., 1., 1., 1., 1.]),\n",
       " array([-0.71295635, -0.55053307, -0.3881098 , -0.22568652, -0.06326325,\n",
       "         0.09916003,  0.2615833 ,  0.42400658,  0.58642985,  0.74885313,\n",
       "         0.9112764 ]),\n",
       " <BarContainer object of 10 artists>)"
      ]
     },
     "execution_count": 39,
     "metadata": {},
     "output_type": "execute_result"
    },
    {
     "data": {
      "image/png": "[encoded data removed]",
      "text/plain": [
       "<Figure size 432x288 with 1 Axes>"
      ]
     },
     "metadata": {},
     "output_type": "display_data"
    }
   ],
   "source": [
    "plt.hist(y_test - prediction_lr)"
   ]
  },
  {
   "cell_type": "markdown",
   "id": "5354bde5",
   "metadata": {},
   "source": [
    "# Learning Curve"
   ]
  },
  {
   "cell_type": "code",
   "execution_count": 40,
   "id": "60c70a3a",
   "metadata": {},
   "outputs": [
    {
     "data": {
      "text/plain": [
       "<AxesSubplot:title={'center':'Learning Curve'}, xlabel='Training examples', ylabel='Score'>"
      ]
     },
     "execution_count": 40,
     "metadata": {},
     "output_type": "execute_result"
    },
    {
     "data": {
      "image/png": "[encoded data removed]",
      "text/plain": [
       "<Figure size 432x288 with 1 Axes>"
      ]
     },
     "metadata": {},
     "output_type": "display_data"
    }
   ],
   "source": [
    "import scikitplot as skplt\n",
    "skplt.estimators.plot_learning_curve(\n",
    "    LinearRegression(),\n",
    "    finalFeatureArray,\n",
    "    finalFeatureArray,\n",
    "    cv=10,\n",
    "    shuffle=True,\n",
    "    scoring='r2',\n",
    "    n_jobs=-1,\n",
    "    figsize=(6,4),\n",
    "    title_fontsize='large',\n",
    "    text_fontsize='large',\n",
    "    title='Learning Curve'\n",
    ")"
   ]
  },
  {
   "cell_type": "code",
   "execution_count": 41,
   "id": "b9377fa8",
   "metadata": {},
   "outputs": [
    {
     "data": {
      "image/png": "[encoded data removed]",
      "text/plain": [
       "<Figure size 432x288 with 1 Axes>"
      ]
     },
     "metadata": {},
     "output_type": "display_data"
    }
   ],
   "source": [
    "from sklearn.model_selection import cross_val_predict\n",
    "\n",
    "cvPredicr_lr = cross_val_predict(\n",
    "    model_lr,\n",
    "    finalFeatureArray,\n",
    "    finalTargetArray,\n",
    "    cv=10\n",
    ")\n",
    "\n",
    "fig, ax = plt.subplots()\n",
    "ax.scatter(\n",
    "    finalTargetArray,\n",
    "    cvPredicr_lr,\n",
    "    edgecolors=(0,0,0)\n",
    ")\n",
    "\n",
    "ax.plot(\n",
    "    [\n",
    "        finalTargetArray.min(),\n",
    "        finalTargetArray.max()\n",
    "    ],\n",
    "    [\n",
    "        finalTargetArray.min(),\n",
    "        finalTargetArray.max()\n",
    "    ],\n",
    "    'k--',\n",
    "    lw=4\n",
    ")\n",
    "\n",
    "ax.set_xlabel('Measured')\n",
    "ax.set_ylabel('Predicted')\n",
    "plt.show()"
   ]
  },
  {
   "cell_type": "markdown",
   "id": "d6a0a73c",
   "metadata": {},
   "source": [
    "## Regression Evaluation Metrics\n",
    "these are loss functions\n",
    "\n",
    "* Mean Absolute Error (MAE) : is the mean of the absolute value of the errors.\n",
    "    It is the easiest to understand because it's the average error.\n",
    "* Means Squared Error (MSE) : is the mean of the squared errors.\n",
    "    It is more popular than MAE, because MSE 'punishes' larger errors. For it is more usefull in real world. \n",
    "* Root Mean Squared Error (RMSE) : is the square root of the mean of the squared errors.\n",
    "    It is even more popular than MSE, because RMSE is interpretable in he 'y' units.\n",
    "    \n"
   ]
  },
  {
   "cell_type": "code",
   "execution_count": 42,
   "id": "23963d8b",
   "metadata": {},
   "outputs": [
    {
     "name": "stdout",
     "output_type": "stream",
     "text": [
      "MAE: 0.45698000409915673\n",
      "MSE: 0.27341955866444606\n",
      "RMSE: 0.5228953611043475\n"
     ]
    }
   ],
   "source": [
    "from sklearn import metrics\n",
    "print(f\"MAE: {metrics.mean_absolute_error(y_test, prediction_lr)}\")\n",
    "print(f\"MSE: {metrics.mean_squared_error(y_test, prediction_lr)}\")\n",
    "print(f\"RMSE: {np.sqrt(metrics.mean_squared_error(y_test, prediction_lr))}\")"
   ]
  },
  {
   "cell_type": "code",
   "execution_count": 43,
   "id": "d1d393f2",
   "metadata": {},
   "outputs": [
    {
     "name": "stdout",
     "output_type": "stream",
     "text": [
      "RMSE training data: 0.4310719479128319\n",
      "RMSE testing data: 0.45698000409915673\n"
     ]
    }
   ],
   "source": [
    "# Evaluate regression model rmse\n",
    "rmseTraining = metrics.mean_squared_error(y_true=y_train, y_pred=y_train_pred, squared=False)\n",
    "rmseTest = metrics.mean_absolute_error(y_true=y_test, y_pred=y_test_pred)\n",
    "print(f\"RMSE training data: {rmseTraining}\\n\"\n",
    "      f\"RMSE testing data: {rmseTest}\"\n",
    ")"
   ]
  },
  {
   "cell_type": "code",
   "execution_count": 44,
   "id": "94be13f6",
   "metadata": {},
   "outputs": [
    {
     "name": "stdout",
     "output_type": "stream",
     "text": [
      "R^2 score: 0.7841421900101072\n"
     ]
    }
   ],
   "source": [
    "# r squared\n",
    "print(f\"R^2 score: {model_lr.score(X_train, y_train)}\")"
   ]
  },
  {
   "cell_type": "code",
   "execution_count": 45,
   "id": "4da35bc5",
   "metadata": {},
   "outputs": [
    {
     "name": "stdout",
     "output_type": "stream",
     "text": [
      "Shapiro- wilk test statistic: 0.9837238788604736, p-value: 0.6484736800193787\n",
      "Kolmogorov- Smirnov  test statistic: 0.8886835963131072, p-value: 8.339154744801111e-54\n"
     ]
    }
   ],
   "source": [
    "from scipy import stats\n",
    "residual = abs(finalTargetArray) - abs(target_array_pred)\n",
    "sw = stats.shapiro(residual)\n",
    "ks = stats.kstest(residual, 'norm')\n",
    "\n",
    "print(f\"Shapiro- wilk test statistic: {sw[0]}, p-value: {sw[1]}\")\n",
    "print(f\"Kolmogorov- Smirnov  test statistic: {ks[0]}, p-value: {ks[1]}\")"
   ]
  },
  {
   "cell_type": "markdown",
   "id": "74bef526",
   "metadata": {},
   "source": [
    "## Stats Model"
   ]
  },
  {
   "cell_type": "code",
   "execution_count": 46,
   "id": "78e03283",
   "metadata": {},
   "outputs": [
    {
     "data": {
      "text/html": [
       "<table class=\"simpletable\">\n",
       "<caption>OLS Regression Results</caption>\n",
       "<tr>\n",
       "  <th>Dep. Variable:</th>            <td>y</td>        <th>  R-squared (uncentered):</th>      <td>   0.996</td>\n",
       "</tr>\n",
       "<tr>\n",
       "  <th>Model:</th>                   <td>OLS</td>       <th>  Adj. R-squared (uncentered):</th> <td>   0.995</td>\n",
       "</tr>\n",
       "<tr>\n",
       "  <th>Method:</th>             <td>Least Squares</td>  <th>  F-statistic:       </th>          <td>   1385.</td>\n",
       "</tr>\n",
       "<tr>\n",
       "  <th>Date:</th>             <td>Sat, 25 Dec 2021</td> <th>  Prob (F-statistic):</th>          <td>9.29e-43</td>\n",
       "</tr>\n",
       "<tr>\n",
       "  <th>Time:</th>                 <td>20:13:07</td>     <th>  Log-Likelihood:    </th>          <td> -28.319</td>\n",
       "</tr>\n",
       "<tr>\n",
       "  <th>No. Observations:</th>      <td>    44</td>      <th>  AIC:               </th>          <td>   70.64</td>\n",
       "</tr>\n",
       "<tr>\n",
       "  <th>Df Residuals:</th>          <td>    37</td>      <th>  BIC:               </th>          <td>   83.13</td>\n",
       "</tr>\n",
       "<tr>\n",
       "  <th>Df Model:</th>              <td>     7</td>      <th>                     </th>              <td> </td>   \n",
       "</tr>\n",
       "<tr>\n",
       "  <th>Covariance Type:</th>      <td>nonrobust</td>    <th>                     </th>              <td> </td>   \n",
       "</tr>\n",
       "</table>\n",
       "<table class=\"simpletable\">\n",
       "<tr>\n",
       "   <td></td>     <th>coef</th>     <th>std err</th>      <th>t</th>      <th>P>|t|</th>  <th>[0.025</th>    <th>0.975]</th>  \n",
       "</tr>\n",
       "<tr>\n",
       "  <th>x1</th> <td>    0.0305</td> <td>    0.090</td> <td>    0.338</td> <td> 0.737</td> <td>   -0.152</td> <td>    0.213</td>\n",
       "</tr>\n",
       "<tr>\n",
       "  <th>x2</th> <td>   -0.1258</td> <td>    0.099</td> <td>   -1.275</td> <td> 0.210</td> <td>   -0.326</td> <td>    0.074</td>\n",
       "</tr>\n",
       "<tr>\n",
       "  <th>x3</th> <td>    0.1615</td> <td>    0.152</td> <td>    1.062</td> <td> 0.295</td> <td>   -0.147</td> <td>    0.469</td>\n",
       "</tr>\n",
       "<tr>\n",
       "  <th>x4</th> <td>   -0.0647</td> <td>    0.163</td> <td>   -0.396</td> <td> 0.695</td> <td>   -0.396</td> <td>    0.266</td>\n",
       "</tr>\n",
       "<tr>\n",
       "  <th>x5</th> <td>    0.4704</td> <td>    0.195</td> <td>    2.410</td> <td> 0.021</td> <td>    0.075</td> <td>    0.866</td>\n",
       "</tr>\n",
       "<tr>\n",
       "  <th>x6</th> <td>   -0.2056</td> <td>    0.161</td> <td>   -1.280</td> <td> 0.208</td> <td>   -0.531</td> <td>    0.120</td>\n",
       "</tr>\n",
       "<tr>\n",
       "  <th>x7</th> <td>    0.7427</td> <td>    0.163</td> <td>    4.565</td> <td> 0.000</td> <td>    0.413</td> <td>    1.072</td>\n",
       "</tr>\n",
       "</table>\n",
       "<table class=\"simpletable\">\n",
       "<tr>\n",
       "  <th>Omnibus:</th>       <td> 3.393</td> <th>  Durbin-Watson:     </th> <td>   2.098</td>\n",
       "</tr>\n",
       "<tr>\n",
       "  <th>Prob(Omnibus):</th> <td> 0.183</td> <th>  Jarque-Bera (JB):  </th> <td>   2.358</td>\n",
       "</tr>\n",
       "<tr>\n",
       "  <th>Skew:</th>          <td> 0.342</td> <th>  Prob(JB):          </th> <td>   0.308</td>\n",
       "</tr>\n",
       "<tr>\n",
       "  <th>Kurtosis:</th>      <td> 3.904</td> <th>  Cond. No.          </th> <td>    50.2</td>\n",
       "</tr>\n",
       "</table><br/><br/>Notes:<br/>[1] R² is computed without centering (uncentered) since the model does not contain a constant.<br/>[2] Standard Errors assume that the covariance matrix of the errors is correctly specified."
      ],
      "text/plain": [
       "<class 'statsmodels.iolib.summary.Summary'>\n",
       "\"\"\"\n",
       "                                 OLS Regression Results                                \n",
       "=======================================================================================\n",
       "Dep. Variable:                      y   R-squared (uncentered):                   0.996\n",
       "Model:                            OLS   Adj. R-squared (uncentered):              0.995\n",
       "Method:                 Least Squares   F-statistic:                              1385.\n",
       "Date:                Sat, 25 Dec 2021   Prob (F-statistic):                    9.29e-43\n",
       "Time:                        20:13:07   Log-Likelihood:                         -28.319\n",
       "No. Observations:                  44   AIC:                                      70.64\n",
       "Df Residuals:                      37   BIC:                                      83.13\n",
       "Df Model:                           7                                                  \n",
       "Covariance Type:            nonrobust                                                  \n",
       "==============================================================================\n",
       "                 coef    std err          t      P>|t|      [0.025      0.975]\n",
       "------------------------------------------------------------------------------\n",
       "x1             0.0305      0.090      0.338      0.737      -0.152       0.213\n",
       "x2            -0.1258      0.099     -1.275      0.210      -0.326       0.074\n",
       "x3             0.1615      0.152      1.062      0.295      -0.147       0.469\n",
       "x4            -0.0647      0.163     -0.396      0.695      -0.396       0.266\n",
       "x5             0.4704      0.195      2.410      0.021       0.075       0.866\n",
       "x6            -0.2056      0.161     -1.280      0.208      -0.531       0.120\n",
       "x7             0.7427      0.163      4.565      0.000       0.413       1.072\n",
       "==============================================================================\n",
       "Omnibus:                        3.393   Durbin-Watson:                   2.098\n",
       "Prob(Omnibus):                  0.183   Jarque-Bera (JB):                2.358\n",
       "Skew:                           0.342   Prob(JB):                        0.308\n",
       "Kurtosis:                       3.904   Cond. No.                         50.2\n",
       "==============================================================================\n",
       "\n",
       "Notes:\n",
       "[1] R² is computed without centering (uncentered) since the model does not contain a constant.\n",
       "[2] Standard Errors assume that the covariance matrix of the errors is correctly specified.\n",
       "\"\"\""
      ]
     },
     "execution_count": 46,
     "metadata": {},
     "output_type": "execute_result"
    }
   ],
   "source": [
    "# ordinary least square method\n",
    "\n",
    "import statsmodels.api as sm\n",
    "mdl_stat_lr = sm.OLS(y_train, X_train)\n",
    "results_lr = mdl_stat_lr.fit()\n",
    "results_lr.summary()"
   ]
  },
  {
   "cell_type": "markdown",
   "id": "ebf74e97",
   "metadata": {},
   "source": [
    "Here the model evaluations scores are almost matching with that of train data. So the model is not overfitting."
   ]
  },
  {
   "cell_type": "code",
   "execution_count": 47,
   "id": "94f1f698",
   "metadata": {},
   "outputs": [
    {
     "data": {
      "text/plain": [
       "array([[7.50573123]])"
      ]
     },
     "execution_count": 47,
     "metadata": {},
     "output_type": "execute_result"
    }
   ],
   "source": [
    "model_lr.predict([[4, 3, 7.00, 6.74, 7.10, 8.24, 7.34]])"
   ]
  },
  {
   "cell_type": "markdown",
   "id": "50024c46",
   "metadata": {},
   "source": [
    "# Decision Tree Regressor"
   ]
  },
  {
   "cell_type": "markdown",
   "id": "46e68e46",
   "metadata": {},
   "source": [
    "## Train and test"
   ]
  },
  {
   "cell_type": "code",
   "execution_count": 48,
   "id": "4f027eec",
   "metadata": {},
   "outputs": [],
   "source": [
    "from sklearn.model_selection import train_test_split\n",
    "\n",
    "# split the data into test and train\n",
    "X1_train, X1_test, y1_train, y1_test = train_test_split(\n",
    "    finalFeatureArray,\n",
    "    finalTargetArray,\n",
    "    train_size=0.8,\n",
    "    random_state=0\n",
    ")"
   ]
  },
  {
   "cell_type": "code",
   "execution_count": 49,
   "id": "4b8440e4",
   "metadata": {},
   "outputs": [
    {
     "name": "stdout",
     "output_type": "stream",
     "text": [
      "Shape of X_train: (44, 7)\n",
      "Shape of X_test: (12, 7)\n",
      "Shape of y_train: (44, 1)\n",
      "Shape of y_test: (12, 1)\n"
     ]
    }
   ],
   "source": [
    "# shape data\n",
    "print(f\"Shape of X_train: {X1_train.shape}\\n\"\n",
    "      f\"Shape of X_test: {X1_test.shape}\\n\"\n",
    "      f\"Shape of y_train: {y1_train.shape}\\n\"\n",
    "      f\"Shape of y_test: {y1_test.shape}\"\n",
    ")"
   ]
  },
  {
   "cell_type": "markdown",
   "id": "e919aae5",
   "metadata": {},
   "source": [
    "## Fitting in DTR"
   ]
  },
  {
   "cell_type": "code",
   "execution_count": 50,
   "id": "d4274ae9",
   "metadata": {},
   "outputs": [
    {
     "data": {
      "text/plain": [
       "DecisionTreeRegressor(random_state=0)"
      ]
     },
     "execution_count": 50,
     "metadata": {},
     "output_type": "execute_result"
    }
   ],
   "source": [
    "from sklearn.tree import DecisionTreeRegressor\n",
    "model_dtr = DecisionTreeRegressor(random_state=0)\n",
    "model_dtr.fit(X1_train, y1_train)"
   ]
  },
  {
   "cell_type": "markdown",
   "id": "952a0950",
   "metadata": {},
   "source": [
    "# Model Evaluation\n",
    "**Let's evaluate the model by checking out it's coefficients and how we can interpret them.**"
   ]
  },
  {
   "cell_type": "code",
   "execution_count": 51,
   "id": "49ae98e4",
   "metadata": {},
   "outputs": [],
   "source": [
    "# predict the X using trained model\n",
    "y_train_pred_dtr = model_dtr.predict(X1_train)\n",
    "y_test_pred_dtr = model_dtr.predict(X1_test)\n",
    "target_array_pred_dtr = model_dtr.predict(finalFeatureArray)"
   ]
  },
  {
   "cell_type": "code",
   "execution_count": 52,
   "id": "34428551",
   "metadata": {},
   "outputs": [
    {
     "name": "stdout",
     "output_type": "stream",
     "text": [
      "Real Data:\n",
      "[[8.99]\n",
      " [6.  ]\n",
      " [7.  ]\n",
      " [7.84]\n",
      " [7.  ]]\n",
      "\n",
      "Predicted Data:\n",
      "[8.99 6.   7.   7.84 7.  ]\n"
     ]
    }
   ],
   "source": [
    "# check the rae prediction data and compare with the real data\n",
    "print(f\"Real Data:\\n{y1_train[:5]}\\n\")\n",
    "print(f\"Predicted Data:\\n{y_train_pred_dtr[:5]}\")"
   ]
  },
  {
   "cell_type": "code",
   "execution_count": 53,
   "id": "636e39b9",
   "metadata": {},
   "outputs": [
    {
     "data": {
      "text/html": [
       "<div>\n",
       "<style scoped>\n",
       "    .dataframe tbody tr th:only-of-type {\n",
       "        vertical-align: middle;\n",
       "    }\n",
       "\n",
       "    .dataframe tbody tr th {\n",
       "        vertical-align: top;\n",
       "    }\n",
       "\n",
       "    .dataframe thead th {\n",
       "        text-align: right;\n",
       "    }\n",
       "</style>\n",
       "<table border=\"1\" class=\"dataframe\">\n",
       "  <thead>\n",
       "    <tr style=\"text-align: right;\">\n",
       "      <th></th>\n",
       "      <th>Attendence</th>\n",
       "      <th>StudyHours</th>\n",
       "      <th>1stSemGrade</th>\n",
       "      <th>2ndSemGRade</th>\n",
       "      <th>3rdSemGrade</th>\n",
       "      <th>4thSemGrade</th>\n",
       "      <th>5thSemGrade</th>\n",
       "      <th>6thSemGrade</th>\n",
       "    </tr>\n",
       "  </thead>\n",
       "  <tbody>\n",
       "    <tr>\n",
       "      <th>0</th>\n",
       "      <td>4</td>\n",
       "      <td>3</td>\n",
       "      <td>6.48</td>\n",
       "      <td>6.00</td>\n",
       "      <td>6.39</td>\n",
       "      <td>7.11</td>\n",
       "      <td>7.67</td>\n",
       "      <td>7.588491</td>\n",
       "    </tr>\n",
       "    <tr>\n",
       "      <th>1</th>\n",
       "      <td>4</td>\n",
       "      <td>3</td>\n",
       "      <td>7.00</td>\n",
       "      <td>6.74</td>\n",
       "      <td>7.10</td>\n",
       "      <td>8.24</td>\n",
       "      <td>7.34</td>\n",
       "      <td>7.505731</td>\n",
       "    </tr>\n",
       "    <tr>\n",
       "      <th>2</th>\n",
       "      <td>3</td>\n",
       "      <td>4</td>\n",
       "      <td>6.00</td>\n",
       "      <td>5.41</td>\n",
       "      <td>4.21</td>\n",
       "      <td>5.99</td>\n",
       "      <td>6.00</td>\n",
       "      <td>5.458724</td>\n",
       "    </tr>\n",
       "    <tr>\n",
       "      <th>3</th>\n",
       "      <td>4</td>\n",
       "      <td>4</td>\n",
       "      <td>8.12</td>\n",
       "      <td>8.00</td>\n",
       "      <td>8.52</td>\n",
       "      <td>7.91</td>\n",
       "      <td>8.23</td>\n",
       "      <td>8.672357</td>\n",
       "    </tr>\n",
       "    <tr>\n",
       "      <th>4</th>\n",
       "      <td>2</td>\n",
       "      <td>2</td>\n",
       "      <td>5.00</td>\n",
       "      <td>5.12</td>\n",
       "      <td>4.54</td>\n",
       "      <td>6.00</td>\n",
       "      <td>6.66</td>\n",
       "      <td>6.465483</td>\n",
       "    </tr>\n",
       "    <tr>\n",
       "      <th>5</th>\n",
       "      <td>5</td>\n",
       "      <td>3</td>\n",
       "      <td>5.48</td>\n",
       "      <td>5.00</td>\n",
       "      <td>5.12</td>\n",
       "      <td>4.21</td>\n",
       "      <td>5.66</td>\n",
       "      <td>6.229089</td>\n",
       "    </tr>\n",
       "    <tr>\n",
       "      <th>6</th>\n",
       "      <td>4</td>\n",
       "      <td>4</td>\n",
       "      <td>6.14</td>\n",
       "      <td>6.00</td>\n",
       "      <td>5.12</td>\n",
       "      <td>6.84</td>\n",
       "      <td>6.55</td>\n",
       "      <td>6.074515</td>\n",
       "    </tr>\n",
       "    <tr>\n",
       "      <th>7</th>\n",
       "      <td>3</td>\n",
       "      <td>3</td>\n",
       "      <td>5.78</td>\n",
       "      <td>6.21</td>\n",
       "      <td>5.20</td>\n",
       "      <td>5.00</td>\n",
       "      <td>5.84</td>\n",
       "      <td>6.262558</td>\n",
       "    </tr>\n",
       "    <tr>\n",
       "      <th>8</th>\n",
       "      <td>4</td>\n",
       "      <td>3</td>\n",
       "      <td>6.43</td>\n",
       "      <td>5.41</td>\n",
       "      <td>6.82</td>\n",
       "      <td>6.94</td>\n",
       "      <td>6.74</td>\n",
       "      <td>7.252431</td>\n",
       "    </tr>\n",
       "    <tr>\n",
       "      <th>9</th>\n",
       "      <td>3</td>\n",
       "      <td>4</td>\n",
       "      <td>5.84</td>\n",
       "      <td>5.00</td>\n",
       "      <td>5.21</td>\n",
       "      <td>5.99</td>\n",
       "      <td>6.00</td>\n",
       "      <td>5.972718</td>\n",
       "    </tr>\n",
       "  </tbody>\n",
       "</table>\n",
       "</div>"
      ],
      "text/plain": [
       "   Attendence  StudyHours  1stSemGrade  2ndSemGRade  3rdSemGrade  4thSemGrade  \\\n",
       "0           4           3         6.48         6.00         6.39         7.11   \n",
       "1           4           3         7.00         6.74         7.10         8.24   \n",
       "2           3           4         6.00         5.41         4.21         5.99   \n",
       "3           4           4         8.12         8.00         8.52         7.91   \n",
       "4           2           2         5.00         5.12         4.54         6.00   \n",
       "5           5           3         5.48         5.00         5.12         4.21   \n",
       "6           4           4         6.14         6.00         5.12         6.84   \n",
       "7           3           3         5.78         6.21         5.20         5.00   \n",
       "8           4           3         6.43         5.41         6.82         6.94   \n",
       "9           3           4         5.84         5.00         5.21         5.99   \n",
       "\n",
       "   5thSemGrade  6thSemGrade  \n",
       "0         7.67     7.588491  \n",
       "1         7.34     7.505731  \n",
       "2         6.00     5.458724  \n",
       "3         8.23     8.672357  \n",
       "4         6.66     6.465483  \n",
       "5         5.66     6.229089  \n",
       "6         6.55     6.074515  \n",
       "7         5.84     6.262558  \n",
       "8         6.74     7.252431  \n",
       "9         6.00     5.972718  "
      ]
     },
     "execution_count": 53,
     "metadata": {},
     "output_type": "execute_result"
    }
   ],
   "source": [
    "# check the data in the form of dataframe\n",
    "finalWithPredData_dtr = final_df.copy()\n",
    "finalWithPredData_dtr['6thSemGrade'] = target_array_pred.reshape(-1,)\n",
    "finalWithPredData_dtr.head(10)"
   ]
  },
  {
   "cell_type": "code",
   "execution_count": 117,
   "id": "30300566",
   "metadata": {},
   "outputs": [
    {
     "data": {
      "text/plain": [
       "0.21251933243160182"
      ]
     },
     "execution_count": 117,
     "metadata": {},
     "output_type": "execute_result"
    }
   ],
   "source": [
    "model_dtr.score(X1_test, y1_test)"
   ]
  },
  {
   "cell_type": "code",
   "execution_count": 54,
   "id": "dda50672",
   "metadata": {},
   "outputs": [],
   "source": [
    "# y_pred\n",
    "prediction_dtr = model_dtr.predict(X1_test)"
   ]
  },
  {
   "cell_type": "code",
   "execution_count": 55,
   "id": "136f1944",
   "metadata": {},
   "outputs": [
    {
     "data": {
      "text/plain": [
       "Text(0, 0.5, 'Predicted')"
      ]
     },
     "execution_count": 55,
     "metadata": {},
     "output_type": "execute_result"
    },
    {
     "data": {
      "image/png": "[encoded data removed]",
      "text/plain": [
       "<Figure size 432x288 with 1 Axes>"
      ]
     },
     "metadata": {},
     "output_type": "display_data"
    }
   ],
   "source": [
    "plt.scatter(y1_test, prediction_dtr, marker='^')\n",
    "plt.xlabel('Y test')\n",
    "plt.ylabel('Predicted')"
   ]
  },
  {
   "cell_type": "code",
   "execution_count": 56,
   "id": "08a2e740",
   "metadata": {},
   "outputs": [
    {
     "data": {
      "text/plain": [
       "(array([[0., 0., 1., 1., 4., 1., 5., 0., 0., 0.],\n",
       "        [0., 0., 1., 1., 3., 2., 5., 0., 0., 0.],\n",
       "        [0., 0., 1., 1., 3., 2., 5., 0., 0., 0.],\n",
       "        [2., 3., 2., 4., 1., 0., 0., 0., 0., 0.],\n",
       "        [0., 0., 0., 0., 0., 2., 0., 4., 2., 4.],\n",
       "        [0., 0., 0., 0., 0., 1., 1., 3., 2., 5.],\n",
       "        [0., 0., 0., 2., 0., 4., 2., 4., 0., 0.],\n",
       "        [1., 1., 3., 2., 5., 0., 0., 0., 0., 0.],\n",
       "        [2., 0., 4., 2., 4., 0., 0., 0., 0., 0.],\n",
       "        [0., 1., 1., 4., 1., 5., 0., 0., 0., 0.],\n",
       "        [0., 0., 0., 0., 0., 1., 1., 4., 1., 5.],\n",
       "        [0., 0., 1., 1., 4., 1., 5., 0., 0., 0.]]),\n",
       " array([-2.76, -2.28, -1.8 , -1.32, -0.84, -0.36,  0.12,  0.6 ,  1.08,\n",
       "         1.56,  2.04]),\n",
       " <a list of 12 BarContainer objects>)"
      ]
     },
     "execution_count": 56,
     "metadata": {},
     "output_type": "execute_result"
    },
    {
     "data": {
      "image/png": "[encoded data removed]",
      "text/plain": [
       "<Figure size 432x288 with 1 Axes>"
      ]
     },
     "metadata": {},
     "output_type": "display_data"
    }
   ],
   "source": [
    "plt.hist(y1_test - prediction_dtr)"
   ]
  },
  {
   "cell_type": "markdown",
   "id": "32b541bb",
   "metadata": {},
   "source": [
    "# Cross Validation"
   ]
  },
  {
   "cell_type": "code",
   "execution_count": 57,
   "id": "056b5d1a",
   "metadata": {},
   "outputs": [
    {
     "data": {
      "image/png": "[encoded data removed]",
      "text/plain": [
       "<Figure size 432x288 with 1 Axes>"
      ]
     },
     "metadata": {},
     "output_type": "display_data"
    }
   ],
   "source": [
    "from sklearn.model_selection import cross_val_predict\n",
    "\n",
    "cvPredicr_dtr = cross_val_predict(\n",
    "    model_dtr,\n",
    "    finalFeatureArray,\n",
    "    finalTargetArray,\n",
    "    cv=10\n",
    ")\n",
    "\n",
    "fig, ax = plt.subplots()\n",
    "ax.scatter(\n",
    "    finalTargetArray,\n",
    "    cvPredicr_dtr,\n",
    "    edgecolors=(0,0,0)\n",
    ")\n",
    "\n",
    "ax.plot(\n",
    "    [\n",
    "        finalTargetArray.min(),\n",
    "        finalTargetArray.max()\n",
    "    ],\n",
    "    [\n",
    "        finalTargetArray.min(),\n",
    "        finalTargetArray.max()\n",
    "    ],\n",
    "    'k--',\n",
    "    lw=4\n",
    ")\n",
    "\n",
    "ax.set_xlabel('Measured')\n",
    "ax.set_ylabel('Predicted')\n",
    "plt.show()"
   ]
  },
  {
   "cell_type": "code",
   "execution_count": 58,
   "id": "be3d0e34",
   "metadata": {},
   "outputs": [
    {
     "name": "stdout",
     "output_type": "stream",
     "text": [
      "MAE: 0.4875000000000001\n",
      "MSE: 0.3044416666666669\n",
      "RMSE: 0.5517623280604312\n"
     ]
    }
   ],
   "source": [
    "from sklearn import metrics\n",
    "print(f\"MAE: {metrics.mean_absolute_error(y1_test, prediction_dtr)}\")\n",
    "print(f\"MSE: {metrics.mean_squared_error(y1_test, prediction_dtr)}\")\n",
    "print(f\"RMSE: {np.sqrt(metrics.mean_squared_error(y1_test, prediction_dtr))}\")"
   ]
  },
  {
   "cell_type": "code",
   "execution_count": 59,
   "id": "2fb31dbb",
   "metadata": {},
   "outputs": [
    {
     "name": "stdout",
     "output_type": "stream",
     "text": [
      "R^2 score: 1.0\n"
     ]
    }
   ],
   "source": [
    "# r squared\n",
    "print(f\"R^2 score: {model_dtr.score(X1_train, y1_train)}\")"
   ]
  },
  {
   "cell_type": "code",
   "execution_count": 60,
   "id": "1f1e9967",
   "metadata": {},
   "outputs": [
    {
     "name": "stdout",
     "output_type": "stream",
     "text": [
      "Shapiro- wilk test statistic: 0.9837238788604736, p-value: 0.6484736800193787\n",
      "Kolmogorov- Smirnov  test statistic: 0.8886835963131072, p-value: 8.339154744801111e-54\n"
     ]
    }
   ],
   "source": [
    "from scipy import stats\n",
    "residual_dtr = abs(finalTargetArray) - abs(target_array_pred)\n",
    "sw_dtr = stats.shapiro(residual_dtr)\n",
    "ks_dtr = stats.kstest(residual_dtr, 'norm')\n",
    "\n",
    "print(f\"Shapiro- wilk test statistic: {sw_dtr[0]}, p-value: {sw_dtr[1]}\")\n",
    "print(f\"Kolmogorov- Smirnov  test statistic: {ks_dtr[0]}, p-value: {ks_dtr[1]}\")"
   ]
  },
  {
   "cell_type": "markdown",
   "id": "639f0dcd",
   "metadata": {},
   "source": [
    "# Stats Model"
   ]
  },
  {
   "cell_type": "code",
   "execution_count": 61,
   "id": "f9130d41",
   "metadata": {},
   "outputs": [
    {
     "data": {
      "text/html": [
       "<table class=\"simpletable\">\n",
       "<caption>OLS Regression Results</caption>\n",
       "<tr>\n",
       "  <th>Dep. Variable:</th>            <td>y</td>        <th>  R-squared (uncentered):</th>      <td>   0.996</td>\n",
       "</tr>\n",
       "<tr>\n",
       "  <th>Model:</th>                   <td>OLS</td>       <th>  Adj. R-squared (uncentered):</th> <td>   0.995</td>\n",
       "</tr>\n",
       "<tr>\n",
       "  <th>Method:</th>             <td>Least Squares</td>  <th>  F-statistic:       </th>          <td>   1385.</td>\n",
       "</tr>\n",
       "<tr>\n",
       "  <th>Date:</th>             <td>Sat, 25 Dec 2021</td> <th>  Prob (F-statistic):</th>          <td>9.29e-43</td>\n",
       "</tr>\n",
       "<tr>\n",
       "  <th>Time:</th>                 <td>20:13:08</td>     <th>  Log-Likelihood:    </th>          <td> -28.319</td>\n",
       "</tr>\n",
       "<tr>\n",
       "  <th>No. Observations:</th>      <td>    44</td>      <th>  AIC:               </th>          <td>   70.64</td>\n",
       "</tr>\n",
       "<tr>\n",
       "  <th>Df Residuals:</th>          <td>    37</td>      <th>  BIC:               </th>          <td>   83.13</td>\n",
       "</tr>\n",
       "<tr>\n",
       "  <th>Df Model:</th>              <td>     7</td>      <th>                     </th>              <td> </td>   \n",
       "</tr>\n",
       "<tr>\n",
       "  <th>Covariance Type:</th>      <td>nonrobust</td>    <th>                     </th>              <td> </td>   \n",
       "</tr>\n",
       "</table>\n",
       "<table class=\"simpletable\">\n",
       "<tr>\n",
       "   <td></td>     <th>coef</th>     <th>std err</th>      <th>t</th>      <th>P>|t|</th>  <th>[0.025</th>    <th>0.975]</th>  \n",
       "</tr>\n",
       "<tr>\n",
       "  <th>x1</th> <td>    0.0305</td> <td>    0.090</td> <td>    0.338</td> <td> 0.737</td> <td>   -0.152</td> <td>    0.213</td>\n",
       "</tr>\n",
       "<tr>\n",
       "  <th>x2</th> <td>   -0.1258</td> <td>    0.099</td> <td>   -1.275</td> <td> 0.210</td> <td>   -0.326</td> <td>    0.074</td>\n",
       "</tr>\n",
       "<tr>\n",
       "  <th>x3</th> <td>    0.1615</td> <td>    0.152</td> <td>    1.062</td> <td> 0.295</td> <td>   -0.147</td> <td>    0.469</td>\n",
       "</tr>\n",
       "<tr>\n",
       "  <th>x4</th> <td>   -0.0647</td> <td>    0.163</td> <td>   -0.396</td> <td> 0.695</td> <td>   -0.396</td> <td>    0.266</td>\n",
       "</tr>\n",
       "<tr>\n",
       "  <th>x5</th> <td>    0.4704</td> <td>    0.195</td> <td>    2.410</td> <td> 0.021</td> <td>    0.075</td> <td>    0.866</td>\n",
       "</tr>\n",
       "<tr>\n",
       "  <th>x6</th> <td>   -0.2056</td> <td>    0.161</td> <td>   -1.280</td> <td> 0.208</td> <td>   -0.531</td> <td>    0.120</td>\n",
       "</tr>\n",
       "<tr>\n",
       "  <th>x7</th> <td>    0.7427</td> <td>    0.163</td> <td>    4.565</td> <td> 0.000</td> <td>    0.413</td> <td>    1.072</td>\n",
       "</tr>\n",
       "</table>\n",
       "<table class=\"simpletable\">\n",
       "<tr>\n",
       "  <th>Omnibus:</th>       <td> 3.393</td> <th>  Durbin-Watson:     </th> <td>   2.098</td>\n",
       "</tr>\n",
       "<tr>\n",
       "  <th>Prob(Omnibus):</th> <td> 0.183</td> <th>  Jarque-Bera (JB):  </th> <td>   2.358</td>\n",
       "</tr>\n",
       "<tr>\n",
       "  <th>Skew:</th>          <td> 0.342</td> <th>  Prob(JB):          </th> <td>   0.308</td>\n",
       "</tr>\n",
       "<tr>\n",
       "  <th>Kurtosis:</th>      <td> 3.904</td> <th>  Cond. No.          </th> <td>    50.2</td>\n",
       "</tr>\n",
       "</table><br/><br/>Notes:<br/>[1] R² is computed without centering (uncentered) since the model does not contain a constant.<br/>[2] Standard Errors assume that the covariance matrix of the errors is correctly specified."
      ],
      "text/plain": [
       "<class 'statsmodels.iolib.summary.Summary'>\n",
       "\"\"\"\n",
       "                                 OLS Regression Results                                \n",
       "=======================================================================================\n",
       "Dep. Variable:                      y   R-squared (uncentered):                   0.996\n",
       "Model:                            OLS   Adj. R-squared (uncentered):              0.995\n",
       "Method:                 Least Squares   F-statistic:                              1385.\n",
       "Date:                Sat, 25 Dec 2021   Prob (F-statistic):                    9.29e-43\n",
       "Time:                        20:13:08   Log-Likelihood:                         -28.319\n",
       "No. Observations:                  44   AIC:                                      70.64\n",
       "Df Residuals:                      37   BIC:                                      83.13\n",
       "Df Model:                           7                                                  \n",
       "Covariance Type:            nonrobust                                                  \n",
       "==============================================================================\n",
       "                 coef    std err          t      P>|t|      [0.025      0.975]\n",
       "------------------------------------------------------------------------------\n",
       "x1             0.0305      0.090      0.338      0.737      -0.152       0.213\n",
       "x2            -0.1258      0.099     -1.275      0.210      -0.326       0.074\n",
       "x3             0.1615      0.152      1.062      0.295      -0.147       0.469\n",
       "x4            -0.0647      0.163     -0.396      0.695      -0.396       0.266\n",
       "x5             0.4704      0.195      2.410      0.021       0.075       0.866\n",
       "x6            -0.2056      0.161     -1.280      0.208      -0.531       0.120\n",
       "x7             0.7427      0.163      4.565      0.000       0.413       1.072\n",
       "==============================================================================\n",
       "Omnibus:                        3.393   Durbin-Watson:                   2.098\n",
       "Prob(Omnibus):                  0.183   Jarque-Bera (JB):                2.358\n",
       "Skew:                           0.342   Prob(JB):                        0.308\n",
       "Kurtosis:                       3.904   Cond. No.                         50.2\n",
       "==============================================================================\n",
       "\n",
       "Notes:\n",
       "[1] R² is computed without centering (uncentered) since the model does not contain a constant.\n",
       "[2] Standard Errors assume that the covariance matrix of the errors is correctly specified.\n",
       "\"\"\""
      ]
     },
     "execution_count": 61,
     "metadata": {},
     "output_type": "execute_result"
    }
   ],
   "source": [
    "# ordinary least square method\n",
    "\n",
    "import statsmodels.api as sm\n",
    "mdl_stat_dtr = sm.OLS(y1_train, X1_train)\n",
    "results_dtr = mdl_stat_dtr.fit()\n",
    "results_dtr.summary()"
   ]
  },
  {
   "cell_type": "code",
   "execution_count": 62,
   "id": "f2cd29be",
   "metadata": {},
   "outputs": [
    {
     "data": {
      "text/plain": [
       "array([7.])"
      ]
     },
     "execution_count": 62,
     "metadata": {},
     "output_type": "execute_result"
    }
   ],
   "source": [
    "model_dtr.predict([[4, 3, 7.00, 6.74, 7.10, 8.24, 7.34]])"
   ]
  },
  {
   "cell_type": "markdown",
   "id": "f7dabe4e",
   "metadata": {},
   "source": [
    "# Random Forest Regressor"
   ]
  },
  {
   "cell_type": "markdown",
   "id": "c619733e",
   "metadata": {},
   "source": [
    "# Train and test"
   ]
  },
  {
   "cell_type": "code",
   "execution_count": 63,
   "id": "c2872caf",
   "metadata": {},
   "outputs": [],
   "source": [
    "from sklearn.model_selection import train_test_split\n",
    "\n",
    "# split the data into test and train\n",
    "X2_train, X2_test, y2_train, y2_test = train_test_split(\n",
    "    finalFeatureArray,\n",
    "    finalTargetArray,\n",
    "    train_size=0.8,\n",
    "    random_state=0\n",
    ")"
   ]
  },
  {
   "cell_type": "code",
   "execution_count": 64,
   "id": "c69ca315",
   "metadata": {},
   "outputs": [
    {
     "name": "stdout",
     "output_type": "stream",
     "text": [
      "Shape of X_train: (44, 7)\n",
      "Shape of X_test: (12, 7)\n",
      "Shape of y_train: (44, 1)\n",
      "Shape of y_test: (12, 1)\n"
     ]
    }
   ],
   "source": [
    "# shape data\n",
    "print(f\"Shape of X_train: {X2_train.shape}\\n\"\n",
    "      f\"Shape of X_test: {X2_test.shape}\\n\"\n",
    "      f\"Shape of y_train: {y2_train.shape}\\n\"\n",
    "      f\"Shape of y_test: {y2_test.shape}\"\n",
    ")"
   ]
  },
  {
   "cell_type": "code",
   "execution_count": 65,
   "id": "9540a143",
   "metadata": {},
   "outputs": [
    {
     "data": {
      "text/plain": [
       "RandomForestRegressor()"
      ]
     },
     "execution_count": 65,
     "metadata": {},
     "output_type": "execute_result"
    }
   ],
   "source": [
    "from sklearn.ensemble import RandomForestRegressor\n",
    "\n",
    "model_rfr = RandomForestRegressor()\n",
    "model_rfr.fit(X2_train, y2_train)"
   ]
  },
  {
   "cell_type": "markdown",
   "id": "9efff013",
   "metadata": {},
   "source": [
    "# Model Evaluation\n",
    "**Let's evaluate the model by checking out it's coefficients and how we can interpret them.**"
   ]
  },
  {
   "cell_type": "code",
   "execution_count": 66,
   "id": "aa67f22c",
   "metadata": {},
   "outputs": [],
   "source": [
    "# predict the X using trained model\n",
    "y_train_pred_rfr = model_rfr.predict(X2_train)\n",
    "y_test_pred_rfr = model_rfr.predict(X2_test)\n",
    "target_array_pred_rfr = model_rfr.predict(finalFeatureArray)"
   ]
  },
  {
   "cell_type": "code",
   "execution_count": 67,
   "id": "827ab9fa",
   "metadata": {},
   "outputs": [
    {
     "name": "stdout",
     "output_type": "stream",
     "text": [
      "Real Data:\n",
      "[[8.99]\n",
      " [6.  ]\n",
      " [7.  ]\n",
      " [7.84]\n",
      " [7.  ]]\n",
      "\n",
      "Predicted Data:\n",
      "[8.8374 6.2082 7.0336 7.1851 7.0254]\n"
     ]
    }
   ],
   "source": [
    "# check the rae prediction data and compare with the real data\n",
    "print(f\"Real Data:\\n{y2_train[:5]}\\n\")\n",
    "print(f\"Predicted Data:\\n{y_train_pred_rfr[:5]}\")"
   ]
  },
  {
   "cell_type": "code",
   "execution_count": 68,
   "id": "4e37adb1",
   "metadata": {},
   "outputs": [
    {
     "data": {
      "text/html": [
       "<div>\n",
       "<style scoped>\n",
       "    .dataframe tbody tr th:only-of-type {\n",
       "        vertical-align: middle;\n",
       "    }\n",
       "\n",
       "    .dataframe tbody tr th {\n",
       "        vertical-align: top;\n",
       "    }\n",
       "\n",
       "    .dataframe thead th {\n",
       "        text-align: right;\n",
       "    }\n",
       "</style>\n",
       "<table border=\"1\" class=\"dataframe\">\n",
       "  <thead>\n",
       "    <tr style=\"text-align: right;\">\n",
       "      <th></th>\n",
       "      <th>Attendence</th>\n",
       "      <th>StudyHours</th>\n",
       "      <th>1stSemGrade</th>\n",
       "      <th>2ndSemGRade</th>\n",
       "      <th>3rdSemGrade</th>\n",
       "      <th>4thSemGrade</th>\n",
       "      <th>5thSemGrade</th>\n",
       "      <th>6thSemGrade</th>\n",
       "    </tr>\n",
       "  </thead>\n",
       "  <tbody>\n",
       "    <tr>\n",
       "      <th>0</th>\n",
       "      <td>4</td>\n",
       "      <td>3</td>\n",
       "      <td>6.48</td>\n",
       "      <td>6.00</td>\n",
       "      <td>6.39</td>\n",
       "      <td>7.11</td>\n",
       "      <td>7.67</td>\n",
       "      <td>7.588491</td>\n",
       "    </tr>\n",
       "    <tr>\n",
       "      <th>1</th>\n",
       "      <td>4</td>\n",
       "      <td>3</td>\n",
       "      <td>7.00</td>\n",
       "      <td>6.74</td>\n",
       "      <td>7.10</td>\n",
       "      <td>8.24</td>\n",
       "      <td>7.34</td>\n",
       "      <td>7.505731</td>\n",
       "    </tr>\n",
       "    <tr>\n",
       "      <th>2</th>\n",
       "      <td>3</td>\n",
       "      <td>4</td>\n",
       "      <td>6.00</td>\n",
       "      <td>5.41</td>\n",
       "      <td>4.21</td>\n",
       "      <td>5.99</td>\n",
       "      <td>6.00</td>\n",
       "      <td>5.458724</td>\n",
       "    </tr>\n",
       "    <tr>\n",
       "      <th>3</th>\n",
       "      <td>4</td>\n",
       "      <td>4</td>\n",
       "      <td>8.12</td>\n",
       "      <td>8.00</td>\n",
       "      <td>8.52</td>\n",
       "      <td>7.91</td>\n",
       "      <td>8.23</td>\n",
       "      <td>8.672357</td>\n",
       "    </tr>\n",
       "    <tr>\n",
       "      <th>4</th>\n",
       "      <td>2</td>\n",
       "      <td>2</td>\n",
       "      <td>5.00</td>\n",
       "      <td>5.12</td>\n",
       "      <td>4.54</td>\n",
       "      <td>6.00</td>\n",
       "      <td>6.66</td>\n",
       "      <td>6.465483</td>\n",
       "    </tr>\n",
       "    <tr>\n",
       "      <th>5</th>\n",
       "      <td>5</td>\n",
       "      <td>3</td>\n",
       "      <td>5.48</td>\n",
       "      <td>5.00</td>\n",
       "      <td>5.12</td>\n",
       "      <td>4.21</td>\n",
       "      <td>5.66</td>\n",
       "      <td>6.229089</td>\n",
       "    </tr>\n",
       "    <tr>\n",
       "      <th>6</th>\n",
       "      <td>4</td>\n",
       "      <td>4</td>\n",
       "      <td>6.14</td>\n",
       "      <td>6.00</td>\n",
       "      <td>5.12</td>\n",
       "      <td>6.84</td>\n",
       "      <td>6.55</td>\n",
       "      <td>6.074515</td>\n",
       "    </tr>\n",
       "    <tr>\n",
       "      <th>7</th>\n",
       "      <td>3</td>\n",
       "      <td>3</td>\n",
       "      <td>5.78</td>\n",
       "      <td>6.21</td>\n",
       "      <td>5.20</td>\n",
       "      <td>5.00</td>\n",
       "      <td>5.84</td>\n",
       "      <td>6.262558</td>\n",
       "    </tr>\n",
       "    <tr>\n",
       "      <th>8</th>\n",
       "      <td>4</td>\n",
       "      <td>3</td>\n",
       "      <td>6.43</td>\n",
       "      <td>5.41</td>\n",
       "      <td>6.82</td>\n",
       "      <td>6.94</td>\n",
       "      <td>6.74</td>\n",
       "      <td>7.252431</td>\n",
       "    </tr>\n",
       "    <tr>\n",
       "      <th>9</th>\n",
       "      <td>3</td>\n",
       "      <td>4</td>\n",
       "      <td>5.84</td>\n",
       "      <td>5.00</td>\n",
       "      <td>5.21</td>\n",
       "      <td>5.99</td>\n",
       "      <td>6.00</td>\n",
       "      <td>5.972718</td>\n",
       "    </tr>\n",
       "  </tbody>\n",
       "</table>\n",
       "</div>"
      ],
      "text/plain": [
       "   Attendence  StudyHours  1stSemGrade  2ndSemGRade  3rdSemGrade  4thSemGrade  \\\n",
       "0           4           3         6.48         6.00         6.39         7.11   \n",
       "1           4           3         7.00         6.74         7.10         8.24   \n",
       "2           3           4         6.00         5.41         4.21         5.99   \n",
       "3           4           4         8.12         8.00         8.52         7.91   \n",
       "4           2           2         5.00         5.12         4.54         6.00   \n",
       "5           5           3         5.48         5.00         5.12         4.21   \n",
       "6           4           4         6.14         6.00         5.12         6.84   \n",
       "7           3           3         5.78         6.21         5.20         5.00   \n",
       "8           4           3         6.43         5.41         6.82         6.94   \n",
       "9           3           4         5.84         5.00         5.21         5.99   \n",
       "\n",
       "   5thSemGrade  6thSemGrade  \n",
       "0         7.67     7.588491  \n",
       "1         7.34     7.505731  \n",
       "2         6.00     5.458724  \n",
       "3         8.23     8.672357  \n",
       "4         6.66     6.465483  \n",
       "5         5.66     6.229089  \n",
       "6         6.55     6.074515  \n",
       "7         5.84     6.262558  \n",
       "8         6.74     7.252431  \n",
       "9         6.00     5.972718  "
      ]
     },
     "execution_count": 68,
     "metadata": {},
     "output_type": "execute_result"
    }
   ],
   "source": [
    "# check the data in the form of dataframe\n",
    "finalWithPredData_rfr = final_df.copy()\n",
    "finalWithPredData_rfr['6thSemGrade'] = target_array_pred.reshape(-1,)\n",
    "finalWithPredData_rfr.head(10)"
   ]
  },
  {
   "cell_type": "code",
   "execution_count": 118,
   "id": "50327db7",
   "metadata": {},
   "outputs": [
    {
     "data": {
      "text/plain": [
       "0.6780759113860564"
      ]
     },
     "execution_count": 118,
     "metadata": {},
     "output_type": "execute_result"
    }
   ],
   "source": [
    "model_rfr.score(X2_test, y2_test)"
   ]
  },
  {
   "cell_type": "code",
   "execution_count": 69,
   "id": "47dbd260",
   "metadata": {},
   "outputs": [],
   "source": [
    "# y_pred\n",
    "prediction_rfr = model_rfr.predict(X2_test)"
   ]
  },
  {
   "cell_type": "code",
   "execution_count": 70,
   "id": "24305307",
   "metadata": {},
   "outputs": [
    {
     "data": {
      "text/plain": [
       "Text(0, 0.5, 'Predicted')"
      ]
     },
     "execution_count": 70,
     "metadata": {},
     "output_type": "execute_result"
    },
    {
     "data": {
      "image/png": "[encoded data removed]",
      "text/plain": [
       "<Figure size 432x288 with 1 Axes>"
      ]
     },
     "metadata": {},
     "output_type": "display_data"
    }
   ],
   "source": [
    "plt.scatter(y2_test, prediction_rfr, marker='^')\n",
    "plt.xlabel('Y test')\n",
    "plt.ylabel('Predicted')"
   ]
  },
  {
   "cell_type": "code",
   "execution_count": 71,
   "id": "a2db878c",
   "metadata": {},
   "outputs": [
    {
     "data": {
      "text/plain": [
       "(array([[0., 2., 2., 2., 2., 4., 0., 0., 0., 0.],\n",
       "        [0., 0., 1., 1., 2., 2., 4., 2., 0., 0.],\n",
       "        [0., 0., 0., 2., 2., 2., 2., 4., 0., 0.],\n",
       "        [2., 2., 2., 3., 3., 0., 0., 0., 0., 0.],\n",
       "        [0., 0., 0., 0., 2., 0., 4., 2., 4., 0.],\n",
       "        [0., 0., 0., 0., 0., 2., 0., 4., 1., 5.],\n",
       "        [0., 0., 0., 2., 0., 4., 1., 5., 0., 0.],\n",
       "        [2., 0., 4., 1., 5., 0., 0., 0., 0., 0.],\n",
       "        [1., 1., 3., 2., 4., 1., 0., 0., 0., 0.],\n",
       "        [0., 2., 0., 4., 2., 4., 0., 0., 0., 0.],\n",
       "        [0., 0., 0., 0., 2., 2., 2., 2., 4., 0.],\n",
       "        [0., 0., 2., 2., 2., 3., 3., 0., 0., 0.]]),\n",
       " array([-2.4213 , -1.98163, -1.54196, -1.10229, -0.66262, -0.22295,\n",
       "         0.21672,  0.65639,  1.09606,  1.53573,  1.9754 ]),\n",
       " <a list of 12 BarContainer objects>)"
      ]
     },
     "execution_count": 71,
     "metadata": {},
     "output_type": "execute_result"
    },
    {
     "data": {
      "image/png": "[encoded data removed]",
      "text/plain": [
       "<Figure size 432x288 with 1 Axes>"
      ]
     },
     "metadata": {},
     "output_type": "display_data"
    }
   ],
   "source": [
    "plt.hist(y2_test - prediction_rfr)"
   ]
  },
  {
   "cell_type": "markdown",
   "id": "66792f36",
   "metadata": {},
   "source": [
    "# Learning Curve"
   ]
  },
  {
   "cell_type": "code",
   "execution_count": 72,
   "id": "41435734",
   "metadata": {},
   "outputs": [
    {
     "data": {
      "text/plain": [
       "<AxesSubplot:title={'center':'Learning Curve'}, xlabel='Training examples', ylabel='Score'>"
      ]
     },
     "execution_count": 72,
     "metadata": {},
     "output_type": "execute_result"
    },
    {
     "data": {
      "image/png": "[encoded data removed]",
      "text/plain": [
       "<Figure size 432x288 with 1 Axes>"
      ]
     },
     "metadata": {},
     "output_type": "display_data"
    }
   ],
   "source": [
    "import scikitplot as skplt\n",
    "skplt.estimators.plot_learning_curve(\n",
    "    RandomForestRegressor(),\n",
    "    finalFeatureArray,\n",
    "    finalFeatureArray,\n",
    "    cv=10,\n",
    "    shuffle=True,\n",
    "    scoring='r2',\n",
    "    n_jobs=-1,\n",
    "    figsize=(6,4),\n",
    "    title_fontsize='large',\n",
    "    text_fontsize='large',\n",
    "    title='Learning Curve'\n",
    ")"
   ]
  },
  {
   "cell_type": "markdown",
   "id": "3ca78750",
   "metadata": {},
   "source": [
    "# Cross Validation"
   ]
  },
  {
   "cell_type": "code",
   "execution_count": 73,
   "id": "2a0bcbf1",
   "metadata": {},
   "outputs": [
    {
     "data": {
      "image/png": "[encoded data removed]",
      "text/plain": [
       "<Figure size 432x288 with 1 Axes>"
      ]
     },
     "metadata": {},
     "output_type": "display_data"
    }
   ],
   "source": [
    "from sklearn.model_selection import cross_val_predict\n",
    "\n",
    "cvPredicr_rfr = cross_val_predict(\n",
    "    model_rfr,\n",
    "    finalFeatureArray,\n",
    "    finalTargetArray,\n",
    "    cv=10\n",
    ")\n",
    "\n",
    "fig, ax = plt.subplots()\n",
    "ax.scatter(\n",
    "    finalTargetArray,\n",
    "    cvPredicr_rfr,\n",
    "    edgecolors=(0,0,0)\n",
    ")\n",
    "\n",
    "ax.plot(\n",
    "    [\n",
    "        finalTargetArray.min(),\n",
    "        finalTargetArray.max()\n",
    "    ],\n",
    "    [\n",
    "        finalTargetArray.min(),\n",
    "        finalTargetArray.max()\n",
    "    ],\n",
    "    'k--',\n",
    "    lw=4\n",
    ")\n",
    "\n",
    "ax.set_xlabel('Measured')\n",
    "ax.set_ylabel('Predicted')\n",
    "plt.show()"
   ]
  },
  {
   "cell_type": "code",
   "execution_count": 74,
   "id": "6a4ce7d9",
   "metadata": {},
   "outputs": [
    {
     "name": "stdout",
     "output_type": "stream",
     "text": [
      "MAE: 0.30580000000000135\n",
      "MSE: 0.12445652333333523\n",
      "RMSE: 0.3527839612756442\n"
     ]
    }
   ],
   "source": [
    "from sklearn import metrics\n",
    "print(f\"MAE: {metrics.mean_absolute_error(y2_test, prediction_rfr)}\")\n",
    "print(f\"MSE: {metrics.mean_squared_error(y2_test, prediction_rfr)}\")\n",
    "print(f\"RMSE: {np.sqrt(metrics.mean_squared_error(y2_test, prediction_rfr))}\")"
   ]
  },
  {
   "cell_type": "code",
   "execution_count": 75,
   "id": "9a5f93b5",
   "metadata": {},
   "outputs": [
    {
     "name": "stdout",
     "output_type": "stream",
     "text": [
      "R^2 score: 0.9481658350363791\n"
     ]
    }
   ],
   "source": [
    "# r squared\n",
    "print(f\"R^2 score: {model_rfr.score(X2_train, y2_train)}\")"
   ]
  },
  {
   "cell_type": "markdown",
   "id": "888ba598",
   "metadata": {},
   "source": [
    "# Stats Model"
   ]
  },
  {
   "cell_type": "code",
   "execution_count": 76,
   "id": "4119f336",
   "metadata": {},
   "outputs": [
    {
     "data": {
      "text/html": [
       "<table class=\"simpletable\">\n",
       "<caption>OLS Regression Results</caption>\n",
       "<tr>\n",
       "  <th>Dep. Variable:</th>            <td>y</td>        <th>  R-squared (uncentered):</th>      <td>   0.996</td>\n",
       "</tr>\n",
       "<tr>\n",
       "  <th>Model:</th>                   <td>OLS</td>       <th>  Adj. R-squared (uncentered):</th> <td>   0.995</td>\n",
       "</tr>\n",
       "<tr>\n",
       "  <th>Method:</th>             <td>Least Squares</td>  <th>  F-statistic:       </th>          <td>   1385.</td>\n",
       "</tr>\n",
       "<tr>\n",
       "  <th>Date:</th>             <td>Sat, 25 Dec 2021</td> <th>  Prob (F-statistic):</th>          <td>9.29e-43</td>\n",
       "</tr>\n",
       "<tr>\n",
       "  <th>Time:</th>                 <td>20:13:12</td>     <th>  Log-Likelihood:    </th>          <td> -28.319</td>\n",
       "</tr>\n",
       "<tr>\n",
       "  <th>No. Observations:</th>      <td>    44</td>      <th>  AIC:               </th>          <td>   70.64</td>\n",
       "</tr>\n",
       "<tr>\n",
       "  <th>Df Residuals:</th>          <td>    37</td>      <th>  BIC:               </th>          <td>   83.13</td>\n",
       "</tr>\n",
       "<tr>\n",
       "  <th>Df Model:</th>              <td>     7</td>      <th>                     </th>              <td> </td>   \n",
       "</tr>\n",
       "<tr>\n",
       "  <th>Covariance Type:</th>      <td>nonrobust</td>    <th>                     </th>              <td> </td>   \n",
       "</tr>\n",
       "</table>\n",
       "<table class=\"simpletable\">\n",
       "<tr>\n",
       "   <td></td>     <th>coef</th>     <th>std err</th>      <th>t</th>      <th>P>|t|</th>  <th>[0.025</th>    <th>0.975]</th>  \n",
       "</tr>\n",
       "<tr>\n",
       "  <th>x1</th> <td>    0.0305</td> <td>    0.090</td> <td>    0.338</td> <td> 0.737</td> <td>   -0.152</td> <td>    0.213</td>\n",
       "</tr>\n",
       "<tr>\n",
       "  <th>x2</th> <td>   -0.1258</td> <td>    0.099</td> <td>   -1.275</td> <td> 0.210</td> <td>   -0.326</td> <td>    0.074</td>\n",
       "</tr>\n",
       "<tr>\n",
       "  <th>x3</th> <td>    0.1615</td> <td>    0.152</td> <td>    1.062</td> <td> 0.295</td> <td>   -0.147</td> <td>    0.469</td>\n",
       "</tr>\n",
       "<tr>\n",
       "  <th>x4</th> <td>   -0.0647</td> <td>    0.163</td> <td>   -0.396</td> <td> 0.695</td> <td>   -0.396</td> <td>    0.266</td>\n",
       "</tr>\n",
       "<tr>\n",
       "  <th>x5</th> <td>    0.4704</td> <td>    0.195</td> <td>    2.410</td> <td> 0.021</td> <td>    0.075</td> <td>    0.866</td>\n",
       "</tr>\n",
       "<tr>\n",
       "  <th>x6</th> <td>   -0.2056</td> <td>    0.161</td> <td>   -1.280</td> <td> 0.208</td> <td>   -0.531</td> <td>    0.120</td>\n",
       "</tr>\n",
       "<tr>\n",
       "  <th>x7</th> <td>    0.7427</td> <td>    0.163</td> <td>    4.565</td> <td> 0.000</td> <td>    0.413</td> <td>    1.072</td>\n",
       "</tr>\n",
       "</table>\n",
       "<table class=\"simpletable\">\n",
       "<tr>\n",
       "  <th>Omnibus:</th>       <td> 3.393</td> <th>  Durbin-Watson:     </th> <td>   2.098</td>\n",
       "</tr>\n",
       "<tr>\n",
       "  <th>Prob(Omnibus):</th> <td> 0.183</td> <th>  Jarque-Bera (JB):  </th> <td>   2.358</td>\n",
       "</tr>\n",
       "<tr>\n",
       "  <th>Skew:</th>          <td> 0.342</td> <th>  Prob(JB):          </th> <td>   0.308</td>\n",
       "</tr>\n",
       "<tr>\n",
       "  <th>Kurtosis:</th>      <td> 3.904</td> <th>  Cond. No.          </th> <td>    50.2</td>\n",
       "</tr>\n",
       "</table><br/><br/>Notes:<br/>[1] R² is computed without centering (uncentered) since the model does not contain a constant.<br/>[2] Standard Errors assume that the covariance matrix of the errors is correctly specified."
      ],
      "text/plain": [
       "<class 'statsmodels.iolib.summary.Summary'>\n",
       "\"\"\"\n",
       "                                 OLS Regression Results                                \n",
       "=======================================================================================\n",
       "Dep. Variable:                      y   R-squared (uncentered):                   0.996\n",
       "Model:                            OLS   Adj. R-squared (uncentered):              0.995\n",
       "Method:                 Least Squares   F-statistic:                              1385.\n",
       "Date:                Sat, 25 Dec 2021   Prob (F-statistic):                    9.29e-43\n",
       "Time:                        20:13:12   Log-Likelihood:                         -28.319\n",
       "No. Observations:                  44   AIC:                                      70.64\n",
       "Df Residuals:                      37   BIC:                                      83.13\n",
       "Df Model:                           7                                                  \n",
       "Covariance Type:            nonrobust                                                  \n",
       "==============================================================================\n",
       "                 coef    std err          t      P>|t|      [0.025      0.975]\n",
       "------------------------------------------------------------------------------\n",
       "x1             0.0305      0.090      0.338      0.737      -0.152       0.213\n",
       "x2            -0.1258      0.099     -1.275      0.210      -0.326       0.074\n",
       "x3             0.1615      0.152      1.062      0.295      -0.147       0.469\n",
       "x4            -0.0647      0.163     -0.396      0.695      -0.396       0.266\n",
       "x5             0.4704      0.195      2.410      0.021       0.075       0.866\n",
       "x6            -0.2056      0.161     -1.280      0.208      -0.531       0.120\n",
       "x7             0.7427      0.163      4.565      0.000       0.413       1.072\n",
       "==============================================================================\n",
       "Omnibus:                        3.393   Durbin-Watson:                   2.098\n",
       "Prob(Omnibus):                  0.183   Jarque-Bera (JB):                2.358\n",
       "Skew:                           0.342   Prob(JB):                        0.308\n",
       "Kurtosis:                       3.904   Cond. No.                         50.2\n",
       "==============================================================================\n",
       "\n",
       "Notes:\n",
       "[1] R² is computed without centering (uncentered) since the model does not contain a constant.\n",
       "[2] Standard Errors assume that the covariance matrix of the errors is correctly specified.\n",
       "\"\"\""
      ]
     },
     "execution_count": 76,
     "metadata": {},
     "output_type": "execute_result"
    }
   ],
   "source": [
    "# ordinary least square method\n",
    "\n",
    "import statsmodels.api as sm\n",
    "mdl_stat_rfr = sm.OLS(y2_train, X2_train)\n",
    "results_rfr = mdl_stat_rfr.fit()\n",
    "results_rfr.summary()"
   ]
  },
  {
   "cell_type": "code",
   "execution_count": 77,
   "id": "3e0f0057",
   "metadata": {},
   "outputs": [
    {
     "data": {
      "text/plain": [
       "array([8.2596])"
      ]
     },
     "execution_count": 77,
     "metadata": {},
     "output_type": "execute_result"
    }
   ],
   "source": [
    "model_rfr.predict([[4, 3, 6.48, 6, 6.39, 7.11, 7.67]])"
   ]
  },
  {
   "cell_type": "markdown",
   "id": "a01d9b9e",
   "metadata": {},
   "source": [
    "#  SVR"
   ]
  },
  {
   "cell_type": "markdown",
   "id": "490f9743",
   "metadata": {},
   "source": [
    "# Train and test"
   ]
  },
  {
   "cell_type": "code",
   "execution_count": 78,
   "id": "b4798edd",
   "metadata": {},
   "outputs": [],
   "source": [
    "from sklearn.model_selection import train_test_split\n",
    "\n",
    "# split the data into test and train\n",
    "X3_train, X3_test, y3_train, y3_test = train_test_split(\n",
    "    finalFeatureArray,\n",
    "    finalTargetArray,\n",
    "    train_size=0.8,\n",
    "    random_state=0\n",
    ")"
   ]
  },
  {
   "cell_type": "code",
   "execution_count": 79,
   "id": "be9ab2ea",
   "metadata": {},
   "outputs": [
    {
     "name": "stdout",
     "output_type": "stream",
     "text": [
      "Shape of X_train: (44, 7)\n",
      "Shape of X_test: (12, 7)\n",
      "Shape of y_train: (44, 1)\n",
      "Shape of y_test: (12, 1)\n"
     ]
    }
   ],
   "source": [
    "# shape data\n",
    "print(f\"Shape of X_train: {X3_train.shape}\\n\"\n",
    "      f\"Shape of X_test: {X3_test.shape}\\n\"\n",
    "      f\"Shape of y_train: {y3_train.shape}\\n\"\n",
    "      f\"Shape of y_test: {y3_test.shape}\"\n",
    ")"
   ]
  },
  {
   "cell_type": "code",
   "execution_count": 80,
   "id": "772c78a6",
   "metadata": {},
   "outputs": [
    {
     "data": {
      "text/plain": [
       "SVR(kernel='linear')"
      ]
     },
     "execution_count": 80,
     "metadata": {},
     "output_type": "execute_result"
    }
   ],
   "source": [
    "from sklearn.svm import SVR\n",
    "\n",
    "model_svr = SVR(kernel='linear')\n",
    "model_svr.fit(X3_train, y3_train)"
   ]
  },
  {
   "cell_type": "markdown",
   "id": "83fe6c9f",
   "metadata": {},
   "source": [
    "# Model Evaluation\n",
    "**Let's evaluate the model by checking out it's coefficients and how we can interpret them.**"
   ]
  },
  {
   "cell_type": "code",
   "execution_count": 81,
   "id": "49dce0af",
   "metadata": {},
   "outputs": [],
   "source": [
    "# predict the X using trained model\n",
    "y_train_pred_svr = model_svr.predict(X3_train)\n",
    "y_test_pred_svr = model_svr.predict(X3_test)\n",
    "target_array_pred_svr = model_svr.predict(finalFeatureArray)"
   ]
  },
  {
   "cell_type": "code",
   "execution_count": 82,
   "id": "9716e770",
   "metadata": {},
   "outputs": [
    {
     "name": "stdout",
     "output_type": "stream",
     "text": [
      "Real Data:\n",
      "[[8.99]\n",
      " [6.  ]\n",
      " [7.  ]\n",
      " [7.84]\n",
      " [7.  ]]\n",
      "\n",
      "Predicted Data:\n",
      "[8.89022152 6.10668334 7.16617372 6.49540553 7.51888651]\n"
     ]
    }
   ],
   "source": [
    "# check the rae prediction data and compare with the real data\n",
    "print(f\"Real Data:\\n{y3_train[:5]}\\n\")\n",
    "print(f\"Predicted Data:\\n{y_train_pred_svr[:5]}\")"
   ]
  },
  {
   "cell_type": "code",
   "execution_count": 83,
   "id": "2da05980",
   "metadata": {},
   "outputs": [
    {
     "data": {
      "text/html": [
       "<div>\n",
       "<style scoped>\n",
       "    .dataframe tbody tr th:only-of-type {\n",
       "        vertical-align: middle;\n",
       "    }\n",
       "\n",
       "    .dataframe tbody tr th {\n",
       "        vertical-align: top;\n",
       "    }\n",
       "\n",
       "    .dataframe thead th {\n",
       "        text-align: right;\n",
       "    }\n",
       "</style>\n",
       "<table border=\"1\" class=\"dataframe\">\n",
       "  <thead>\n",
       "    <tr style=\"text-align: right;\">\n",
       "      <th></th>\n",
       "      <th>Attendence</th>\n",
       "      <th>StudyHours</th>\n",
       "      <th>1stSemGrade</th>\n",
       "      <th>2ndSemGRade</th>\n",
       "      <th>3rdSemGrade</th>\n",
       "      <th>4thSemGrade</th>\n",
       "      <th>5thSemGrade</th>\n",
       "      <th>6thSemGrade</th>\n",
       "    </tr>\n",
       "  </thead>\n",
       "  <tbody>\n",
       "    <tr>\n",
       "      <th>0</th>\n",
       "      <td>4</td>\n",
       "      <td>3</td>\n",
       "      <td>6.48</td>\n",
       "      <td>6.00</td>\n",
       "      <td>6.39</td>\n",
       "      <td>7.11</td>\n",
       "      <td>7.67</td>\n",
       "      <td>7.588491</td>\n",
       "    </tr>\n",
       "    <tr>\n",
       "      <th>1</th>\n",
       "      <td>4</td>\n",
       "      <td>3</td>\n",
       "      <td>7.00</td>\n",
       "      <td>6.74</td>\n",
       "      <td>7.10</td>\n",
       "      <td>8.24</td>\n",
       "      <td>7.34</td>\n",
       "      <td>7.505731</td>\n",
       "    </tr>\n",
       "    <tr>\n",
       "      <th>2</th>\n",
       "      <td>3</td>\n",
       "      <td>4</td>\n",
       "      <td>6.00</td>\n",
       "      <td>5.41</td>\n",
       "      <td>4.21</td>\n",
       "      <td>5.99</td>\n",
       "      <td>6.00</td>\n",
       "      <td>5.458724</td>\n",
       "    </tr>\n",
       "    <tr>\n",
       "      <th>3</th>\n",
       "      <td>4</td>\n",
       "      <td>4</td>\n",
       "      <td>8.12</td>\n",
       "      <td>8.00</td>\n",
       "      <td>8.52</td>\n",
       "      <td>7.91</td>\n",
       "      <td>8.23</td>\n",
       "      <td>8.672357</td>\n",
       "    </tr>\n",
       "    <tr>\n",
       "      <th>4</th>\n",
       "      <td>2</td>\n",
       "      <td>2</td>\n",
       "      <td>5.00</td>\n",
       "      <td>5.12</td>\n",
       "      <td>4.54</td>\n",
       "      <td>6.00</td>\n",
       "      <td>6.66</td>\n",
       "      <td>6.465483</td>\n",
       "    </tr>\n",
       "    <tr>\n",
       "      <th>5</th>\n",
       "      <td>5</td>\n",
       "      <td>3</td>\n",
       "      <td>5.48</td>\n",
       "      <td>5.00</td>\n",
       "      <td>5.12</td>\n",
       "      <td>4.21</td>\n",
       "      <td>5.66</td>\n",
       "      <td>6.229089</td>\n",
       "    </tr>\n",
       "    <tr>\n",
       "      <th>6</th>\n",
       "      <td>4</td>\n",
       "      <td>4</td>\n",
       "      <td>6.14</td>\n",
       "      <td>6.00</td>\n",
       "      <td>5.12</td>\n",
       "      <td>6.84</td>\n",
       "      <td>6.55</td>\n",
       "      <td>6.074515</td>\n",
       "    </tr>\n",
       "    <tr>\n",
       "      <th>7</th>\n",
       "      <td>3</td>\n",
       "      <td>3</td>\n",
       "      <td>5.78</td>\n",
       "      <td>6.21</td>\n",
       "      <td>5.20</td>\n",
       "      <td>5.00</td>\n",
       "      <td>5.84</td>\n",
       "      <td>6.262558</td>\n",
       "    </tr>\n",
       "    <tr>\n",
       "      <th>8</th>\n",
       "      <td>4</td>\n",
       "      <td>3</td>\n",
       "      <td>6.43</td>\n",
       "      <td>5.41</td>\n",
       "      <td>6.82</td>\n",
       "      <td>6.94</td>\n",
       "      <td>6.74</td>\n",
       "      <td>7.252431</td>\n",
       "    </tr>\n",
       "    <tr>\n",
       "      <th>9</th>\n",
       "      <td>3</td>\n",
       "      <td>4</td>\n",
       "      <td>5.84</td>\n",
       "      <td>5.00</td>\n",
       "      <td>5.21</td>\n",
       "      <td>5.99</td>\n",
       "      <td>6.00</td>\n",
       "      <td>5.972718</td>\n",
       "    </tr>\n",
       "  </tbody>\n",
       "</table>\n",
       "</div>"
      ],
      "text/plain": [
       "   Attendence  StudyHours  1stSemGrade  2ndSemGRade  3rdSemGrade  4thSemGrade  \\\n",
       "0           4           3         6.48         6.00         6.39         7.11   \n",
       "1           4           3         7.00         6.74         7.10         8.24   \n",
       "2           3           4         6.00         5.41         4.21         5.99   \n",
       "3           4           4         8.12         8.00         8.52         7.91   \n",
       "4           2           2         5.00         5.12         4.54         6.00   \n",
       "5           5           3         5.48         5.00         5.12         4.21   \n",
       "6           4           4         6.14         6.00         5.12         6.84   \n",
       "7           3           3         5.78         6.21         5.20         5.00   \n",
       "8           4           3         6.43         5.41         6.82         6.94   \n",
       "9           3           4         5.84         5.00         5.21         5.99   \n",
       "\n",
       "   5thSemGrade  6thSemGrade  \n",
       "0         7.67     7.588491  \n",
       "1         7.34     7.505731  \n",
       "2         6.00     5.458724  \n",
       "3         8.23     8.672357  \n",
       "4         6.66     6.465483  \n",
       "5         5.66     6.229089  \n",
       "6         6.55     6.074515  \n",
       "7         5.84     6.262558  \n",
       "8         6.74     7.252431  \n",
       "9         6.00     5.972718  "
      ]
     },
     "execution_count": 83,
     "metadata": {},
     "output_type": "execute_result"
    }
   ],
   "source": [
    "# check the data in the form of dataframe\n",
    "finalWithPredData_svr = final_df.copy()\n",
    "finalWithPredData_svr['6thSemGrade'] = target_array_pred.reshape(-1,)\n",
    "finalWithPredData_svr.head(10)"
   ]
  },
  {
   "cell_type": "code",
   "execution_count": 119,
   "id": "58ed12d7",
   "metadata": {},
   "outputs": [
    {
     "data": {
      "text/plain": [
       "0.4787349347151658"
      ]
     },
     "execution_count": 119,
     "metadata": {},
     "output_type": "execute_result"
    }
   ],
   "source": [
    "model_svr.score(X3_test, y3_test)"
   ]
  },
  {
   "cell_type": "code",
   "execution_count": 84,
   "id": "534f5063",
   "metadata": {},
   "outputs": [],
   "source": [
    "# y_pred\n",
    "prediction_svr = model_svr.predict(X3_test)"
   ]
  },
  {
   "cell_type": "code",
   "execution_count": 85,
   "id": "0f5a5022",
   "metadata": {},
   "outputs": [
    {
     "data": {
      "text/plain": [
       "Text(0, 0.5, 'Predicted')"
      ]
     },
     "execution_count": 85,
     "metadata": {},
     "output_type": "execute_result"
    },
    {
     "data": {
      "image/png": "[encoded data removed]",
      "text/plain": [
       "<Figure size 432x288 with 1 Axes>"
      ]
     },
     "metadata": {},
     "output_type": "display_data"
    }
   ],
   "source": [
    "plt.scatter(y3_test, prediction_svr, marker='^')\n",
    "plt.xlabel('Y test')\n",
    "plt.ylabel('Predicted')"
   ]
  },
  {
   "cell_type": "code",
   "execution_count": 86,
   "id": "d149c4ae",
   "metadata": {},
   "outputs": [
    {
     "data": {
      "text/plain": [
       "(array([[0., 0., 2., 2., 3., 4., 1., 0., 0., 0.],\n",
       "        [0., 0., 0., 2., 3., 2., 4., 1., 0., 0.],\n",
       "        [0., 1., 1., 3., 2., 5., 0., 0., 0., 0.],\n",
       "        [0., 2., 2., 3., 4., 1., 0., 0., 0., 0.],\n",
       "        [0., 0., 0., 2., 0., 4., 2., 4., 0., 0.],\n",
       "        [0., 0., 0., 0., 0., 1., 1., 3., 2., 5.],\n",
       "        [0., 2., 0., 4., 1., 5., 0., 0., 0., 0.],\n",
       "        [0., 2., 0., 4., 2., 4., 0., 0., 0., 0.],\n",
       "        [2., 3., 2., 4., 1., 0., 0., 0., 0., 0.],\n",
       "        [0., 2., 0., 4., 2., 4., 0., 0., 0., 0.],\n",
       "        [0., 0., 0., 1., 1., 3., 2., 5., 0., 0.],\n",
       "        [0., 2., 0., 4., 2., 4., 0., 0., 0., 0.]]),\n",
       " array([-2.25362525, -1.77596931, -1.29831337, -0.82065742, -0.34300148,\n",
       "         0.13465446,  0.61231041,  1.08996635,  1.56762229,  2.04527824,\n",
       "         2.52293418]),\n",
       " <a list of 12 BarContainer objects>)"
      ]
     },
     "execution_count": 86,
     "metadata": {},
     "output_type": "execute_result"
    },
    {
     "data": {
      "image/png": "[encoded data removed]",
      "text/plain": [
       "<Figure size 432x288 with 1 Axes>"
      ]
     },
     "metadata": {},
     "output_type": "display_data"
    }
   ],
   "source": [
    "plt.hist(y3_test - prediction_svr)"
   ]
  },
  {
   "cell_type": "markdown",
   "id": "2e63e216",
   "metadata": {},
   "source": [
    "# Cross Validation"
   ]
  },
  {
   "cell_type": "code",
   "execution_count": 87,
   "id": "7d99d8e6",
   "metadata": {},
   "outputs": [
    {
     "data": {
      "image/png": "[encoded data removed]",
      "text/plain": [
       "<Figure size 432x288 with 1 Axes>"
      ]
     },
     "metadata": {},
     "output_type": "display_data"
    }
   ],
   "source": [
    "from sklearn.model_selection import cross_val_predict\n",
    "\n",
    "cvPredicr_svr = cross_val_predict(\n",
    "    model_svr,\n",
    "    finalFeatureArray,\n",
    "    finalTargetArray, cv=10\n",
    ")\n",
    "\n",
    "fig, ax = plt.subplots()\n",
    "ax.scatter(\n",
    "    finalTargetArray,\n",
    "    cvPredicr_svr,\n",
    "    edgecolors=(0,0,0)\n",
    ")\n",
    "\n",
    "ax.plot(\n",
    "    [\n",
    "        finalTargetArray.min(),\n",
    "        finalTargetArray.max()\n",
    "    ],\n",
    "    [\n",
    "        finalTargetArray.min(),\n",
    "        finalTargetArray.max()\n",
    "    ],\n",
    "    'k--',\n",
    "    lw=4\n",
    ")\n",
    "\n",
    "ax.set_xlabel('Measured')\n",
    "ax.set_ylabel('Predicted')\n",
    "plt.show()"
   ]
  },
  {
   "cell_type": "code",
   "execution_count": 88,
   "id": "9a11e186",
   "metadata": {},
   "outputs": [
    {
     "name": "stdout",
     "output_type": "stream",
     "text": [
      "MAE: 0.39950380976239414\n",
      "MSE: 0.20152216020800293\n",
      "RMSE: 0.4489121965462767\n"
     ]
    }
   ],
   "source": [
    "from sklearn import metrics\n",
    "print(f\"MAE: {metrics.mean_absolute_error(y3_test, prediction_svr)}\")\n",
    "print(f\"MSE: {metrics.mean_squared_error(y3_test, prediction_svr)}\")\n",
    "print(f\"RMSE: {np.sqrt(metrics.mean_squared_error(y3_test, prediction_svr))}\")"
   ]
  },
  {
   "cell_type": "code",
   "execution_count": 89,
   "id": "8c1d712c",
   "metadata": {},
   "outputs": [
    {
     "name": "stdout",
     "output_type": "stream",
     "text": [
      "R^2 score: 0.7707926822630543\n"
     ]
    }
   ],
   "source": [
    "# r squared\n",
    "print(f\"R^2 score: {model_svr.score(X3_train, y3_train)}\")"
   ]
  },
  {
   "cell_type": "markdown",
   "id": "6ca25dd0",
   "metadata": {},
   "source": [
    "# Stat Model"
   ]
  },
  {
   "cell_type": "code",
   "execution_count": 90,
   "id": "04b0588d",
   "metadata": {},
   "outputs": [
    {
     "data": {
      "text/html": [
       "<table class=\"simpletable\">\n",
       "<caption>OLS Regression Results</caption>\n",
       "<tr>\n",
       "  <th>Dep. Variable:</th>            <td>y</td>        <th>  R-squared (uncentered):</th>      <td>   0.996</td>\n",
       "</tr>\n",
       "<tr>\n",
       "  <th>Model:</th>                   <td>OLS</td>       <th>  Adj. R-squared (uncentered):</th> <td>   0.995</td>\n",
       "</tr>\n",
       "<tr>\n",
       "  <th>Method:</th>             <td>Least Squares</td>  <th>  F-statistic:       </th>          <td>   1385.</td>\n",
       "</tr>\n",
       "<tr>\n",
       "  <th>Date:</th>             <td>Sat, 25 Dec 2021</td> <th>  Prob (F-statistic):</th>          <td>9.29e-43</td>\n",
       "</tr>\n",
       "<tr>\n",
       "  <th>Time:</th>                 <td>20:13:13</td>     <th>  Log-Likelihood:    </th>          <td> -28.319</td>\n",
       "</tr>\n",
       "<tr>\n",
       "  <th>No. Observations:</th>      <td>    44</td>      <th>  AIC:               </th>          <td>   70.64</td>\n",
       "</tr>\n",
       "<tr>\n",
       "  <th>Df Residuals:</th>          <td>    37</td>      <th>  BIC:               </th>          <td>   83.13</td>\n",
       "</tr>\n",
       "<tr>\n",
       "  <th>Df Model:</th>              <td>     7</td>      <th>                     </th>              <td> </td>   \n",
       "</tr>\n",
       "<tr>\n",
       "  <th>Covariance Type:</th>      <td>nonrobust</td>    <th>                     </th>              <td> </td>   \n",
       "</tr>\n",
       "</table>\n",
       "<table class=\"simpletable\">\n",
       "<tr>\n",
       "   <td></td>     <th>coef</th>     <th>std err</th>      <th>t</th>      <th>P>|t|</th>  <th>[0.025</th>    <th>0.975]</th>  \n",
       "</tr>\n",
       "<tr>\n",
       "  <th>x1</th> <td>    0.0305</td> <td>    0.090</td> <td>    0.338</td> <td> 0.737</td> <td>   -0.152</td> <td>    0.213</td>\n",
       "</tr>\n",
       "<tr>\n",
       "  <th>x2</th> <td>   -0.1258</td> <td>    0.099</td> <td>   -1.275</td> <td> 0.210</td> <td>   -0.326</td> <td>    0.074</td>\n",
       "</tr>\n",
       "<tr>\n",
       "  <th>x3</th> <td>    0.1615</td> <td>    0.152</td> <td>    1.062</td> <td> 0.295</td> <td>   -0.147</td> <td>    0.469</td>\n",
       "</tr>\n",
       "<tr>\n",
       "  <th>x4</th> <td>   -0.0647</td> <td>    0.163</td> <td>   -0.396</td> <td> 0.695</td> <td>   -0.396</td> <td>    0.266</td>\n",
       "</tr>\n",
       "<tr>\n",
       "  <th>x5</th> <td>    0.4704</td> <td>    0.195</td> <td>    2.410</td> <td> 0.021</td> <td>    0.075</td> <td>    0.866</td>\n",
       "</tr>\n",
       "<tr>\n",
       "  <th>x6</th> <td>   -0.2056</td> <td>    0.161</td> <td>   -1.280</td> <td> 0.208</td> <td>   -0.531</td> <td>    0.120</td>\n",
       "</tr>\n",
       "<tr>\n",
       "  <th>x7</th> <td>    0.7427</td> <td>    0.163</td> <td>    4.565</td> <td> 0.000</td> <td>    0.413</td> <td>    1.072</td>\n",
       "</tr>\n",
       "</table>\n",
       "<table class=\"simpletable\">\n",
       "<tr>\n",
       "  <th>Omnibus:</th>       <td> 3.393</td> <th>  Durbin-Watson:     </th> <td>   2.098</td>\n",
       "</tr>\n",
       "<tr>\n",
       "  <th>Prob(Omnibus):</th> <td> 0.183</td> <th>  Jarque-Bera (JB):  </th> <td>   2.358</td>\n",
       "</tr>\n",
       "<tr>\n",
       "  <th>Skew:</th>          <td> 0.342</td> <th>  Prob(JB):          </th> <td>   0.308</td>\n",
       "</tr>\n",
       "<tr>\n",
       "  <th>Kurtosis:</th>      <td> 3.904</td> <th>  Cond. No.          </th> <td>    50.2</td>\n",
       "</tr>\n",
       "</table><br/><br/>Notes:<br/>[1] R² is computed without centering (uncentered) since the model does not contain a constant.<br/>[2] Standard Errors assume that the covariance matrix of the errors is correctly specified."
      ],
      "text/plain": [
       "<class 'statsmodels.iolib.summary.Summary'>\n",
       "\"\"\"\n",
       "                                 OLS Regression Results                                \n",
       "=======================================================================================\n",
       "Dep. Variable:                      y   R-squared (uncentered):                   0.996\n",
       "Model:                            OLS   Adj. R-squared (uncentered):              0.995\n",
       "Method:                 Least Squares   F-statistic:                              1385.\n",
       "Date:                Sat, 25 Dec 2021   Prob (F-statistic):                    9.29e-43\n",
       "Time:                        20:13:13   Log-Likelihood:                         -28.319\n",
       "No. Observations:                  44   AIC:                                      70.64\n",
       "Df Residuals:                      37   BIC:                                      83.13\n",
       "Df Model:                           7                                                  \n",
       "Covariance Type:            nonrobust                                                  \n",
       "==============================================================================\n",
       "                 coef    std err          t      P>|t|      [0.025      0.975]\n",
       "------------------------------------------------------------------------------\n",
       "x1             0.0305      0.090      0.338      0.737      -0.152       0.213\n",
       "x2            -0.1258      0.099     -1.275      0.210      -0.326       0.074\n",
       "x3             0.1615      0.152      1.062      0.295      -0.147       0.469\n",
       "x4            -0.0647      0.163     -0.396      0.695      -0.396       0.266\n",
       "x5             0.4704      0.195      2.410      0.021       0.075       0.866\n",
       "x6            -0.2056      0.161     -1.280      0.208      -0.531       0.120\n",
       "x7             0.7427      0.163      4.565      0.000       0.413       1.072\n",
       "==============================================================================\n",
       "Omnibus:                        3.393   Durbin-Watson:                   2.098\n",
       "Prob(Omnibus):                  0.183   Jarque-Bera (JB):                2.358\n",
       "Skew:                           0.342   Prob(JB):                        0.308\n",
       "Kurtosis:                       3.904   Cond. No.                         50.2\n",
       "==============================================================================\n",
       "\n",
       "Notes:\n",
       "[1] R² is computed without centering (uncentered) since the model does not contain a constant.\n",
       "[2] Standard Errors assume that the covariance matrix of the errors is correctly specified.\n",
       "\"\"\""
      ]
     },
     "execution_count": 90,
     "metadata": {},
     "output_type": "execute_result"
    }
   ],
   "source": [
    "# ordinary least square method\n",
    "\n",
    "import statsmodels.api as sm\n",
    "mdl_stat_svr = sm.OLS(y3_train, X3_train)\n",
    "results_svr = mdl_stat_svr.fit()\n",
    "results_svr.summary()"
   ]
  },
  {
   "cell_type": "code",
   "execution_count": 91,
   "id": "05f72556",
   "metadata": {},
   "outputs": [
    {
     "data": {
      "text/plain": [
       "array([7.64460601])"
      ]
     },
     "execution_count": 91,
     "metadata": {},
     "output_type": "execute_result"
    }
   ],
   "source": [
    "model_svr.predict([[4, 3, 6.48, 6, 6.39, 7.11, 7.67]])"
   ]
  },
  {
   "cell_type": "markdown",
   "id": "1ab38630",
   "metadata": {},
   "source": [
    "# Generate File of RFR Model"
   ]
  },
  {
   "cell_type": "code",
   "execution_count": 92,
   "id": "24126bfe",
   "metadata": {},
   "outputs": [],
   "source": [
    "import pickle\n",
    "\n",
    "with open('pickleModelFile', 'wb') as file:\n",
    "    pickle.dump(model_rfr, file)"
   ]
  },
  {
   "cell_type": "code",
   "execution_count": 93,
   "id": "d0a40be6",
   "metadata": {},
   "outputs": [],
   "source": [
    "# open file\n",
    "with open('pickleModelFile', 'rb') as file:\n",
    "    pklFile = pickle.load(file)"
   ]
  },
  {
   "cell_type": "code",
   "execution_count": 94,
   "id": "744e9b3f",
   "metadata": {},
   "outputs": [
    {
     "data": {
      "text/plain": [
       "array([8.2596])"
      ]
     },
     "execution_count": 94,
     "metadata": {},
     "output_type": "execute_result"
    }
   ],
   "source": [
    "pklFile.predict([[4, 3, 6.48, 6, 6.39, 7.11, 7.67]])"
   ]
  },
  {
   "cell_type": "markdown",
   "id": "52d0fc3d",
   "metadata": {},
   "source": [
    "# Clasification"
   ]
  },
  {
   "cell_type": "code",
   "execution_count": 95,
   "id": "b52e38cf",
   "metadata": {},
   "outputs": [],
   "source": [
    "# copy df\n",
    "new_df = non_outlier_df.copy()"
   ]
  },
  {
   "cell_type": "markdown",
   "id": "c93ca555",
   "metadata": {},
   "source": [
    "# view data"
   ]
  },
  {
   "cell_type": "code",
   "execution_count": 96,
   "id": "ffe9d251",
   "metadata": {},
   "outputs": [
    {
     "data": {
      "text/html": [
       "<div>\n",
       "<style scoped>\n",
       "    .dataframe tbody tr th:only-of-type {\n",
       "        vertical-align: middle;\n",
       "    }\n",
       "\n",
       "    .dataframe tbody tr th {\n",
       "        vertical-align: top;\n",
       "    }\n",
       "\n",
       "    .dataframe thead th {\n",
       "        text-align: right;\n",
       "    }\n",
       "</style>\n",
       "<table border=\"1\" class=\"dataframe\">\n",
       "  <thead>\n",
       "    <tr style=\"text-align: right;\">\n",
       "      <th></th>\n",
       "      <th>Gender</th>\n",
       "      <th>Address</th>\n",
       "      <th>Attendence</th>\n",
       "      <th>StudyHours</th>\n",
       "      <th>1stSemGrade</th>\n",
       "      <th>2ndSemGRade</th>\n",
       "      <th>3rdSemGrade</th>\n",
       "      <th>4thSemGrade</th>\n",
       "      <th>5thSemGrade</th>\n",
       "      <th>6thSemGrade</th>\n",
       "    </tr>\n",
       "  </thead>\n",
       "  <tbody>\n",
       "    <tr>\n",
       "      <th>0</th>\n",
       "      <td>M</td>\n",
       "      <td>U</td>\n",
       "      <td>4</td>\n",
       "      <td>3</td>\n",
       "      <td>6.48</td>\n",
       "      <td>6.00</td>\n",
       "      <td>6.39</td>\n",
       "      <td>7.11</td>\n",
       "      <td>7.67</td>\n",
       "      <td>8.52</td>\n",
       "    </tr>\n",
       "    <tr>\n",
       "      <th>1</th>\n",
       "      <td>F</td>\n",
       "      <td>U</td>\n",
       "      <td>4</td>\n",
       "      <td>3</td>\n",
       "      <td>7.00</td>\n",
       "      <td>6.74</td>\n",
       "      <td>7.10</td>\n",
       "      <td>8.24</td>\n",
       "      <td>7.34</td>\n",
       "      <td>7.00</td>\n",
       "    </tr>\n",
       "    <tr>\n",
       "      <th>2</th>\n",
       "      <td>F</td>\n",
       "      <td>U</td>\n",
       "      <td>3</td>\n",
       "      <td>4</td>\n",
       "      <td>6.00</td>\n",
       "      <td>5.41</td>\n",
       "      <td>4.21</td>\n",
       "      <td>5.99</td>\n",
       "      <td>6.00</td>\n",
       "      <td>6.37</td>\n",
       "    </tr>\n",
       "    <tr>\n",
       "      <th>3</th>\n",
       "      <td>F</td>\n",
       "      <td>U</td>\n",
       "      <td>4</td>\n",
       "      <td>4</td>\n",
       "      <td>8.12</td>\n",
       "      <td>8.00</td>\n",
       "      <td>8.52</td>\n",
       "      <td>7.91</td>\n",
       "      <td>8.23</td>\n",
       "      <td>8.44</td>\n",
       "    </tr>\n",
       "    <tr>\n",
       "      <th>4</th>\n",
       "      <td>M</td>\n",
       "      <td>U</td>\n",
       "      <td>2</td>\n",
       "      <td>2</td>\n",
       "      <td>5.00</td>\n",
       "      <td>5.12</td>\n",
       "      <td>4.54</td>\n",
       "      <td>6.00</td>\n",
       "      <td>6.66</td>\n",
       "      <td>7.12</td>\n",
       "    </tr>\n",
       "  </tbody>\n",
       "</table>\n",
       "</div>"
      ],
      "text/plain": [
       "  Gender Address  Attendence  StudyHours  1stSemGrade  2ndSemGRade  \\\n",
       "0      M       U           4           3         6.48         6.00   \n",
       "1      F       U           4           3         7.00         6.74   \n",
       "2      F       U           3           4         6.00         5.41   \n",
       "3      F       U           4           4         8.12         8.00   \n",
       "4      M       U           2           2         5.00         5.12   \n",
       "\n",
       "   3rdSemGrade  4thSemGrade  5thSemGrade  6thSemGrade  \n",
       "0         6.39         7.11         7.67         8.52  \n",
       "1         7.10         8.24         7.34         7.00  \n",
       "2         4.21         5.99         6.00         6.37  \n",
       "3         8.52         7.91         8.23         8.44  \n",
       "4         4.54         6.00         6.66         7.12  "
      ]
     },
     "execution_count": 96,
     "metadata": {},
     "output_type": "execute_result"
    }
   ],
   "source": [
    "new_df.head()"
   ]
  },
  {
   "cell_type": "code",
   "execution_count": 97,
   "id": "6eb783d4",
   "metadata": {},
   "outputs": [],
   "source": [
    "# function to calculate placed or not based on sem grade\n",
    "\n",
    "def placement_col(value):\n",
    "    if value > 7:\n",
    "        return 1\n",
    "    else:\n",
    "        return 0"
   ]
  },
  {
   "cell_type": "code",
   "execution_count": 98,
   "id": "a8a559a9",
   "metadata": {},
   "outputs": [],
   "source": [
    "# first create a column called Average_Grade\n",
    "new_df['Average_Grade'] = (new_df['1stSemGrade'] + new_df['2ndSemGRade'] + new_df['3rdSemGrade'] + new_df['4thSemGrade'] + new_df['5thSemGrade'] + new_df['6thSemGrade']) / 6"
   ]
  },
  {
   "cell_type": "code",
   "execution_count": 99,
   "id": "070a2b98",
   "metadata": {},
   "outputs": [
    {
     "data": {
      "text/html": [
       "<div>\n",
       "<style scoped>\n",
       "    .dataframe tbody tr th:only-of-type {\n",
       "        vertical-align: middle;\n",
       "    }\n",
       "\n",
       "    .dataframe tbody tr th {\n",
       "        vertical-align: top;\n",
       "    }\n",
       "\n",
       "    .dataframe thead th {\n",
       "        text-align: right;\n",
       "    }\n",
       "</style>\n",
       "<table border=\"1\" class=\"dataframe\">\n",
       "  <thead>\n",
       "    <tr style=\"text-align: right;\">\n",
       "      <th></th>\n",
       "      <th>Gender</th>\n",
       "      <th>Address</th>\n",
       "      <th>Attendence</th>\n",
       "      <th>StudyHours</th>\n",
       "      <th>1stSemGrade</th>\n",
       "      <th>2ndSemGRade</th>\n",
       "      <th>3rdSemGrade</th>\n",
       "      <th>4thSemGrade</th>\n",
       "      <th>5thSemGrade</th>\n",
       "      <th>6thSemGrade</th>\n",
       "      <th>Average_Grade</th>\n",
       "    </tr>\n",
       "  </thead>\n",
       "  <tbody>\n",
       "    <tr>\n",
       "      <th>0</th>\n",
       "      <td>M</td>\n",
       "      <td>U</td>\n",
       "      <td>4</td>\n",
       "      <td>3</td>\n",
       "      <td>6.48</td>\n",
       "      <td>6.00</td>\n",
       "      <td>6.39</td>\n",
       "      <td>7.11</td>\n",
       "      <td>7.67</td>\n",
       "      <td>8.52</td>\n",
       "      <td>7.028333</td>\n",
       "    </tr>\n",
       "    <tr>\n",
       "      <th>1</th>\n",
       "      <td>F</td>\n",
       "      <td>U</td>\n",
       "      <td>4</td>\n",
       "      <td>3</td>\n",
       "      <td>7.00</td>\n",
       "      <td>6.74</td>\n",
       "      <td>7.10</td>\n",
       "      <td>8.24</td>\n",
       "      <td>7.34</td>\n",
       "      <td>7.00</td>\n",
       "      <td>7.236667</td>\n",
       "    </tr>\n",
       "    <tr>\n",
       "      <th>2</th>\n",
       "      <td>F</td>\n",
       "      <td>U</td>\n",
       "      <td>3</td>\n",
       "      <td>4</td>\n",
       "      <td>6.00</td>\n",
       "      <td>5.41</td>\n",
       "      <td>4.21</td>\n",
       "      <td>5.99</td>\n",
       "      <td>6.00</td>\n",
       "      <td>6.37</td>\n",
       "      <td>5.663333</td>\n",
       "    </tr>\n",
       "    <tr>\n",
       "      <th>3</th>\n",
       "      <td>F</td>\n",
       "      <td>U</td>\n",
       "      <td>4</td>\n",
       "      <td>4</td>\n",
       "      <td>8.12</td>\n",
       "      <td>8.00</td>\n",
       "      <td>8.52</td>\n",
       "      <td>7.91</td>\n",
       "      <td>8.23</td>\n",
       "      <td>8.44</td>\n",
       "      <td>8.203333</td>\n",
       "    </tr>\n",
       "    <tr>\n",
       "      <th>4</th>\n",
       "      <td>M</td>\n",
       "      <td>U</td>\n",
       "      <td>2</td>\n",
       "      <td>2</td>\n",
       "      <td>5.00</td>\n",
       "      <td>5.12</td>\n",
       "      <td>4.54</td>\n",
       "      <td>6.00</td>\n",
       "      <td>6.66</td>\n",
       "      <td>7.12</td>\n",
       "      <td>5.740000</td>\n",
       "    </tr>\n",
       "  </tbody>\n",
       "</table>\n",
       "</div>"
      ],
      "text/plain": [
       "  Gender Address  Attendence  StudyHours  1stSemGrade  2ndSemGRade  \\\n",
       "0      M       U           4           3         6.48         6.00   \n",
       "1      F       U           4           3         7.00         6.74   \n",
       "2      F       U           3           4         6.00         5.41   \n",
       "3      F       U           4           4         8.12         8.00   \n",
       "4      M       U           2           2         5.00         5.12   \n",
       "\n",
       "   3rdSemGrade  4thSemGrade  5thSemGrade  6thSemGrade  Average_Grade  \n",
       "0         6.39         7.11         7.67         8.52       7.028333  \n",
       "1         7.10         8.24         7.34         7.00       7.236667  \n",
       "2         4.21         5.99         6.00         6.37       5.663333  \n",
       "3         8.52         7.91         8.23         8.44       8.203333  \n",
       "4         4.54         6.00         6.66         7.12       5.740000  "
      ]
     },
     "execution_count": 99,
     "metadata": {},
     "output_type": "execute_result"
    }
   ],
   "source": [
    "# view data\n",
    "new_df.head()"
   ]
  },
  {
   "cell_type": "code",
   "execution_count": 100,
   "id": "20a6d466",
   "metadata": {},
   "outputs": [],
   "source": [
    "# now again create a column called Placement\n",
    "\n",
    "new_df['Placement'] = new_df['Average_Grade'].apply(placement_col)"
   ]
  },
  {
   "cell_type": "code",
   "execution_count": 101,
   "id": "858ed7be",
   "metadata": {},
   "outputs": [
    {
     "data": {
      "text/html": [
       "<div>\n",
       "<style scoped>\n",
       "    .dataframe tbody tr th:only-of-type {\n",
       "        vertical-align: middle;\n",
       "    }\n",
       "\n",
       "    .dataframe tbody tr th {\n",
       "        vertical-align: top;\n",
       "    }\n",
       "\n",
       "    .dataframe thead th {\n",
       "        text-align: right;\n",
       "    }\n",
       "</style>\n",
       "<table border=\"1\" class=\"dataframe\">\n",
       "  <thead>\n",
       "    <tr style=\"text-align: right;\">\n",
       "      <th></th>\n",
       "      <th>Gender</th>\n",
       "      <th>Address</th>\n",
       "      <th>Attendence</th>\n",
       "      <th>StudyHours</th>\n",
       "      <th>1stSemGrade</th>\n",
       "      <th>2ndSemGRade</th>\n",
       "      <th>3rdSemGrade</th>\n",
       "      <th>4thSemGrade</th>\n",
       "      <th>5thSemGrade</th>\n",
       "      <th>6thSemGrade</th>\n",
       "      <th>Average_Grade</th>\n",
       "      <th>Placement</th>\n",
       "    </tr>\n",
       "  </thead>\n",
       "  <tbody>\n",
       "    <tr>\n",
       "      <th>0</th>\n",
       "      <td>M</td>\n",
       "      <td>U</td>\n",
       "      <td>4</td>\n",
       "      <td>3</td>\n",
       "      <td>6.48</td>\n",
       "      <td>6.00</td>\n",
       "      <td>6.39</td>\n",
       "      <td>7.11</td>\n",
       "      <td>7.67</td>\n",
       "      <td>8.52</td>\n",
       "      <td>7.028333</td>\n",
       "      <td>1</td>\n",
       "    </tr>\n",
       "    <tr>\n",
       "      <th>1</th>\n",
       "      <td>F</td>\n",
       "      <td>U</td>\n",
       "      <td>4</td>\n",
       "      <td>3</td>\n",
       "      <td>7.00</td>\n",
       "      <td>6.74</td>\n",
       "      <td>7.10</td>\n",
       "      <td>8.24</td>\n",
       "      <td>7.34</td>\n",
       "      <td>7.00</td>\n",
       "      <td>7.236667</td>\n",
       "      <td>1</td>\n",
       "    </tr>\n",
       "    <tr>\n",
       "      <th>2</th>\n",
       "      <td>F</td>\n",
       "      <td>U</td>\n",
       "      <td>3</td>\n",
       "      <td>4</td>\n",
       "      <td>6.00</td>\n",
       "      <td>5.41</td>\n",
       "      <td>4.21</td>\n",
       "      <td>5.99</td>\n",
       "      <td>6.00</td>\n",
       "      <td>6.37</td>\n",
       "      <td>5.663333</td>\n",
       "      <td>0</td>\n",
       "    </tr>\n",
       "    <tr>\n",
       "      <th>3</th>\n",
       "      <td>F</td>\n",
       "      <td>U</td>\n",
       "      <td>4</td>\n",
       "      <td>4</td>\n",
       "      <td>8.12</td>\n",
       "      <td>8.00</td>\n",
       "      <td>8.52</td>\n",
       "      <td>7.91</td>\n",
       "      <td>8.23</td>\n",
       "      <td>8.44</td>\n",
       "      <td>8.203333</td>\n",
       "      <td>1</td>\n",
       "    </tr>\n",
       "    <tr>\n",
       "      <th>4</th>\n",
       "      <td>M</td>\n",
       "      <td>U</td>\n",
       "      <td>2</td>\n",
       "      <td>2</td>\n",
       "      <td>5.00</td>\n",
       "      <td>5.12</td>\n",
       "      <td>4.54</td>\n",
       "      <td>6.00</td>\n",
       "      <td>6.66</td>\n",
       "      <td>7.12</td>\n",
       "      <td>5.740000</td>\n",
       "      <td>0</td>\n",
       "    </tr>\n",
       "  </tbody>\n",
       "</table>\n",
       "</div>"
      ],
      "text/plain": [
       "  Gender Address  Attendence  StudyHours  1stSemGrade  2ndSemGRade  \\\n",
       "0      M       U           4           3         6.48         6.00   \n",
       "1      F       U           4           3         7.00         6.74   \n",
       "2      F       U           3           4         6.00         5.41   \n",
       "3      F       U           4           4         8.12         8.00   \n",
       "4      M       U           2           2         5.00         5.12   \n",
       "\n",
       "   3rdSemGrade  4thSemGrade  5thSemGrade  6thSemGrade  Average_Grade  \\\n",
       "0         6.39         7.11         7.67         8.52       7.028333   \n",
       "1         7.10         8.24         7.34         7.00       7.236667   \n",
       "2         4.21         5.99         6.00         6.37       5.663333   \n",
       "3         8.52         7.91         8.23         8.44       8.203333   \n",
       "4         4.54         6.00         6.66         7.12       5.740000   \n",
       "\n",
       "   Placement  \n",
       "0          1  \n",
       "1          1  \n",
       "2          0  \n",
       "3          1  \n",
       "4          0  "
      ]
     },
     "execution_count": 101,
     "metadata": {},
     "output_type": "execute_result"
    }
   ],
   "source": [
    "# agai view the data\n",
    "new_df.head()"
   ]
  },
  {
   "cell_type": "code",
   "execution_count": 102,
   "id": "25c5b2dd",
   "metadata": {},
   "outputs": [
    {
     "data": {
      "text/html": [
       "<div>\n",
       "<style scoped>\n",
       "    .dataframe tbody tr th:only-of-type {\n",
       "        vertical-align: middle;\n",
       "    }\n",
       "\n",
       "    .dataframe tbody tr th {\n",
       "        vertical-align: top;\n",
       "    }\n",
       "\n",
       "    .dataframe thead th {\n",
       "        text-align: right;\n",
       "    }\n",
       "</style>\n",
       "<table border=\"1\" class=\"dataframe\">\n",
       "  <thead>\n",
       "    <tr style=\"text-align: right;\">\n",
       "      <th></th>\n",
       "      <th>Gender</th>\n",
       "      <th>Address</th>\n",
       "      <th>Attendence</th>\n",
       "      <th>StudyHours</th>\n",
       "      <th>1stSemGrade</th>\n",
       "      <th>2ndSemGRade</th>\n",
       "      <th>3rdSemGrade</th>\n",
       "      <th>4thSemGrade</th>\n",
       "      <th>5thSemGrade</th>\n",
       "      <th>6thSemGrade</th>\n",
       "      <th>Placement</th>\n",
       "    </tr>\n",
       "  </thead>\n",
       "  <tbody>\n",
       "    <tr>\n",
       "      <th>0</th>\n",
       "      <td>M</td>\n",
       "      <td>U</td>\n",
       "      <td>4</td>\n",
       "      <td>3</td>\n",
       "      <td>6.48</td>\n",
       "      <td>6.00</td>\n",
       "      <td>6.39</td>\n",
       "      <td>7.11</td>\n",
       "      <td>7.67</td>\n",
       "      <td>8.52</td>\n",
       "      <td>1</td>\n",
       "    </tr>\n",
       "    <tr>\n",
       "      <th>1</th>\n",
       "      <td>F</td>\n",
       "      <td>U</td>\n",
       "      <td>4</td>\n",
       "      <td>3</td>\n",
       "      <td>7.00</td>\n",
       "      <td>6.74</td>\n",
       "      <td>7.10</td>\n",
       "      <td>8.24</td>\n",
       "      <td>7.34</td>\n",
       "      <td>7.00</td>\n",
       "      <td>1</td>\n",
       "    </tr>\n",
       "    <tr>\n",
       "      <th>2</th>\n",
       "      <td>F</td>\n",
       "      <td>U</td>\n",
       "      <td>3</td>\n",
       "      <td>4</td>\n",
       "      <td>6.00</td>\n",
       "      <td>5.41</td>\n",
       "      <td>4.21</td>\n",
       "      <td>5.99</td>\n",
       "      <td>6.00</td>\n",
       "      <td>6.37</td>\n",
       "      <td>0</td>\n",
       "    </tr>\n",
       "    <tr>\n",
       "      <th>3</th>\n",
       "      <td>F</td>\n",
       "      <td>U</td>\n",
       "      <td>4</td>\n",
       "      <td>4</td>\n",
       "      <td>8.12</td>\n",
       "      <td>8.00</td>\n",
       "      <td>8.52</td>\n",
       "      <td>7.91</td>\n",
       "      <td>8.23</td>\n",
       "      <td>8.44</td>\n",
       "      <td>1</td>\n",
       "    </tr>\n",
       "    <tr>\n",
       "      <th>4</th>\n",
       "      <td>M</td>\n",
       "      <td>U</td>\n",
       "      <td>2</td>\n",
       "      <td>2</td>\n",
       "      <td>5.00</td>\n",
       "      <td>5.12</td>\n",
       "      <td>4.54</td>\n",
       "      <td>6.00</td>\n",
       "      <td>6.66</td>\n",
       "      <td>7.12</td>\n",
       "      <td>0</td>\n",
       "    </tr>\n",
       "  </tbody>\n",
       "</table>\n",
       "</div>"
      ],
      "text/plain": [
       "  Gender Address  Attendence  StudyHours  1stSemGrade  2ndSemGRade  \\\n",
       "0      M       U           4           3         6.48         6.00   \n",
       "1      F       U           4           3         7.00         6.74   \n",
       "2      F       U           3           4         6.00         5.41   \n",
       "3      F       U           4           4         8.12         8.00   \n",
       "4      M       U           2           2         5.00         5.12   \n",
       "\n",
       "   3rdSemGrade  4thSemGrade  5thSemGrade  6thSemGrade  Placement  \n",
       "0         6.39         7.11         7.67         8.52          1  \n",
       "1         7.10         8.24         7.34         7.00          1  \n",
       "2         4.21         5.99         6.00         6.37          0  \n",
       "3         8.52         7.91         8.23         8.44          1  \n",
       "4         4.54         6.00         6.66         7.12          0  "
      ]
     },
     "execution_count": 102,
     "metadata": {},
     "output_type": "execute_result"
    }
   ],
   "source": [
    "# now we have to remove Average_Grade column from our datates\n",
    "new_df.drop('Average_Grade', axis=1, inplace=True)\n",
    "new_df.head()"
   ]
  },
  {
   "cell_type": "markdown",
   "id": "930eb8f3",
   "metadata": {},
   "source": [
    "# Visualization"
   ]
  },
  {
   "cell_type": "code",
   "execution_count": 103,
   "id": "d5974443",
   "metadata": {},
   "outputs": [
    {
     "data": {
      "image/png": "[encoded data removed]",
      "text/plain": [
       "<Figure size 432x288 with 1 Axes>"
      ]
     },
     "metadata": {},
     "output_type": "display_data"
    }
   ],
   "source": [
    "plt.pie(new_df['Placement'].value_counts(), labels=new_df['Placement'].value_counts().index, autopct='%1.2f%%')\n",
    "plt.legend(labels=['Not Placed', 'Placed'], loc = 2, bbox_to_anchor = (1,1))\n",
    "plt.show()"
   ]
  },
  {
   "cell_type": "markdown",
   "id": "a43d5d9a",
   "metadata": {},
   "source": [
    "# Feature Selection"
   ]
  },
  {
   "cell_type": "code",
   "execution_count": 104,
   "id": "bdf98ddc",
   "metadata": {},
   "outputs": [
    {
     "name": "stdout",
     "output_type": "stream",
     "text": [
      "Shape of feature data: (56, 6)\n"
     ]
    }
   ],
   "source": [
    "X = new_df.drop(['Gender', 'Address', 'Attendence', 'StudyHours', 'Placement'], axis=1)\n",
    "\n",
    "# shape\n",
    "print(f\"Shape of feature data: {X.shape}\")"
   ]
  },
  {
   "cell_type": "markdown",
   "id": "32882928",
   "metadata": {},
   "source": [
    "# Target Selection"
   ]
  },
  {
   "cell_type": "code",
   "execution_count": 105,
   "id": "6a38d8cb",
   "metadata": {},
   "outputs": [
    {
     "name": "stdout",
     "output_type": "stream",
     "text": [
      "Shape of target: (56,)\n"
     ]
    }
   ],
   "source": [
    "Y = new_df['Placement']\n",
    "print(f\"Shape of target: {Y.shape}\")"
   ]
  },
  {
   "cell_type": "code",
   "execution_count": 106,
   "id": "ff3422d5",
   "metadata": {},
   "outputs": [
    {
     "data": {
      "text/html": [
       "<div>\n",
       "<style scoped>\n",
       "    .dataframe tbody tr th:only-of-type {\n",
       "        vertical-align: middle;\n",
       "    }\n",
       "\n",
       "    .dataframe tbody tr th {\n",
       "        vertical-align: top;\n",
       "    }\n",
       "\n",
       "    .dataframe thead th {\n",
       "        text-align: right;\n",
       "    }\n",
       "</style>\n",
       "<table border=\"1\" class=\"dataframe\">\n",
       "  <thead>\n",
       "    <tr style=\"text-align: right;\">\n",
       "      <th></th>\n",
       "      <th>1stSemGrade</th>\n",
       "      <th>2ndSemGRade</th>\n",
       "      <th>3rdSemGrade</th>\n",
       "      <th>4thSemGrade</th>\n",
       "      <th>5thSemGrade</th>\n",
       "      <th>6thSemGrade</th>\n",
       "    </tr>\n",
       "  </thead>\n",
       "  <tbody>\n",
       "    <tr>\n",
       "      <th>0</th>\n",
       "      <td>6.48</td>\n",
       "      <td>6.00</td>\n",
       "      <td>6.39</td>\n",
       "      <td>7.11</td>\n",
       "      <td>7.67</td>\n",
       "      <td>8.52</td>\n",
       "    </tr>\n",
       "    <tr>\n",
       "      <th>1</th>\n",
       "      <td>7.00</td>\n",
       "      <td>6.74</td>\n",
       "      <td>7.10</td>\n",
       "      <td>8.24</td>\n",
       "      <td>7.34</td>\n",
       "      <td>7.00</td>\n",
       "    </tr>\n",
       "    <tr>\n",
       "      <th>2</th>\n",
       "      <td>6.00</td>\n",
       "      <td>5.41</td>\n",
       "      <td>4.21</td>\n",
       "      <td>5.99</td>\n",
       "      <td>6.00</td>\n",
       "      <td>6.37</td>\n",
       "    </tr>\n",
       "    <tr>\n",
       "      <th>3</th>\n",
       "      <td>8.12</td>\n",
       "      <td>8.00</td>\n",
       "      <td>8.52</td>\n",
       "      <td>7.91</td>\n",
       "      <td>8.23</td>\n",
       "      <td>8.44</td>\n",
       "    </tr>\n",
       "    <tr>\n",
       "      <th>4</th>\n",
       "      <td>5.00</td>\n",
       "      <td>5.12</td>\n",
       "      <td>4.54</td>\n",
       "      <td>6.00</td>\n",
       "      <td>6.66</td>\n",
       "      <td>7.12</td>\n",
       "    </tr>\n",
       "  </tbody>\n",
       "</table>\n",
       "</div>"
      ],
      "text/plain": [
       "   1stSemGrade  2ndSemGRade  3rdSemGrade  4thSemGrade  5thSemGrade  \\\n",
       "0         6.48         6.00         6.39         7.11         7.67   \n",
       "1         7.00         6.74         7.10         8.24         7.34   \n",
       "2         6.00         5.41         4.21         5.99         6.00   \n",
       "3         8.12         8.00         8.52         7.91         8.23   \n",
       "4         5.00         5.12         4.54         6.00         6.66   \n",
       "\n",
       "   6thSemGrade  \n",
       "0         8.52  \n",
       "1         7.00  \n",
       "2         6.37  \n",
       "3         8.44  \n",
       "4         7.12  "
      ]
     },
     "execution_count": 106,
     "metadata": {},
     "output_type": "execute_result"
    }
   ],
   "source": [
    "X.head()"
   ]
  },
  {
   "cell_type": "code",
   "execution_count": 107,
   "id": "c62978e6",
   "metadata": {},
   "outputs": [
    {
     "data": {
      "text/plain": [
       "0    1\n",
       "1    1\n",
       "2    0\n",
       "3    1\n",
       "4    0\n",
       "Name: Placement, dtype: int64"
      ]
     },
     "execution_count": 107,
     "metadata": {},
     "output_type": "execute_result"
    }
   ],
   "source": [
    "Y.head()"
   ]
  },
  {
   "cell_type": "markdown",
   "id": "6e81caa6",
   "metadata": {},
   "source": [
    "# Train and Test"
   ]
  },
  {
   "cell_type": "code",
   "execution_count": 108,
   "id": "0f66c8bf",
   "metadata": {},
   "outputs": [],
   "source": [
    "from sklearn.model_selection import train_test_split\n",
    "\n",
    "X4_train, X4_test, y4_train, y4_test = train_test_split(\n",
    "    X, \n",
    "    Y,\n",
    "    test_size=0.2,\n",
    "    random_state=0\n",
    ")"
   ]
  },
  {
   "cell_type": "code",
   "execution_count": 109,
   "id": "371214a8",
   "metadata": {},
   "outputs": [
    {
     "name": "stdout",
     "output_type": "stream",
     "text": [
      "Shape of X_train: (44, 6)\n",
      "Shape of X_test: (12, 6)\n",
      "Shape of y_train: (44,)\n",
      "Shape of y_test: (12,)\n"
     ]
    }
   ],
   "source": [
    "# shape data\n",
    "print(f\"Shape of X_train: {X4_train.shape}\\n\"\n",
    "      f\"Shape of X_test: {X4_test.shape}\\n\"\n",
    "      f\"Shape of y_train: {y4_train.shape}\\n\"\n",
    "      f\"Shape of y_test: {y4_test.shape}\"\n",
    ")"
   ]
  },
  {
   "cell_type": "markdown",
   "id": "8374fb44",
   "metadata": {},
   "source": [
    "# Decision Tree Classifier"
   ]
  },
  {
   "cell_type": "code",
   "execution_count": 110,
   "id": "cd9af894",
   "metadata": {},
   "outputs": [
    {
     "data": {
      "text/plain": [
       "DecisionTreeClassifier()"
      ]
     },
     "execution_count": 110,
     "metadata": {},
     "output_type": "execute_result"
    }
   ],
   "source": [
    "# importing DecisionTreeClassifier from sklearn.tree\n",
    "from sklearn.tree import DecisionTreeClassifier\n",
    "# creating object of DecisionTreeClassifier as dtc\n",
    "model_dtc = DecisionTreeClassifier()\n",
    "model_dtc.fit(X4_train, y4_train)"
   ]
  },
  {
   "cell_type": "code",
   "execution_count": 111,
   "id": "6a3a860f",
   "metadata": {},
   "outputs": [
    {
     "data": {
      "text/plain": [
       "0.9166666666666666"
      ]
     },
     "execution_count": 111,
     "metadata": {},
     "output_type": "execute_result"
    }
   ],
   "source": [
    "# dtc scoe\n",
    "model_dtc.score(X4_test, y4_test)"
   ]
  },
  {
   "cell_type": "markdown",
   "id": "93d404df",
   "metadata": {},
   "source": [
    "# Class weight balance for DTC"
   ]
  },
  {
   "cell_type": "code",
   "execution_count": 112,
   "id": "2eb08724",
   "metadata": {},
   "outputs": [],
   "source": [
    "# class weight balance\n",
    "for_dtc = DecisionTreeClassifier(class_weight = \"balanced\")\n",
    "model_dtc = for_dtc.fit(X4_train, y4_train)"
   ]
  },
  {
   "cell_type": "code",
   "execution_count": 113,
   "id": "129871ed",
   "metadata": {},
   "outputs": [],
   "source": [
    "from sklearn import metrics\n",
    "# function for computing confusion matrix and scores\n",
    "\n",
    "def evalute_for_model_dtc(which_model, X_test_data, y_test_data):\n",
    "    print(\"DTC\")\n",
    "    model_accuracy = which_model.score(X_test_data, y_test_data)\n",
    "    print(\"Test Accuracy: {:.2f}%\".format(model_accuracy * 100))\n",
    "    \n",
    "    y_ture = np.array(y_test_data)\n",
    "    y_pred = which_model.predict(X_test_data)\n",
    "    \n",
    "    confusionMatriX = metrics.confusion_matrix(y_ture, y_pred)\n",
    "    #print(f\"\\n----------------------\\nConfusion Matrix :\\n----------------------\\n{confusionMatriX}\")\n",
    "    classificationReporT = metrics.classification_report(y_ture, y_pred)\n",
    "    \n",
    "    # for graph ploting\n",
    "    plt.figure(figsize=(10, 10))\n",
    "    sns.heatmap(confusionMatriX, annot=True, vmin=0, fmt='g', cmap='Blues', cbar=False)\n",
    "    plt.ylabel(\"Actual\")\n",
    "    plt.title(\"Confusion Matrix\")\n",
    "    plt.show()\n",
    "    print(f\"\\n----------------------\\nClassification Report:\\n----------------------\\n{classificationReporT}\")"
   ]
  },
  {
   "cell_type": "code",
   "execution_count": 114,
   "id": "88d2ee88",
   "metadata": {},
   "outputs": [
    {
     "name": "stdout",
     "output_type": "stream",
     "text": [
      "DTC\n",
      "Test Accuracy: 91.67%\n"
     ]
    },
    {
     "data": {
      "image/png": "[encoded data removed]",
      "text/plain": [
       "<Figure size 720x720 with 1 Axes>"
      ]
     },
     "metadata": {},
     "output_type": "display_data"
    },
    {
     "name": "stdout",
     "output_type": "stream",
     "text": [
      "\n",
      "----------------------\n",
      "Classification Report:\n",
      "----------------------\n",
      "              precision    recall  f1-score   support\n",
      "\n",
      "           0       0.83      1.00      0.91         5\n",
      "           1       1.00      0.86      0.92         7\n",
      "\n",
      "    accuracy                           0.92        12\n",
      "   macro avg       0.92      0.93      0.92        12\n",
      "weighted avg       0.93      0.92      0.92        12\n",
      "\n"
     ]
    }
   ],
   "source": [
    "# running function\n",
    "evalute_for_model_dtc(for_dtc, X4_test, y4_test)"
   ]
  },
  {
   "cell_type": "code",
   "execution_count": 115,
   "id": "3c6eac20",
   "metadata": {},
   "outputs": [
    {
     "data": {
      "image/png": "[encoded data removed]",
      "text/plain": [
       "<Figure size 1800x1440 with 1 Axes>"
      ]
     },
     "metadata": {},
     "output_type": "display_data"
    }
   ],
   "source": [
    "from sklearn.tree import plot_tree\n",
    "\n",
    "fig = plt.figure(figsize=(25,20))\n",
    "_ = plot_tree(model_dtc, feature_names=X4_train.columns,  class_names=['1', '0'], filled=True)"
   ]
  },
  {
   "cell_type": "code",
   "execution_count": null,
   "id": "b41c672e",
   "metadata": {},
   "outputs": [],
   "source": []
  },
  {
   "cell_type": "code",
   "execution_count": null,
   "id": "06d3f1bf",
   "metadata": {},
   "outputs": [],
   "source": []
  }
 ],
 "metadata": {
  "kernelspec": {
   "display_name": "Python 3 (ipykernel)",
   "language": "python",
   "name": "python3"
  },
  "language_info": {
   "codemirror_mode": {
    "name": "ipython",
    "version": 3
   },
   "file_extension": ".py",
   "mimetype": "text/x-python",
   "name": "python",
   "nbconvert_exporter": "python",
   "pygments_lexer": "ipython3",
   "version": "3.8.11"
  }
 },
 "nbformat": 4,
 "nbformat_minor": 5
}
